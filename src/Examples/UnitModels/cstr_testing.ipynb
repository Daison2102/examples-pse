{
 "cells": [
  {
   "cell_type": "markdown",
   "metadata": {},
   "source": [
    "\n",
    "# Flowsheet CSTR Simulation and Optimization of Ethylene Glycol Production\n",
    "\n",
    "\n",
    "## Learning outcomes\n",
    "\n",
    "\n",
    "- Call and implement the IDAES CSTR unit model\n",
    "- Construct a steady-state flowsheet using the IDAES unit model library\n",
    "- Connecting unit models in a flowsheet using Arcs\n",
    "- Fomulate and solve an optimization problem\n",
    "    - Defining an objective function\n",
    "    - Setting variable bounds\n",
    "    - Adding additional constraints \n",
    "\n",
    "\n",
    "## Problem Statement\n",
    "\n",
    "This example is adapted from Fogler, H.S., Elements of Chemical Reaction Engineering 5th ed., 2016, Prentice Hall,  p. 157-160.\n",
    "\n",
    "Ethylene glycol (EG) is a high-demand chemical, with billions of pounds produced every year for applications such as vehicle anti-freeze. EG may be readily obtained from the hydrolysis of ethylene oxide in the presence of a catalytic intermediate. In this example, an aqueous solution of ethylene oxide hydrolizes after mixing with an aqueous solution of sulfuric acid catalyst:\n",
    "\n",
    "**C<sub>2</sub>H<sub>4</sub>O</sub> + H<sub>2</sub>O</sub> + H<sub>2</sub>S</sub>O<sub>4</sub> → C<sub>2</sub>H<sub>6</sub>O<sub>2</sub> + H<sub>2</sub>S</sub>O<sub>4</sub>**\n",
    "\n",
    "This reaction often occurs by two mechanisms, as the catalyst may bind to either reactant before the final hydrolysis step; we will simplify the reaction to a single step for this example.\n",
    "\n",
    "The flowsheet that we will be using for this module is shown below with the stream conditions. We will be processing ethylene oxide and catalyst solutions of fixed concentrations to produce 200 MM lb/year of EG. As shown in the flowsheet, the process consists of a mixer M101 for the two inlet streams, a heater H101 to preheat the feed to the reaction temperature, and a CSTR unit R101 with zero overall duty (external cooling required for the exothermic reaction). We will assume ideal solutions and thermodynamics for this flowsheet, as well as well-mixed liquid behavior (no vapor phase) in the reactor. The properties required for this module are available in the same directory:\n",
    "\n",
    "- egprod_ideal.py\n",
    "- egprod_reaction.py\n",
    "\n",
    "The state variables chosen for the property package are **molar flows of each component by phase in each stream, temperature of each stream and pressure of each stream**. The components considered are: **ethylene oxide, water, sulfuric acid and ethylene glycol** and the process occurs in liquid phase only. Therefore, every stream has 4 flow variables, 1 temperature and 1 pressure variable. \n",
    "\n",
    "![](egprod_flowsheet.png)\n"
   ]
  },
  {
   "cell_type": "markdown",
   "metadata": {},
   "source": [
    "## Importing required pyomo and idaes components\n",
    "\n",
    "\n",
    "To construct a flowsheet, we will need several components from the pyomo and idaes package. Let us first import the following components from Pyomo:\n",
    "- Constraint (to write constraints)\n",
    "- Var (to declare variables)\n",
    "- ConcreteModel (to create the concrete model object)\n",
    "- Expression (to evaluate values as a function of variables defined in the model)\n",
    "- Objective (to define an objective function for optimization)\n",
    "- SolverFactory (to solve the problem)\n",
    "- TransformationFactory (to apply certain transformations)\n",
    "- Arc (to connect two unit models)\n",
    "\n",
    "For further details on these components, please refer to the pyomo documentation: https://pyomo.readthedocs.io/en/latest/\n",
    "\n",
    "From idaes, we will be needing the FlowsheetBlock and the following unit models:\n",
    "- Mixer\n",
    "- Heater\n",
    "- CSTR\n",
    "\n",
    "We will also be needing some utility tools to put together the flowsheet and calculate the degrees of freedom.\n"
   ]
  },
  {
   "cell_type": "code",
   "execution_count": 1,
   "metadata": {},
   "outputs": [],
   "source": [
    "from pyomo.environ import (Constraint,\n",
    "                           exp,\n",
    "                           Var,\n",
    "                           ConcreteModel,\n",
    "                           Expression,\n",
    "                           Objective,\n",
    "                           SolverFactory,\n",
    "                           TransformationFactory,\n",
    "                           value,\n",
    "                           units as pyunits)\n",
    "from pyomo.network import Arc, SequentialDecomposition\n",
    "\n",
    "from idaes.core import FlowsheetBlock\n",
    "from idaes.generic_models.properties.core.generic.generic_property import (\n",
    "        GenericParameterBlock)\n",
    "from idaes.generic_models.properties.core.generic.generic_reaction import (\n",
    "        GenericReactionParameterBlock)\n",
    "from idaes.generic_models.unit_models import (Mixer,\n",
    "                                              Heater,\n",
    "                                              CSTR)\n",
    "\n",
    "from idaes.core.util.constants import Constants as c\n",
    "from idaes.core.util.model_statistics import degrees_of_freedom\n",
    "\n",
    "import idaes.logger as idaeslog"
   ]
  },
  {
   "cell_type": "markdown",
   "metadata": {},
   "source": [
    "## Importing required thermo and reaction package\n",
    "\n",
    "The final set of imports are to import the thermo and reaction package for the HDA process. We have created a custom thermo package that support ideal vapor and liquid behavior for this system, and in this case we will restrict it to ideal liquid behavior only.\n",
    "\n",
    "The reaction package here assumes Arrhenius kinetic behavior for the CSTR, for which $k_0$ and $E_a$ are known *a priori* (if unknown, they may be obtained using one of the parameter estimation tools within IDAES).\n",
    "\n",
    "$ r = -kVC_{EO} $, $ k = k_0 e^{(-E_a/RT)}$, with the variables as follows:\n",
    "\n",
    "$r$ - reaction rate extent in moles of ethylene oxide consumed per second; note that the traditional reaction rate would be given by $rate = r/V$ in moles per $m^3$ per second  \n",
    "$k$ - reaction rate constant per second  \n",
    "$V$ - volume of CSTR in $m^3$, note that this is *liquid volume* and not the *total volume* of the reactor itself  \n",
    "$C_{EO}$ - bulk concentration of ethylene oxide in moles per $m^3$ (the limiting reagent, since we assume excess catalyst and water)  \n",
    "$k_0$ - pre-exponential Arrhenius factor per second  \n",
    "$E_a$ - reaction activation energy in kJ per mole of ethylene oxide consumed  \n",
    "$R$ - gas constant in J/mol-K  \n",
    "$T$ - reactor temperature in K\n",
    "\n",
    "These calculations are contained within the property, reaction and unit model packages, and do not need to be entered into the flowsheet. More information on property estimation may be found below:\n",
    "\n",
    "ParamEst parameter estimation: https://idaes-pse.readthedocs.io/en/stable/user_guide/workflow/data_rec_parmest.html?highlight=paramest  \n",
    "HELMET thermodynamic estimation: https://idaes-pse.readthedocs.io/en/stable/user_guide/modeling_extensions/surrogate/helmet/index.html  \n",
    "RIPE reaction estimation: https://idaes-pse.readthedocs.io/en/stable/user_guide/modeling_extensions/surrogate/ripe/index.html  \n",
    "\n",
    "Let us import the following modules from the same directory as this jupyter notebook:\n",
    "      <ul>\n",
    "         <li>egprod_ideal as thermo_props</li>\n",
    "         <li>egprod_reaction as reaction_props </li>\n",
    "      </ul>\n",
    "</div>"
   ]
  },
  {
   "cell_type": "code",
   "execution_count": 2,
   "metadata": {},
   "outputs": [],
   "source": [
    "import egprod_ideal as thermo_props\n",
    "import egprod_reaction as reaction_props"
   ]
  },
  {
   "cell_type": "markdown",
   "metadata": {},
   "source": [
    "## Constructing the Flowsheet\n",
    "\n",
    "We have now imported all the components, unit models, and property modules we need to construct a flowsheet. Let us create a ConcreteModel and add the flowsheet block. "
   ]
  },
  {
   "cell_type": "code",
   "execution_count": 3,
   "metadata": {},
   "outputs": [],
   "source": [
    "m = ConcreteModel()\n",
    "m.fs = FlowsheetBlock(default={\"dynamic\": False})"
   ]
  },
  {
   "cell_type": "markdown",
   "metadata": {},
   "source": [
    "We now need to add the property packages to the flowsheet. Unlike Module 1, where we only had a thermo property package, for this flowsheet we will also need to add a reaction property package. We will use the Generic Property and Generic Reaction Frameworks; more information may be found on these methods at https://idaes-pse.readthedocs.io/en/1.8.0/user_guide/components/property_package/index.html."
   ]
  },
  {
   "cell_type": "code",
   "execution_count": 4,
   "metadata": {
    "scrolled": true
   },
   "outputs": [],
   "source": [
    "m.fs.thermo_params = GenericParameterBlock(default=thermo_props.config_dict)\n",
    "m.fs.reaction_params = GenericReactionParameterBlock(default={\"property_package\": m.fs.thermo_params,\n",
    "                                                              **reaction_props.config_dict})"
   ]
  },
  {
   "cell_type": "markdown",
   "metadata": {},
   "source": [
    "## Adding Unit Models\n",
    "\n",
    "Let us start adding the unit models we have imported to the flowsheet. Here, we are adding the Mixer (assigned a name M101) and a Heater (assigned a name H101). Note that all unit models need to be given a property package argument. In addition to that, there are several arguments depending on the unit model, please refer to the documentation for more details (https://idaes-pse.readthedocs.io/en/latest/model_libraries/core_lib/unit_models/index.html). For example, the Mixer unit model here is given a `list` consisting of names to the two inlets."
   ]
  },
  {
   "cell_type": "code",
   "execution_count": 5,
   "metadata": {
    "scrolled": true
   },
   "outputs": [],
   "source": [
    "m.fs.M101 = Mixer(default={\"property_package\": m.fs.thermo_params,\n",
    "                           \"inlet_list\": [\"reagent_feed\", \"catalyst_feed\"]})\n",
    "m.fs.H101 = Heater(default={\"property_package\": m.fs.thermo_params,\n",
    "                            \"has_pressure_change\": False,\n",
    "                            \"has_phase_equilibrium\": False})"
   ]
  },
  {
   "cell_type": "markdown",
   "metadata": {},
   "source": [
    "<div class=\"alert alert-block alert-info\">\n",
    "<b>Inline Exercise:</b>\n",
    "Let us now add the CSTR (assign the name R101) and pass the following arguments:\n",
    "      <ul>\n",
    "         <li>\"property_package\": m.fs.thermo_params</li>\n",
    "         <li>\"reaction_package\": m.fs.reaction_params </li>\n",
    "         <li>\"has_heat_of_reaction\": True </li>\n",
    "         <li>\"has_heat_transfer\": True</li>\n",
    "         <li>\"has_pressure_change\": False</li>\n",
    "      </ul>\n",
    "</div>"
   ]
  },
  {
   "cell_type": "code",
   "execution_count": 6,
   "metadata": {
    "tags": [
     "exercise"
    ]
   },
   "outputs": [],
   "source": [
    "#Todo: Add reactor with the specifications above\n"
   ]
  },
  {
   "cell_type": "code",
   "execution_count": 7,
   "metadata": {
    "scrolled": false,
    "tags": [
     "solution"
    ]
   },
   "outputs": [],
   "source": [
    "#Todo: Add reactor with the specifications above\n",
    "m.fs.R101 = CSTR(\n",
    "            default={\"property_package\": m.fs.thermo_params,\n",
    "                     \"reaction_package\": m.fs.reaction_params,\n",
    "                     \"has_heat_of_reaction\": True,\n",
    "                     \"has_heat_transfer\": True,\n",
    "                     \"has_pressure_change\": False})"
   ]
  },
  {
   "cell_type": "markdown",
   "metadata": {},
   "source": [
    "## Connecting Unit Models using Arcs\n",
    "\n",
    "We have now added all the unit models we need to the flowsheet. However, we have not yet specifed how the units are to be connected. To do this, we will be using the `Arc` which is a pyomo component that takes in two arguments: `source` and `destination`. Let us connect the outlet of the mixer(M101) to the inlet of the heater(H101). "
   ]
  },
  {
   "cell_type": "code",
   "execution_count": 8,
   "metadata": {},
   "outputs": [],
   "source": [
    "m.fs.s03 = Arc(source=m.fs.M101.outlet, destination=m.fs.H101.inlet)"
   ]
  },
  {
   "cell_type": "markdown",
   "metadata": {},
   "source": [
    "\n",
    "![](HDA_flowsheet.png) \n",
    "\n",
    "<div class=\"alert alert-block alert-info\">\n",
    "<b>Inline Exercise:</b>\n",
    "Now, connect the H101 outlet to the R101 inlet using the cell above as a guide. \n",
    "</div>\n",
    "\n"
   ]
  },
  {
   "cell_type": "code",
   "execution_count": 9,
   "metadata": {
    "tags": [
     "exercise"
    ]
   },
   "outputs": [],
   "source": [
    "#Todo: Connect the H101 outlet to R101 inlet\n"
   ]
  },
  {
   "cell_type": "code",
   "execution_count": 10,
   "metadata": {
    "tags": [
     "solution"
    ]
   },
   "outputs": [],
   "source": [
    "#Todo: Connect the H101 outlet to R101 inlet\n",
    "m.fs.s04 = Arc(source=m.fs.H101.outlet, destination=m.fs.R101.inlet)"
   ]
  },
  {
   "cell_type": "markdown",
   "metadata": {},
   "source": [
    "We have now connected the unit model block using the arcs. However, each of these arcs link to ports on the two unit models that are connected. In this case, the ports consist of the state variables that need to be linked between the unit models. Pyomo provides a convenient method to write these equality constraints for us between two ports and this is done as follows:"
   ]
  },
  {
   "cell_type": "code",
   "execution_count": 11,
   "metadata": {},
   "outputs": [],
   "source": [
    "TransformationFactory(\"network.expand_arcs\").apply_to(m)"
   ]
  },
  {
   "cell_type": "markdown",
   "metadata": {},
   "source": [
    "Finally, we will need to reference internal model/property attributes as part of the model specifications. There are no recycle streams or other objects which require tearing or specifying a sequential decomposition, so we can allow this by simply initializing the unit models as follows:"
   ]
  },
  {
   "cell_type": "code",
   "execution_count": 12,
   "metadata": {},
   "outputs": [
    {
     "name": "stdout",
     "output_type": "stream",
     "text": [
      "2021-10-06 12:32:01 [INFO] idaes.init.fs.M101.reagent_feed_state: Starting initialization\n",
      "2021-10-06 12:32:01 [INFO] idaes.init.fs.M101.reagent_feed_state: State variable initialization completed.\n",
      "2021-10-06 12:32:01 [INFO] idaes.init.fs.M101.reagent_feed_state: Property initialization: optimal - Optimal Solution Found.\n",
      "2021-10-06 12:32:01 [INFO] idaes.init.fs.M101.catalyst_feed_state: Starting initialization\n",
      "2021-10-06 12:32:01 [INFO] idaes.init.fs.M101.catalyst_feed_state: State variable initialization completed.\n",
      "2021-10-06 12:32:01 [INFO] idaes.init.fs.M101.catalyst_feed_state: Property initialization: optimal - Optimal Solution Found.\n",
      "2021-10-06 12:32:01 [INFO] idaes.init.fs.M101.mixed_state: Starting initialization\n",
      "2021-10-06 12:32:01 [INFO] idaes.init.fs.M101.mixed_state: State variable initialization completed.\n",
      "2021-10-06 12:32:01 [INFO] idaes.init.fs.M101.mixed_state: Property initialization: optimal - Optimal Solution Found.\n",
      "2021-10-06 12:32:01 [INFO] idaes.init.fs.M101.mixed_state: Property package initialization: optimal - Optimal Solution Found.\n",
      "2021-10-06 12:32:02 [INFO] idaes.init.fs.M101: Initialization Complete: optimal - Optimal Solution Found\n",
      "2021-10-06 12:32:02 [INFO] idaes.init.fs.H101.control_volume.properties_in: Starting initialization\n",
      "2021-10-06 12:32:02 [INFO] idaes.init.fs.H101.control_volume.properties_in: State variable initialization completed.\n",
      "2021-10-06 12:32:02 [INFO] idaes.init.fs.H101.control_volume.properties_in: Property initialization: optimal - Optimal Solution Found.\n",
      "2021-10-06 12:32:02 [INFO] idaes.init.fs.H101.control_volume.properties_out: Starting initialization\n",
      "2021-10-06 12:32:02 [INFO] idaes.init.fs.H101.control_volume.properties_out: State variable initialization completed.\n",
      "2021-10-06 12:32:02 [INFO] idaes.init.fs.H101.control_volume.properties_out: Property initialization: optimal - Optimal Solution Found.\n",
      "2021-10-06 12:32:02 [INFO] idaes.init.fs.H101.control_volume: Initialization Complete\n",
      "2021-10-06 12:32:02 [INFO] idaes.init.fs.H101: Initialization Complete: optimal - Optimal Solution Found\n",
      "2021-10-06 12:32:02 [INFO] idaes.init.fs.R101.control_volume.properties_in: Starting initialization\n",
      "2021-10-06 12:32:02 [INFO] idaes.init.fs.R101.control_volume.properties_in: State variable initialization completed.\n",
      "2021-10-06 12:32:02 [INFO] idaes.init.fs.R101.control_volume.properties_in: Property initialization: optimal - Optimal Solution Found.\n",
      "2021-10-06 12:32:02 [INFO] idaes.init.fs.R101.control_volume.properties_out: Starting initialization\n",
      "2021-10-06 12:32:02 [INFO] idaes.init.fs.R101.control_volume.properties_out: State variable initialization completed.\n",
      "2021-10-06 12:32:02 [INFO] idaes.init.fs.R101.control_volume.properties_out: Property initialization: optimal - Optimal Solution Found.\n",
      "2021-10-06 12:32:02 [INFO] idaes.init.fs.R101.control_volume.reactions: Initialization Complete.\n",
      "2021-10-06 12:32:02 [INFO] idaes.init.fs.R101.control_volume: Initialization Complete\n",
      "2021-10-06 12:32:02 [INFO] idaes.init.fs.R101: Initialization Complete: optimal - Optimal Solution Found\n"
     ]
    }
   ],
   "source": [
    "m.fs.M101.initialize(outlvl=idaeslog.INFO)\n",
    "m.fs.H101.initialize(outlvl=idaeslog.INFO)\n",
    "m.fs.R101.initialize(outlvl=idaeslog.INFO)"
   ]
  },
  {
   "cell_type": "markdown",
   "metadata": {},
   "source": [
    "## Adding expressions to compute operating costs\n",
    "\n",
    "In this section, we will add a few Expressions that allows us to evaluate the performance. Expressions provide a convenient way of calculating certain values that are a function of the variables defined in the model. For more details on Expressions, please refer to: https://pyomo.readthedocs.io/en/latest/pyomo_modeling_components/Expressions.html\n",
    "\n",
    "For this flowsheet, we are interested in computing ethylene glycol production in millions of pounds per year, as well as the total costs due to cooling and heating utilities:"
   ]
  },
  {
   "cell_type": "markdown",
   "metadata": {},
   "source": [
    "Let us first add an Expression to convert the product flow from mol/s to MM lb/year of ethylene glycol. We see that our molecular weight exists in the thermo property package, so we may use that value for our calculations."
   ]
  },
  {
   "cell_type": "code",
   "execution_count": 13,
   "metadata": {},
   "outputs": [],
   "source": [
    "m.fs.eg_prod = Expression(expr=m.fs.R101.outlet.flow_mol_phase_comp[0, \"Liq\", \"ethylene_glycol\"]*3600*24*365 # converting /s to /year\n",
    "                          *m.fs.thermo_params.ethylene_glycol.mw # molecular weight from property package\n",
    "                          *(2.205)/(1E6)) # convert from kg to MM lb"
   ]
  },
  {
   "cell_type": "markdown",
   "metadata": {},
   "source": [
    "Now, let us add expressions to compute the reactor cooling cost (\\\\$/s) assuming a cost of 0.212E-4 \\\\$/kW, and the heating utility cost (\\\\$/s) assuming 2.2E-4 \\\\$/kW. Note that the heat duty is in units of watt (J/s). The total operating cost will be the sum of the two, expressed in \\\\$/year assuming 8000 operating hours per year."
   ]
  },
  {
   "cell_type": "code",
   "execution_count": 14,
   "metadata": {},
   "outputs": [],
   "source": [
    "m.fs.cooling_cost = Expression(expr=0.212e-7 * (-m.fs.R101.heat_duty[0]))  # the reaction is exothermic, so R101 duty is negative\n",
    "m.fs.heating_cost = Expression(expr=2.2e-7 * m.fs.H101.heat_duty[0])  # the stream must be heated to T_rxn, so H101 duty is positive\n",
    "m.fs.operating_cost = Expression(expr=(3600 * 8000 *(m.fs.heating_cost + m.fs.cooling_cost)))"
   ]
  },
  {
   "cell_type": "markdown",
   "metadata": {},
   "source": [
    "## Fixing feed conditions\n",
    "\n",
    "Let us first check how many degrees of freedom exist for this flowsheet using the `degrees_of_freedom` tool we imported earlier. We expect each stream to have 6 degrees of freedom, the mixer to have 0 (after both streams are accounted for), the heater to have 1 (just the duty, since the inlet is also the outlet of M101), and the reactor to have 1 (duty or conversion, since the inlet is also the outlet of H101). In this case, the reactor has an extra degree of freedom (reactor conversion or reactor volume) since we have not yet defined the CSTR performance equation."
   ]
  },
  {
   "cell_type": "code",
   "execution_count": 15,
   "metadata": {
    "scrolled": true
   },
   "outputs": [
    {
     "name": "stdout",
     "output_type": "stream",
     "text": [
      "15\n",
      "0\n",
      "1\n",
      "2\n"
     ]
    }
   ],
   "source": [
    "print(degrees_of_freedom(m))  # (6 per stream x 2 streams) + (3 from units) = 15 DOF\n",
    "print(degrees_of_freedom(m.fs.M101) - 12)  # 2 inlets, so subtract those 12 DOF\n",
    "print(degrees_of_freedom(m.fs.H101) - 6)   # 1 inlet, so subtract those 6 DOF\n",
    "print(degrees_of_freedom(m.fs.R101) - 6)   # 1 inlet, so subtract those 6 DOF"
   ]
  },
  {
   "cell_type": "code",
   "execution_count": 16,
   "metadata": {
    "tags": [
     "testing",
     "remove_cell"
    ]
   },
   "outputs": [],
   "source": [
    "# Check the degrees of freedom\n",
    "assert degrees_of_freedom(m) == 15\n",
    "assert degrees_of_freedom(m.fs.M101) - 12 == 0\n",
    "assert degrees_of_freedom(m.fs.H101) - 6 == 1\n",
    "assert degrees_of_freedom(m.fs.R101) - 6 == 2"
   ]
  },
  {
   "cell_type": "markdown",
   "metadata": {},
   "source": [
    "We will now be fixing the feed stream to the conditions shown in the flowsheet above. As mentioned in other tutorials, the IDAES framework expects a time index value for every referenced internal stream or unit variable, even in steady-state systems with a single time point $ t = 0 $. The non-present components in each stream are assigned a very small non-zero value to help with convergence and initializing. Based on stoichiometric ratios for the reaction, 80% conversion and 200 MM lb/year (46.4 mol/s) of ethylene glycol, we will initialize our simulation with the following calculated values:"
   ]
  },
  {
   "cell_type": "code",
   "execution_count": 17,
   "metadata": {},
   "outputs": [],
   "source": [
    "m.fs.M101.reagent_feed.flow_mol_phase_comp[0, \"Liq\", \"ethylene_oxide\"].fix(58.0)\n",
    "m.fs.M101.reagent_feed.flow_mol_phase_comp[0, \"Liq\", \"water\"].fix(39.6)  # calculated from 16.1 mol EO / cudm in stream\n",
    "m.fs.M101.reagent_feed.flow_mol_phase_comp[0, \"Liq\", \"sulfuric_acid\"].fix(1e-5)\n",
    "m.fs.M101.reagent_feed.flow_mol_phase_comp[0, \"Liq\", \"ethylene_glycol\"].fix(1e-5)\n",
    "m.fs.M101.reagent_feed.temperature.fix(298.15)\n",
    "m.fs.M101.reagent_feed.pressure.fix(1e5)\n",
    "\n",
    "m.fs.M101.catalyst_feed.flow_mol_phase_comp[0, \"Liq\", \"ethylene_oxide\"].fix(1e-5)\n",
    "m.fs.M101.catalyst_feed.flow_mol_phase_comp[0, \"Liq\", \"water\"].fix(200)\n",
    "m.fs.M101.catalyst_feed.flow_mol_phase_comp[0, \"Liq\", \"sulfuric_acid\"].fix(0.334)  # calculated from 0.9 wt% SA in stream\n",
    "m.fs.M101.catalyst_feed.flow_mol_phase_comp[0, \"Liq\", \"ethylene_glycol\"].fix(1e-5)\n",
    "m.fs.M101.catalyst_feed.temperature.fix(298.15)\n",
    "m.fs.M101.catalyst_feed.pressure.fix(1e5)"
   ]
  },
  {
   "cell_type": "markdown",
   "metadata": {},
   "source": [
    "## Fixing unit model specifications\n",
    "\n",
    "Now that we have fixed our inlet feed conditions, we will now be fixing the operating conditions for the unit models in the flowsheet. Let us initialize H101 with an outlet temperature of 328.15 K. "
   ]
  },
  {
   "cell_type": "code",
   "execution_count": 18,
   "metadata": {},
   "outputs": [],
   "source": [
    "m.fs.H101.outlet.temperature.fix(328.15)"
   ]
  },
  {
   "cell_type": "markdown",
   "metadata": {},
   "source": [
    "We'll add constraints defining the reactor volume and conversion in relation to the stream properties. Particularly, we want to use our CSTR performance relation:  \n",
    "\n",
    "$V = \\frac{v_0 X} {k(1-X)}$, where the CSTR reaction volume $V$ will be specified, the inlet volumetric flow $v_0$ is determined by stream properties, $k$ is calculated by the reaction package, and $X$ will be calculated. Reactor volume is commonly selected as a specification in simulation problems, and choosing conversion is often to perform reactor design.\n",
    "\n",
    "We will assume that 80% of our total reactor volume is working volume (CSTR reaction volume). For the CSTR, we have to define the conversion in terms of ethylene oxide as well as the CSTR reaction volume. This requires us to create new variables and constraints relating reactor properties to stream properties.  Note that the CSTR reaction volume variable (m.fs.R101.volume) does not need to be defined here since it is internally defined by the CSTR model. Additionally, the heat duty is not fixed, since the heat of reaction depends on the reactor conversion (through the extent of reaction and heat of reaction)."
   ]
  },
  {
   "cell_type": "code",
   "execution_count": 19,
   "metadata": {},
   "outputs": [],
   "source": [
    "m.fs.R101.total_volume = Var(initialize=6.9225, bounds=(0, 15))  # m^3\n",
    "m.fs.R101.conversion = Var(initialize=0.80, bounds=(0, 1))  # fraction\n",
    "\n",
    "m.fs.R101.conv_constraint = Constraint(\n",
    "    expr=m.fs.R101.conversion*m.fs.R101.inlet.\n",
    "    flow_mol_phase_comp[0, \"Liq\", \"ethylene_oxide\"] ==\n",
    "    (m.fs.R101.inlet.flow_mol_phase_comp[0, \"Liq\", \"ethylene_oxide\"] -\n",
    "     m.fs.R101.outlet.flow_mol_phase_comp[0, \"Liq\", \"ethylene_oxide\"]))\n",
    "\n",
    "m.fs.R101.vol_constraint = Constraint(\n",
    "    expr=m.fs.R101.volume[0] == 0.80*m.fs.R101.total_volume)\n",
    "\n",
    "m.fs.R101.rate_constant = Expression(\n",
    "    expr=m.fs.reaction_params.reaction_R1.arrhenius_const *\n",
    "    exp(-m.fs.reaction_params.reaction_R1.energy_activation /\n",
    "        (c.gas_constant*m.fs.R101.control_volume.properties_in[0].temperature)))  # r = k[EO], k = [/s]\n",
    "\n",
    "m.fs.R101.perf_eqn_constraint = Constraint(\n",
    "    expr=m.fs.R101.volume[0] == (2*3.62e-3)*m.fs.R101.conversion /\n",
    "    (m.fs.R101.rate_constant*(1 - m.fs.R101.conversion)))  # 2 streams, each with 3.62 cudm/s flow\n",
    "\n",
    "m.fs.R101.total_volume.fix(6.9225)  # m^3"
   ]
  },
  {
   "cell_type": "markdown",
   "metadata": {},
   "source": [
    "<div class=\"alert alert-block alert-info\">\n",
    "<b>Inline Exercise:</b>\n",
    "We have now defined all the feed conditions and the inputs required for the unit models. The system should now have 0 degrees of freedom i.e. should be a square problem. Please check that the degrees of freedom is 0. \n",
    "\n",
    "Use Shift+Enter to run the cell once you have typed in your code. \n",
    "</div>"
   ]
  },
  {
   "cell_type": "code",
   "execution_count": 20,
   "metadata": {
    "tags": [
     "exercise"
    ]
   },
   "outputs": [],
   "source": [
    "#Todo: print the degrees of freedom\n"
   ]
  },
  {
   "cell_type": "code",
   "execution_count": 21,
   "metadata": {
    "tags": [
     "solution"
    ]
   },
   "outputs": [
    {
     "name": "stdout",
     "output_type": "stream",
     "text": [
      "0\n"
     ]
    }
   ],
   "source": [
    "print(degrees_of_freedom(m))"
   ]
  },
  {
   "cell_type": "code",
   "execution_count": 22,
   "metadata": {
    "tags": [
     "testing",
     "remove_cell"
    ]
   },
   "outputs": [],
   "source": [
    "# Check the degrees of freedom\n",
    "assert degrees_of_freedom(m) == 0"
   ]
  },
  {
   "cell_type": "markdown",
   "metadata": {},
   "source": [
    "Finally, we can initialize and solve this square problem to obtain an initial feasible state for our optimization."
   ]
  },
  {
   "cell_type": "markdown",
   "metadata": {},
   "source": [
    "<div class=\"alert alert-block alert-info\">\n",
    "<b>Inline Exercise:</b>\n",
    "We have now initialized the flowsheet. Let us run the flowsheet in a simulation mode to look at the results. To do this, complete the last line of code where we pass the model to the solver. You will need to type the following:\n",
    "    \n",
    "results = solver.solve(m, tee=True)\n",
    "\n",
    "Use Shift+Enter to run the cell once you have typed in your code. \n",
    "</div>\n",
    "\n"
   ]
  },
  {
   "cell_type": "code",
   "execution_count": 23,
   "metadata": {
    "tags": [
     "exercise"
    ]
   },
   "outputs": [],
   "source": [
    "# Create the solver object\n",
    "\n",
    "\n",
    "# Solve the model\n"
   ]
  },
  {
   "cell_type": "code",
   "execution_count": 24,
   "metadata": {
    "tags": [
     "solution"
    ]
   },
   "outputs": [
    {
     "name": "stdout",
     "output_type": "stream",
     "text": [
      "Ipopt 3.13.2: tol=1e-06\n",
      "max_iter=5000\n",
      "\n",
      "\n",
      "******************************************************************************\n",
      "This program contains Ipopt, a library for large-scale nonlinear optimization.\n",
      " Ipopt is released as open source code under the Eclipse Public License (EPL).\n",
      "         For more information visit http://projects.coin-or.org/Ipopt\n",
      "\n",
      "This version of Ipopt was compiled from source code available at\n",
      "    https://github.com/IDAES/Ipopt as part of the Institute for the Design of\n",
      "    Advanced Energy Systems Process Systems Engineering Framework (IDAES PSE\n",
      "    Framework) Copyright (c) 2018-2019. See https://github.com/IDAES/idaes-pse.\n",
      "\n",
      "This version of Ipopt was compiled using HSL, a collection of Fortran codes\n",
      "    for large-scale scientific computation.  All technical papers, sales and\n",
      "    publicity material resulting from use of the HSL codes within IPOPT must\n",
      "    contain the following acknowledgement:\n",
      "        HSL, a collection of Fortran codes for large-scale scientific\n",
      "        computation. See http://www.hsl.rl.ac.uk.\n",
      "******************************************************************************\n",
      "\n",
      "This is Ipopt version 3.13.2, running with linear solver ma27.\n",
      "\n",
      "Number of nonzeros in equality constraint Jacobian...:      245\n",
      "Number of nonzeros in inequality constraint Jacobian.:        0\n",
      "Number of nonzeros in Lagrangian Hessian.............:      239\n",
      "\n",
      "Total number of variables............................:       68\n",
      "                     variables with only lower bounds:        0\n",
      "                variables with lower and upper bounds:       30\n",
      "                     variables with only upper bounds:        0\n",
      "Total number of equality constraints.................:       68\n",
      "Total number of inequality constraints...............:        0\n",
      "        inequality constraints with only lower bounds:        0\n",
      "   inequality constraints with lower and upper bounds:        0\n",
      "        inequality constraints with only upper bounds:        0\n",
      "\n",
      "iter    objective    inf_pr   inf_du lg(mu)  ||d||  lg(rg) alpha_du alpha_pr  ls\n",
      "   0  0.0000000e+00 2.14e+08 0.00e+00  -1.0 0.00e+00    -  0.00e+00 0.00e+00   0\n",
      "   1  0.0000000e+00 8.40e+07 2.61e+06  -1.0 1.28e+07    -  4.13e-01 6.79e-01h  1\n",
      "   2  0.0000000e+00 8.06e+07 2.52e+06  -1.0 1.94e+06    -  4.37e-02 3.66e-02H  1\n",
      "   3  0.0000000e+00 7.75e+07 2.40e+06  -1.0 1.94e+06    -  3.42e-04 3.82e-02f  2\n",
      "   4  0.0000000e+00 1.30e+07 1.02e+08  -1.0 1.79e+06    -  5.86e-01 9.90e-01h  1\n",
      "   5  0.0000000e+00 1.91e+05 1.77e+07  -1.0 1.49e+04    -  8.08e-01 9.90e-01h  1\n",
      "   6  0.0000000e+00 1.28e+03 3.83e+08  -1.0 7.08e+04    -  6.78e-01 9.93e-01h  1\n",
      "   7  0.0000000e+00 1.92e+03 4.26e+08  -1.0 1.32e+05    -  6.82e-02 1.00e+00h  1\n",
      "   8  0.0000000e+00 5.51e+03 5.84e+07  -1.0 2.24e+05    -  7.25e-01 1.00e+00h  1\n",
      "   9  0.0000000e+00 1.14e+04 6.61e+06  -1.0 3.25e+05    -  9.90e-01 1.00e+00h  1\n",
      "iter    objective    inf_pr   inf_du lg(mu)  ||d||  lg(rg) alpha_du alpha_pr  ls\n",
      "  10  0.0000000e+00 1.27e+04 2.91e+06  -1.0 3.47e+05    -  9.93e-01 1.00e+00h  1\n",
      "  11  0.0000000e+00 4.37e+03 7.36e+05  -1.0 2.07e+05    -  1.00e+00 1.00e+00h  1\n",
      "  12  0.0000000e+00 1.83e+02 4.31e+04  -1.0 4.30e+04    -  1.00e+00 1.00e+00h  1\n",
      "  13  0.0000000e+00 1.86e-01 8.33e+01  -1.0 1.38e+03    -  1.00e+00 1.00e+00h  1\n",
      "  14  0.0000000e+00 1.83e-07 1.56e-04  -1.0 1.34e+00    -  1.00e+00 1.00e+00h  1\n",
      "Cannot recompute multipliers for feasibility problem.  Error in eq_mult_calculator\n",
      "\n",
      "Number of Iterations....: 14\n",
      "\n",
      "                                   (scaled)                 (unscaled)\n",
      "Objective...............:   0.0000000000000000e+00    0.0000000000000000e+00\n",
      "Dual infeasibility......:   4.9975011493753118e+03    4.9975011493753118e+03\n",
      "Constraint violation....:   1.5205614545266144e-11    1.8347054719924927e-07\n",
      "Complementarity.........:   0.0000000000000000e+00    0.0000000000000000e+00\n",
      "Overall NLP error.......:   1.5205614545266144e-11    4.9975011493753118e+03\n",
      "\n",
      "\n",
      "Number of objective function evaluations             = 19\n",
      "Number of objective gradient evaluations             = 15\n",
      "Number of equality constraint evaluations            = 19\n",
      "Number of inequality constraint evaluations          = 0\n",
      "Number of equality constraint Jacobian evaluations   = 15\n",
      "Number of inequality constraint Jacobian evaluations = 0\n",
      "Number of Lagrangian Hessian evaluations             = 14\n",
      "Total CPU secs in IPOPT (w/o function evaluations)   =      0.008\n",
      "Total CPU secs in NLP function evaluations           =      0.002\n",
      "\n",
      "EXIT: Optimal Solution Found.\n"
     ]
    }
   ],
   "source": [
    "# Create the solver object\n",
    "solver = SolverFactory('ipopt')\n",
    "solver.options = {'tol': 1e-6, 'max_iter': 5000}\n",
    "\n",
    "# Solve the model\n",
    "results = solver.solve(m, tee=True)"
   ]
  },
  {
   "cell_type": "code",
   "execution_count": 25,
   "metadata": {
    "tags": [
     "testing",
     "remove_cell"
    ]
   },
   "outputs": [],
   "source": [
    "# Check solver solve status\n",
    "from pyomo.environ import TerminationCondition\n",
    "assert results.solver.termination_condition == TerminationCondition.optimal"
   ]
  },
  {
   "cell_type": "markdown",
   "metadata": {},
   "source": [
    "## Analyze the results of the square problem\n",
    "\n",
    "\n",
    "What is the total operating cost? "
   ]
  },
  {
   "cell_type": "code",
   "execution_count": 26,
   "metadata": {},
   "outputs": [
    {
     "name": "stdout",
     "output_type": "stream",
     "text": [
      "operating cost = $ 3451436.655781345  per year\n"
     ]
    }
   ],
   "source": [
    "print('operating cost = $', value(m.fs.operating_cost), ' per year')"
   ]
  },
  {
   "cell_type": "code",
   "execution_count": 27,
   "metadata": {
    "tags": [
     "testing",
     "remove_cell"
    ]
   },
   "outputs": [],
   "source": [
    "import pytest\n",
    "assert value(m.fs.operating_cost) == pytest.approx(3451436.6558, abs=1e-3)"
   ]
  },
  {
   "cell_type": "markdown",
   "metadata": {},
   "source": [
    "For this operating cost, what conversion did we achieve of ethylene oxide to ethylene glycol? "
   ]
  },
  {
   "cell_type": "code",
   "execution_count": 28,
   "metadata": {},
   "outputs": [
    {
     "name": "stdout",
     "output_type": "stream",
     "text": [
      "\n",
      "====================================================================================\n",
      "Unit : fs.R101                                                             Time: 0.0\n",
      "------------------------------------------------------------------------------------\n",
      "    Unit Performance\n",
      "\n",
      "    Variables: \n",
      "\n",
      "    Key       : Value       : Fixed : Bounds\n",
      "    Heat Duty : -5.6457e+06 : False : (None, None)\n",
      "       Volume :      5.5380 : False : (None, None)\n",
      "\n",
      "------------------------------------------------------------------------------------\n",
      "    Stream Table\n",
      "                                                 Inlet     Outlet  \n",
      "    Molar Flowrate ('Liq', 'ethylene_oxide')      58.000     11.690\n",
      "    Molar Flowrate ('Liq', 'water')               239.60     193.29\n",
      "    Molar Flowrate ('Liq', 'sulfuric_acid')      0.33401    0.33401\n",
      "    Molar Flowrate ('Liq', 'ethylene_glycol') 2.0000e-05     46.310\n",
      "    Temperature                                   328.15     328.46\n",
      "    Pressure                                  1.0000e+05 1.0000e+05\n",
      "====================================================================================\n",
      "\n",
      "Conversion achieved =  79.8449285975671 %\n",
      "\n",
      "Total CSTR volume required =  6.9225 m^3 =  1828.7310299700002  gal\n"
     ]
    }
   ],
   "source": [
    "m.fs.R101.report()\n",
    "\n",
    "print()\n",
    "print('Conversion achieved = ', value(m.fs.R101.conversion)*100, '%')\n",
    "print()\n",
    "print('Total CSTR volume required = ', value(m.fs.R101.total_volume), 'm^3 = ', 264.172052*value(m.fs.R101.total_volume), ' gal')"
   ]
  },
  {
   "cell_type": "code",
   "execution_count": 29,
   "metadata": {
    "tags": [
     "testing",
     "remove_cell"
    ]
   },
   "outputs": [],
   "source": [
    "assert value(m.fs.R101.conversion) == pytest.approx(0.79845, abs=1e-3)\n",
    "assert value(m.fs.R101.volume[0]) == pytest.approx(5.5380, abs=1e-3)\n",
    "assert value(m.fs.R101.heat_duty[0])/1E6 == pytest.approx(-5.6457, abs=1e-3)\n",
    "assert value(m.fs.R101.outlet.temperature[0])/1E2 == pytest.approx(3.2846, abs=1e-3)\n",
    "assert value(m.fs.R101.total_volume) == pytest.approx(6.9225, 1e-3)"
   ]
  },
  {
   "cell_type": "markdown",
   "metadata": {},
   "source": [
    "<div class=\"alert alert-block alert-info\">\n",
    "<b>Inline Exercise:</b>\n",
    "You can query additional variables here if you like. \n",
    "\n",
    "Use Shift+Enter to run the cell once you have typed in your code. \n",
    "</div>\n"
   ]
  },
  {
   "cell_type": "code",
   "execution_count": 30,
   "metadata": {},
   "outputs": [],
   "source": [
    "# Type below to call additional variables\n"
   ]
  },
  {
   "cell_type": "markdown",
   "metadata": {},
   "source": [
    "## Optimizing Ethylene Glycol Production\n",
    "\n",
    "Now that the flowsheet has been squared and solved, we can run a small optimization problem to minimize our production costs. Suppose we require at least 200 million pounds/year of ethylene glycol produced and at least 90% conversion of ethylene oxide, allowing for variable total reactor volume (considering operating/non-capital costs only) and reactor temperature (heater outlet)."
   ]
  },
  {
   "cell_type": "markdown",
   "metadata": {},
   "source": [
    "Let us declare our objective function for this problem. "
   ]
  },
  {
   "cell_type": "code",
   "execution_count": 31,
   "metadata": {},
   "outputs": [],
   "source": [
    "m.fs.objective = Objective(expr=m.fs.operating_cost)"
   ]
  },
  {
   "cell_type": "markdown",
   "metadata": {},
   "source": [
    "Now, we need to add the design constraints and unfix the decision variables as we had solved a square problem (degrees of freedom = 0) until now, as well as set bounds for the design variables:"
   ]
  },
  {
   "cell_type": "code",
   "execution_count": 32,
   "metadata": {},
   "outputs": [],
   "source": [
    "m.fs.eg_prod_con = Constraint(expr=m.fs.eg_prod >= 200)  # MM lb/year\n",
    "m.fs.conversion_con = Constraint(expr=m.fs.R101.conversion >= 0.90)  # fraction\n",
    "\n",
    "m.fs.R101.total_volume.unfix()\n",
    "m.fs.R101.total_volume.setlb(0)\n",
    "m.fs.R101.total_volume.setub(18.93)  # 5000 gal\n",
    "\n",
    "m.fs.H101.outlet.temperature.unfix()\n",
    "m.fs.H101.outlet.temperature[0].setlb(328.15)\n",
    "m.fs.H101.outlet.temperature[0].setub(470.45)  # highest component boiling point (ethylene glycol)"
   ]
  },
  {
   "cell_type": "code",
   "execution_count": 33,
   "metadata": {
    "tags": [
     "testing",
     "remove_cell"
    ]
   },
   "outputs": [],
   "source": [
    "assert degrees_of_freedom(m) == 2"
   ]
  },
  {
   "cell_type": "markdown",
   "metadata": {},
   "source": [
    "\n",
    "We have now defined the optimization problem and we are now ready to solve this problem. \n",
    "\n",
    "\n"
   ]
  },
  {
   "cell_type": "code",
   "execution_count": 34,
   "metadata": {},
   "outputs": [
    {
     "name": "stdout",
     "output_type": "stream",
     "text": [
      "Ipopt 3.13.2: tol=1e-06\n",
      "max_iter=5000\n",
      "\n",
      "\n",
      "******************************************************************************\n",
      "This program contains Ipopt, a library for large-scale nonlinear optimization.\n",
      " Ipopt is released as open source code under the Eclipse Public License (EPL).\n",
      "         For more information visit http://projects.coin-or.org/Ipopt\n",
      "\n",
      "This version of Ipopt was compiled from source code available at\n",
      "    https://github.com/IDAES/Ipopt as part of the Institute for the Design of\n",
      "    Advanced Energy Systems Process Systems Engineering Framework (IDAES PSE\n",
      "    Framework) Copyright (c) 2018-2019. See https://github.com/IDAES/idaes-pse.\n",
      "\n",
      "This version of Ipopt was compiled using HSL, a collection of Fortran codes\n",
      "    for large-scale scientific computation.  All technical papers, sales and\n",
      "    publicity material resulting from use of the HSL codes within IPOPT must\n",
      "    contain the following acknowledgement:\n",
      "        HSL, a collection of Fortran codes for large-scale scientific\n",
      "        computation. See http://www.hsl.rl.ac.uk.\n",
      "******************************************************************************\n",
      "\n",
      "This is Ipopt version 3.13.2, running with linear solver ma27.\n",
      "\n",
      "Number of nonzeros in equality constraint Jacobian...:      248\n",
      "Number of nonzeros in inequality constraint Jacobian.:        2\n",
      "Number of nonzeros in Lagrangian Hessian.............:      249\n",
      "\n",
      "Total number of variables............................:       70\n",
      "                     variables with only lower bounds:        0\n",
      "                variables with lower and upper bounds:       32\n",
      "                     variables with only upper bounds:        0\n",
      "Total number of equality constraints.................:       68\n",
      "Total number of inequality constraints...............:        2\n",
      "        inequality constraints with only lower bounds:        2\n",
      "   inequality constraints with lower and upper bounds:        0\n",
      "        inequality constraints with only upper bounds:        0\n",
      "\n",
      "iter    objective    inf_pr   inf_du lg(mu)  ||d||  lg(rg) alpha_du alpha_pr  ls\n",
      "   0  3.4514367e+06 2.49e+03 6.34e+00  -1.0 0.00e+00    -  0.00e+00 0.00e+00   0\n",
      "   1  3.4172967e+06 2.81e+03 2.49e+01  -1.0 9.47e+08    -  1.49e-03 5.91e-05f  1\n",
      "   2  3.4169458e+06 2.81e+03 2.08e+03  -1.0 3.15e+05    -  1.21e-01 1.49e-03f  1\n",
      "   3  3.4175740e+06 2.76e+03 1.58e+04  -1.0 5.98e+04    -  9.27e-01 1.78e-02h  1\n",
      "   4  3.4175805e+06 2.76e+03 4.01e+06  -1.0 5.88e+04    -  6.62e-02 1.81e-04h  1\n",
      "   5  3.4178977e+06 2.75e+03 6.85e+04  -1.0 7.71e+05    -  6.76e-06 6.73e-04h  1\n",
      "   6  3.8511391e+06 5.18e+03 7.75e+05  -1.0 7.73e+05    -  6.73e-04 9.18e-01H  1\n",
      "   7  3.8898496e+06 4.38e+02 2.88e+04  -1.0 6.34e+04    -  8.88e-01 1.00e+00h  1\n",
      "   8  3.8898342e+06 5.55e-02 2.93e+02  -1.0 2.54e+01    -  9.90e-01 1.00e+00f  1\n",
      "   9  3.8898336e+06 3.30e-05 1.34e+01  -2.5 7.00e-01    -  9.97e-01 1.00e+00f  1\n",
      "iter    objective    inf_pr   inf_du lg(mu)  ||d||  lg(rg) alpha_du alpha_pr  ls\n",
      "  10  3.8898336e+06 6.52e-09 4.77e-07  -5.7 4.95e-03    -  1.00e+00 1.00e+00f  1\n",
      "\n",
      "Number of Iterations....: 10\n",
      "\n",
      "                                   (scaled)                 (unscaled)\n",
      "Objective...............:   3.8898336398700969e+06    3.8898336398700969e+06\n",
      "Dual infeasibility......:   4.7683715820312500e-07    4.7683715820312500e-07\n",
      "Constraint violation....:   7.2759576141834259e-12    6.5192580223083496e-09\n",
      "Complementarity.........:   1.8536362808714796e-06    1.8536362808714796e-06\n",
      "Overall NLP error.......:   2.8337993833262322e-09    1.8536362808714796e-06\n",
      "\n",
      "\n",
      "Number of objective function evaluations             = 12\n",
      "Number of objective gradient evaluations             = 11\n",
      "Number of equality constraint evaluations            = 12\n",
      "Number of inequality constraint evaluations          = 12\n",
      "Number of equality constraint Jacobian evaluations   = 11\n",
      "Number of inequality constraint Jacobian evaluations = 11\n",
      "Number of Lagrangian Hessian evaluations             = 10\n",
      "Total CPU secs in IPOPT (w/o function evaluations)   =      0.004\n",
      "Total CPU secs in NLP function evaluations           =      0.001\n",
      "\n",
      "EXIT: Optimal Solution Found.\n"
     ]
    }
   ],
   "source": [
    "results = solver.solve(m, tee=True)"
   ]
  },
  {
   "cell_type": "code",
   "execution_count": 35,
   "metadata": {
    "tags": [
     "testing",
     "remove_cell"
    ]
   },
   "outputs": [],
   "source": [
    "# Check for solver solve status\n",
    "from pyomo.environ import TerminationCondition\n",
    "assert results.solver.termination_condition == TerminationCondition.optimal"
   ]
  },
  {
   "cell_type": "code",
   "execution_count": 36,
   "metadata": {},
   "outputs": [
    {
     "name": "stdout",
     "output_type": "stream",
     "text": [
      "operating cost = $ 3889833.6398700974 per year\n",
      "\n",
      "Heater results\n",
      "\n",
      "====================================================================================\n",
      "Unit : fs.H101                                                             Time: 0.0\n",
      "------------------------------------------------------------------------------------\n",
      "    Unit Performance\n",
      "\n",
      "    Variables: \n",
      "\n",
      "    Key       : Value  : Fixed : Bounds\n",
      "    Heat Duty : 698.60 : False : (None, None)\n",
      "\n",
      "------------------------------------------------------------------------------------\n",
      "    Stream Table\n",
      "                                                 Inlet     Outlet  \n",
      "    Molar Flowrate ('Liq', 'ethylene_oxide')      58.000     58.000\n",
      "    Molar Flowrate ('Liq', 'water')               239.60     239.60\n",
      "    Molar Flowrate ('Liq', 'sulfuric_acid')      0.33401    0.33401\n",
      "    Molar Flowrate ('Liq', 'ethylene_glycol') 2.0000e-05 2.0000e-05\n",
      "    Temperature                                   298.15     328.15\n",
      "    Pressure                                  1.0000e+05 1.0000e+05\n",
      "====================================================================================\n",
      "\n",
      "CSTR reactor results\n",
      "\n",
      "====================================================================================\n",
      "Unit : fs.R101                                                             Time: 0.0\n",
      "------------------------------------------------------------------------------------\n",
      "    Unit Performance\n",
      "\n",
      "    Variables: \n",
      "\n",
      "    Key       : Value       : Fixed : Bounds\n",
      "    Heat Duty : -6.3637e+06 : False : (None, None)\n",
      "       Volume :      12.581 : False : (None, None)\n",
      "\n",
      "------------------------------------------------------------------------------------\n",
      "    Stream Table\n",
      "                                                 Inlet     Outlet  \n",
      "    Molar Flowrate ('Liq', 'ethylene_oxide')      58.000     5.8000\n",
      "    Molar Flowrate ('Liq', 'water')               239.60     187.40\n",
      "    Molar Flowrate ('Liq', 'sulfuric_acid')      0.33401    0.33401\n",
      "    Molar Flowrate ('Liq', 'ethylene_glycol') 2.0000e-05     52.200\n",
      "    Temperature                                   328.15     329.27\n",
      "    Pressure                                  1.0000e+05 1.0000e+05\n",
      "====================================================================================\n"
     ]
    }
   ],
   "source": [
    "print('operating cost = $', value(m.fs.operating_cost), 'per year')\n",
    "\n",
    "print()\n",
    "print('Heater results')\n",
    "\n",
    "m.fs.H101.report()\n",
    "\n",
    "print()\n",
    "print('CSTR reactor results')\n",
    "\n",
    "m.fs.R101.report()"
   ]
  },
  {
   "cell_type": "code",
   "execution_count": 37,
   "metadata": {
    "tags": [
     "testing",
     "remove_cell"
    ]
   },
   "outputs": [],
   "source": [
    "assert value(m.fs.operating_cost) == pytest.approx(3889833.640, abs=1e-3)\n",
    "assert value(m.fs.R101.volume[0]) == pytest.approx(12.581, abs=1e-3)"
   ]
  },
  {
   "cell_type": "markdown",
   "metadata": {},
   "source": [
    "Display optimal values for the decision variables and design variables:"
   ]
  },
  {
   "cell_type": "code",
   "execution_count": 38,
   "metadata": {},
   "outputs": [
    {
     "name": "stdout",
     "output_type": "stream",
     "text": [
      "Optimal Values\n",
      "\n",
      "H101 outlet temperature =  328.15 K\n",
      "\n",
      "Total CSTR volume required =  15.72687246123877 m^3 =  4154.600169627736  gal\n",
      "\n",
      "Ethylene glycol produced =  225.299739029615 MM lb/year\n",
      "\n",
      "Conversion achieved =  89.99999900004272  %\n"
     ]
    }
   ],
   "source": [
    "print('Optimal Values')\n",
    "print()\n",
    "\n",
    "print('H101 outlet temperature = ', value(m.fs.H101.outlet.temperature[0]), 'K')\n",
    "\n",
    "print()\n",
    "print('Total CSTR volume required = ', value(m.fs.R101.total_volume), 'm^3 = ', 264.172052*value(m.fs.R101.total_volume), ' gal')\n",
    "\n",
    "print()\n",
    "print('Ethylene glycol produced = ', value(m.fs.eg_prod), 'MM lb/year')\n",
    "\n",
    "print()\n",
    "print('Conversion achieved = ', value(m.fs.R101.conversion)*100, ' %')"
   ]
  },
  {
   "cell_type": "code",
   "execution_count": 39,
   "metadata": {
    "tags": [
     "testing",
     "remove_cell"
    ]
   },
   "outputs": [],
   "source": [
    "assert value(m.fs.H101.outlet.temperature[0])/100 == pytest.approx(3.2815, abs=1e-3)\n",
    "assert value(m.fs.R101.total_volume) == pytest.approx(15.727, abs=1e-3)\n",
    "assert value(m.fs.eg_prod) == pytest.approx(225.300, abs=1e-3)\n",
    "assert value(m.fs.R101.conversion)*100 == pytest.approx(90.0, abs=1e-3)"
   ]
  },
  {
   "cell_type": "code",
   "execution_count": null,
   "metadata": {},
   "outputs": [],
   "source": []
  }
 ],
 "metadata": {
  "celltoolbar": "Tags",
  "kernelspec": {
   "display_name": "Python 3 (ipykernel)",
   "language": "python",
   "name": "python3"
  },
  "language_info": {
   "codemirror_mode": {
    "name": "ipython",
    "version": 3
   },
   "file_extension": ".py",
   "mimetype": "text/x-python",
   "name": "python",
   "nbconvert_exporter": "python",
   "pygments_lexer": "ipython3",
   "version": "3.8.5"
  }
 },
 "nbformat": 4,
 "nbformat_minor": 4
}
