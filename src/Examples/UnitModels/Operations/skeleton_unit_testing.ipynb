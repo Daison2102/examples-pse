{
 "cells": [
  {
   "cell_type": "markdown",
   "metadata": {},
   "source": [
    "# IDAES Skeleton Unit Model"
   ]
  },
  {
   "cell_type": "markdown",
   "metadata": {},
   "source": [
    "This notebook demonstrates usage of the IDAES Skeleton Unit Model, which provides a generic \"bares bones\" unit for user-defined models and custom variable and constraint sets. To allow maximum versatility, this unit may be defined as a surrogate model or a custom equation-oriented model. Users must add ports and variables that match connected models, and this is facilitated through a provided method to add port-variable sets.\n",
    "\n",
    "For users who wish to train surrogates with IDAES tools and insert obtained models into a flowsheet, see the more versatile `SurrogateBlock()` for streamlined integration."
   ]
  },
  {
   "cell_type": "markdown",
   "metadata": {},
   "source": [
    "We will begin with relevant imports. We will need basic Pyomo and IDAES components:"
   ]
  },
  {
   "cell_type": "code",
   "execution_count": 1,
   "metadata": {},
   "outputs": [
    {
     "name": "stdout",
     "output_type": "stream",
     "text": [
      "WARNING: DEPRECATED: The generic_models.unit_models package has been moved to\n",
      "    idaes.models.unit_models  (deprecated in 2.0.0.alpha0) (called from\n",
      "    <frozen importlib._bootstrap>:219)\n"
     ]
    }
   ],
   "source": [
    "import pytest\n",
    "from pyomo.environ import (check_optimal_termination,\n",
    "                           ConcreteModel,\n",
    "                           SolverFactory,\n",
    "                           Constraint,\n",
    "                           Var,\n",
    "                           Set,\n",
    "                           value,\n",
    "                           units as pyunits)\n",
    "from idaes.core import FlowsheetBlock\n",
    "from idaes.generic_models.unit_models import SkeletonUnitModel\n",
    "from idaes.core.util.model_statistics import degrees_of_freedom\n",
    "from pyomo.util.check_units import assert_units_consistent"
   ]
  },
  {
   "cell_type": "markdown",
   "metadata": {},
   "source": [
    "For demonstrative purposes, we will build a simple model manually defining state variables relations for two generic components. In this model, the variables specify an FcTP system where molar flow of each componet, temperature and pressure are selected as state variables. Users can use this structure to write custom relations between inlet and outlet streams; for example, defining outlet pressure using an explicit correlation or outlet flow of a specific component from a known accumulation or loss in the system."
   ]
  },
  {
   "cell_type": "code",
   "execution_count": 2,
   "metadata": {},
   "outputs": [],
   "source": [
    "m = ConcreteModel()\n",
    "m.fs = FlowsheetBlock(default={\"dynamic\": False})\n",
    "\n",
    "m.fs.skeleton = SkeletonUnitModel(default={\"dynamic\": False})\n",
    "m.fs.skeleton.comp_list = Set(initialize=[\"c1\", \"c2\"])  # two generic components\n",
    "\n",
    "# input vars for skeleton\n",
    "# m.fs.time is a pre-initialized Set belonging to the FlowsheetBlock; for dynamic=False, time=[0]\n",
    "m.fs.skeleton.flow_comp_in = Var(m.fs.time, m.fs.skeleton.comp_list, initialize=1.0, units=pyunits.mol/pyunits.s)\n",
    "m.fs.skeleton.temperature_in = Var(m.fs.time, initialize=298.15, units=pyunits.K)\n",
    "m.fs.skeleton.pressure_in = Var(m.fs.time, initialize=101, units=pyunits.kPa)\n",
    "\n",
    "# output vars for skeleton\n",
    "m.fs.skeleton.flow_comp_out = Var(m.fs.time, m.fs.skeleton.comp_list, initialize=1.0, units=pyunits.mol/pyunits.s)\n",
    "m.fs.skeleton.temperature_out = Var(m.fs.time, initialize=298.15, units=pyunits.K)\n",
    "m.fs.skeleton.pressure_out = Var(m.fs.time, initialize=101, units=pyunits.kPa)\n",
    "\n",
    "# Surrogate model equations\n",
    "\n",
    "# flow equation\n",
    "def rule_flow(m, t, i):\n",
    "    return m.flow_comp_out[t, i] == m.flow_comp_in[t, i]\n",
    "m.fs.skeleton.eq_flow = Constraint(m.fs.time, m.fs.skeleton.comp_list, rule=rule_flow)\n",
    "\n",
    "# note that all terms need to have consistent units - the \"10\" terms could be defined as separate variables with units\n",
    "m.fs.skeleton.eq_temperature = Constraint(expr=m.fs.skeleton.temperature_out[0]\n",
    "                                          == m.fs.skeleton.temperature_in[0] + 10*pyunits.K)\n",
    "m.fs.skeleton.eq_pressure = Constraint(expr=m.fs.skeleton.pressure_out[0]\n",
    "                                       == m.fs.skeleton.pressure_in[0] - 10*pyunits.kPa)\n",
    "\n",
    "# dictionaries relating state properties to custom variables\n",
    "inlet_dict = {\"flow_mol_comp\": m.fs.skeleton.flow_comp_in,\n",
    "              \"temperature\": m.fs.skeleton.temperature_in,\n",
    "              \"pressure\": m.fs.skeleton.pressure_in}\n",
    "outlet_dict = {\"flow_mol_comp\": m.fs.skeleton.flow_comp_out,\n",
    "               \"temperature\": m.fs.skeleton.temperature_out,\n",
    "               \"pressure\": m.fs.skeleton.pressure_out,}\n",
    "\n",
    "m.fs.skeleton.add_ports(name=\"inlet\", member_dict=inlet_dict)\n",
    "m.fs.skeleton.add_ports(name=\"outlet\", member_dict=outlet_dict)"
   ]
  },
  {
   "cell_type": "markdown",
   "metadata": {},
   "source": [
    "Let's see how many degrees of freedom the flowsheet has:"
   ]
  },
  {
   "cell_type": "code",
   "execution_count": 3,
   "metadata": {},
   "outputs": [
    {
     "name": "stdout",
     "output_type": "stream",
     "text": [
      "4\n"
     ]
    }
   ],
   "source": [
    "print(degrees_of_freedom(m))"
   ]
  },
  {
   "cell_type": "markdown",
   "metadata": {},
   "source": [
    "By specifying four input values, we obtain a square problem and can initialize and solve the flowsheet similar to other IDAES unit models. While IDAES largely restricts users to consistent units throughout an entire model to satisfy unit model constraints, the Skeleton model allows users to only include a few specific equations and easily allows custom units as well. As shown below, the flowsheet requires only that all pressures be in kPa rather than global usage of standard base units of Pa."
   ]
  },
  {
   "cell_type": "code",
   "execution_count": 4,
   "metadata": {},
   "outputs": [
    {
     "name": "stdout",
     "output_type": "stream",
     "text": [
      "2022-04-13 11:31:28 [INFO] idaes.init.fs.skeleton: Initialization completed using default method optimal - Optimal Solution Found.\n",
      "Ipopt 3.13.2: \n",
      "\n",
      "******************************************************************************\n",
      "This program contains Ipopt, a library for large-scale nonlinear optimization.\n",
      " Ipopt is released as open source code under the Eclipse Public License (EPL).\n",
      "         For more information visit http://projects.coin-or.org/Ipopt\n",
      "\n",
      "This version of Ipopt was compiled from source code available at\n",
      "    https://github.com/IDAES/Ipopt as part of the Institute for the Design of\n",
      "    Advanced Energy Systems Process Systems Engineering Framework (IDAES PSE\n",
      "    Framework) Copyright (c) 2018-2019. See https://github.com/IDAES/idaes-pse.\n",
      "\n",
      "This version of Ipopt was compiled using HSL, a collection of Fortran codes\n",
      "    for large-scale scientific computation.  All technical papers, sales and\n",
      "    publicity material resulting from use of the HSL codes within IPOPT must\n",
      "    contain the following acknowledgement:\n",
      "        HSL, a collection of Fortran codes for large-scale scientific\n",
      "        computation. See http://www.hsl.rl.ac.uk.\n",
      "******************************************************************************\n",
      "\n",
      "This is Ipopt version 3.13.2, running with linear solver ma27.\n",
      "\n",
      "Number of nonzeros in equality constraint Jacobian...:        4\n",
      "Number of nonzeros in inequality constraint Jacobian.:        0\n",
      "Number of nonzeros in Lagrangian Hessian.............:        0\n",
      "\n",
      "Total number of variables............................:        4\n",
      "                     variables with only lower bounds:        0\n",
      "                variables with lower and upper bounds:        0\n",
      "                     variables with only upper bounds:        0\n",
      "Total number of equality constraints.................:        4\n",
      "Total number of inequality constraints...............:        0\n",
      "        inequality constraints with only lower bounds:        0\n",
      "   inequality constraints with lower and upper bounds:        0\n",
      "        inequality constraints with only upper bounds:        0\n",
      "\n",
      "iter    objective    inf_pr   inf_du lg(mu)  ||d||  lg(rg) alpha_du alpha_pr  ls\n",
      "   0  0.0000000e+00 0.00e+00 0.00e+00  -1.0 0.00e+00    -  0.00e+00 0.00e+00   0\n",
      "\n",
      "Number of Iterations....: 0\n",
      "\n",
      "                                   (scaled)                 (unscaled)\n",
      "Objective...............:   0.0000000000000000e+00    0.0000000000000000e+00\n",
      "Dual infeasibility......:   0.0000000000000000e+00    0.0000000000000000e+00\n",
      "Constraint violation....:   0.0000000000000000e+00    0.0000000000000000e+00\n",
      "Complementarity.........:   0.0000000000000000e+00    0.0000000000000000e+00\n",
      "Overall NLP error.......:   0.0000000000000000e+00    0.0000000000000000e+00\n",
      "\n",
      "\n",
      "Number of objective function evaluations             = 1\n",
      "Number of objective gradient evaluations             = 1\n",
      "Number of equality constraint evaluations            = 1\n",
      "Number of inequality constraint evaluations          = 0\n",
      "Number of equality constraint Jacobian evaluations   = 1\n",
      "Number of inequality constraint Jacobian evaluations = 0\n",
      "Number of Lagrangian Hessian evaluations             = 0\n",
      "Total CPU secs in IPOPT (w/o function evaluations)   =      0.000\n",
      "Total CPU secs in NLP function evaluations           =      0.000\n",
      "\n",
      "EXIT: Optimal Solution Found.\n"
     ]
    }
   ],
   "source": [
    "m.fs.skeleton.inlet.flow_mol_comp[0, \"c1\"].fix(2*pyunits.mol/pyunits.s)\n",
    "m.fs.skeleton.inlet.flow_mol_comp[0, \"c2\"].fix(2*pyunits.mol/pyunits.s)\n",
    "m.fs.skeleton.inlet.temperature.fix(325*pyunits.K)\n",
    "m.fs.skeleton.inlet.pressure.fix(200*pyunits.kPa)\n",
    "\n",
    "assert degrees_of_freedom(m) == 0\n",
    "\n",
    "m.fs.skeleton.initialize()\n",
    "\n",
    "solver = SolverFactory('ipopt')\n",
    "results = solver.solve(m, tee = True)\n",
    "\n",
    "assert check_optimal_termination(results)\n",
    "assert_units_consistent(m)\n",
    "\n",
    "assert value(m.fs.skeleton.outlet.flow_mol_comp[0, \"c1\"]) == pytest.approx(2, abs=1e-3)\n",
    "assert value(m.fs.skeleton.outlet.flow_mol_comp[0, \"c2\"]) == pytest.approx(2, abs=1e-3)\n",
    "assert value(m.fs.skeleton.outlet.temperature[0]) == pytest.approx(335, abs=1e-3)\n",
    "assert value(m.fs.skeleton.outlet.pressure[0]) == pytest.approx(190, abs=1e-3)"
   ]
  },
  {
   "cell_type": "markdown",
   "metadata": {},
   "source": [
    "The Skeleton model allows for a custom, user-defined initialization scheme as well, as demonstrated below. Users can similarly introduce custom variable and constraint scaling using IDAES scaling tools (not demonstrated in this example):"
   ]
  },
  {
   "cell_type": "code",
   "execution_count": 5,
   "metadata": {},
   "outputs": [
    {
     "name": "stdout",
     "output_type": "stream",
     "text": [
      "Ipopt 3.13.2: \n",
      "\n",
      "******************************************************************************\n",
      "This program contains Ipopt, a library for large-scale nonlinear optimization.\n",
      " Ipopt is released as open source code under the Eclipse Public License (EPL).\n",
      "         For more information visit http://projects.coin-or.org/Ipopt\n",
      "\n",
      "This version of Ipopt was compiled from source code available at\n",
      "    https://github.com/IDAES/Ipopt as part of the Institute for the Design of\n",
      "    Advanced Energy Systems Process Systems Engineering Framework (IDAES PSE\n",
      "    Framework) Copyright (c) 2018-2019. See https://github.com/IDAES/idaes-pse.\n",
      "\n",
      "This version of Ipopt was compiled using HSL, a collection of Fortran codes\n",
      "    for large-scale scientific computation.  All technical papers, sales and\n",
      "    publicity material resulting from use of the HSL codes within IPOPT must\n",
      "    contain the following acknowledgement:\n",
      "        HSL, a collection of Fortran codes for large-scale scientific\n",
      "        computation. See http://www.hsl.rl.ac.uk.\n",
      "******************************************************************************\n",
      "\n",
      "This is Ipopt version 3.13.2, running with linear solver ma27.\n",
      "\n",
      "Number of nonzeros in equality constraint Jacobian...:        4\n",
      "Number of nonzeros in inequality constraint Jacobian.:        0\n",
      "Number of nonzeros in Lagrangian Hessian.............:        0\n",
      "\n",
      "Total number of variables............................:        4\n",
      "                     variables with only lower bounds:        0\n",
      "                variables with lower and upper bounds:        0\n",
      "                     variables with only upper bounds:        0\n",
      "Total number of equality constraints.................:        4\n",
      "Total number of inequality constraints...............:        0\n",
      "        inequality constraints with only lower bounds:        0\n",
      "   inequality constraints with lower and upper bounds:        0\n",
      "        inequality constraints with only upper bounds:        0\n",
      "\n",
      "iter    objective    inf_pr   inf_du lg(mu)  ||d||  lg(rg) alpha_du alpha_pr  ls\n",
      "   0  0.0000000e+00 1.00e+01 0.00e+00  -1.0 0.00e+00    -  0.00e+00 0.00e+00   0\n",
      "   1  0.0000000e+00 0.00e+00 0.00e+00  -1.0 1.00e+01    -  1.00e+00 1.00e+00h  1\n",
      "\n",
      "Number of Iterations....: 1\n",
      "\n",
      "                                   (scaled)                 (unscaled)\n",
      "Objective...............:   0.0000000000000000e+00    0.0000000000000000e+00\n",
      "Dual infeasibility......:   0.0000000000000000e+00    0.0000000000000000e+00\n",
      "Constraint violation....:   0.0000000000000000e+00    0.0000000000000000e+00\n",
      "Complementarity.........:   0.0000000000000000e+00    0.0000000000000000e+00\n",
      "Overall NLP error.......:   0.0000000000000000e+00    0.0000000000000000e+00\n",
      "\n",
      "\n",
      "Number of objective function evaluations             = 2\n",
      "Number of objective gradient evaluations             = 2\n",
      "Number of equality constraint evaluations            = 2\n",
      "Number of inequality constraint evaluations          = 0\n",
      "Number of equality constraint Jacobian evaluations   = 2\n",
      "Number of inequality constraint Jacobian evaluations = 0\n",
      "Number of Lagrangian Hessian evaluations             = 1\n",
      "Total CPU secs in IPOPT (w/o function evaluations)   =      0.003\n",
      "Total CPU secs in NLP function evaluations           =      0.000\n",
      "\n",
      "EXIT: Optimal Solution Found.\n",
      "\b\b\b\b\b\b\b\b\b\b\b\b\b\b"
     ]
    }
   ],
   "source": [
    "# rebuild the flowsheet\n",
    "m = ConcreteModel()\n",
    "m.fs = FlowsheetBlock(default={\"dynamic\": False})\n",
    "\n",
    "m.fs.skeleton = SkeletonUnitModel(default={\"dynamic\": False})\n",
    "m.fs.skeleton.comp_list = Set(initialize=[\"c1\", \"c2\"])  # two generic components\n",
    "\n",
    "# input vars for skeleton\n",
    "# m.fs.time is a pre-initialized Set belonging to the FlowsheetBlock; for dynamic=False, time=[0]\n",
    "m.fs.skeleton.flow_comp_in = Var(m.fs.time, m.fs.skeleton.comp_list, initialize=1.0, units=pyunits.mol/pyunits.s)\n",
    "m.fs.skeleton.temperature_in = Var(m.fs.time, initialize=298.15, units=pyunits.K)\n",
    "m.fs.skeleton.pressure_in = Var(m.fs.time, initialize=101, units=pyunits.kPa)\n",
    "\n",
    "# output vars for skeleton\n",
    "m.fs.skeleton.flow_comp_out = Var(m.fs.time, m.fs.skeleton.comp_list, initialize=1.0, units=pyunits.mol/pyunits.s)\n",
    "m.fs.skeleton.temperature_out = Var(m.fs.time, initialize=298.15, units=pyunits.K)\n",
    "m.fs.skeleton.pressure_out = Var(m.fs.time, initialize=101, units=pyunits.kPa)\n",
    "\n",
    "# Surrogate model equations\n",
    "\n",
    "# flow equation\n",
    "def rule_flow(m, t, i):\n",
    "    return m.flow_comp_out[t, i] == m.flow_comp_in[t, i]\n",
    "m.fs.skeleton.eq_flow = Constraint(m.fs.time, m.fs.skeleton.comp_list, rule=rule_flow)\n",
    "\n",
    "# note that all terms need to have consistent units - the \"10\" terms could be defined as separate variables with units\n",
    "m.fs.skeleton.eq_temperature = Constraint(expr=m.fs.skeleton.temperature_out[0]\n",
    "                                          == m.fs.skeleton.temperature_in[0] + 10*pyunits.K)\n",
    "m.fs.skeleton.eq_pressure = Constraint(expr=m.fs.skeleton.pressure_out[0]\n",
    "                                       == m.fs.skeleton.pressure_in[0] - 10*pyunits.kPa)\n",
    "\n",
    "# dictionaries relating state properties to custom variables\n",
    "inlet_dict = {\"flow_mol_comp\": m.fs.skeleton.flow_comp_in,\n",
    "              \"temperature\": m.fs.skeleton.temperature_in,\n",
    "              \"pressure\": m.fs.skeleton.pressure_in}\n",
    "outlet_dict = {\"flow_mol_comp\": m.fs.skeleton.flow_comp_out,\n",
    "               \"temperature\": m.fs.skeleton.temperature_out,\n",
    "               \"pressure\": m.fs.skeleton.pressure_out,}\n",
    "\n",
    "m.fs.skeleton.add_ports(name=\"inlet\", member_dict=inlet_dict)\n",
    "m.fs.skeleton.add_ports(name=\"outlet\", member_dict=outlet_dict)\n",
    "\n",
    "# custom initialization scheme\n",
    "m.fs.skeleton.inlet.flow_mol_comp[0, \"c1\"].fix(2*pyunits.mol/pyunits.s)\n",
    "m.fs.skeleton.inlet.flow_mol_comp[0, \"c2\"].fix(2*pyunits.mol/pyunits.s)\n",
    "m.fs.skeleton.inlet.temperature.fix(325*pyunits.K)\n",
    "m.fs.skeleton.inlet.pressure.fix(200*pyunits.kPa)\n",
    "\n",
    "assert degrees_of_freedom(m) == 0\n",
    "\n",
    "def my_initialize(unit, **kwargs):\n",
    "    # Callback for user provided initialization sequence\n",
    "    unit.eq_temperature.deactivate()\n",
    "    unit.eq_pressure.deactivate()\n",
    "    unit.outlet.temperature.fix(325*pyunits.K)\n",
    "    unit.outlet.pressure.fix(200*pyunits.kPa)\n",
    "\n",
    "    if degrees_of_freedom == 0:\n",
    "        solver.solve(unit)\n",
    "\n",
    "    unit.eq_temperature.activate()\n",
    "    unit.eq_pressure.activate()\n",
    "    unit.outlet.temperature.unfix()\n",
    "    unit.outlet.pressure.unfix()\n",
    "\n",
    "m.fs.skeleton.config.initializer = my_initialize\n",
    "m.fs.skeleton.initialize()\n",
    "\n",
    "solver = SolverFactory('ipopt')\n",
    "results = solver.solve(m, tee = True)\n",
    "\n",
    "assert check_optimal_termination(results)\n",
    "assert_units_consistent(m)\n",
    "\n",
    "assert value(m.fs.skeleton.outlet.flow_mol_comp[0, \"c1\"]) == pytest.approx(2, abs=1e-3)\n",
    "assert value(m.fs.skeleton.outlet.flow_mol_comp[0, \"c2\"]) == pytest.approx(2, abs=1e-3)\n",
    "assert value(m.fs.skeleton.outlet.temperature[0]) == pytest.approx(335, abs=1e-3)\n",
    "assert value(m.fs.skeleton.outlet.pressure[0]) == pytest.approx(190, abs=1e-3)"
   ]
  },
  {
   "cell_type": "code",
   "execution_count": null,
   "metadata": {},
   "outputs": [],
   "source": []
  }
 ],
 "metadata": {
  "celltoolbar": "Tags",
  "kernelspec": {
   "display_name": "Python 3 (ipykernel)",
   "language": "python",
   "name": "python3"
  },
  "language_info": {
   "codemirror_mode": {
    "name": "ipython",
    "version": 3
   },
   "file_extension": ".py",
   "mimetype": "text/x-python",
   "name": "python",
   "nbconvert_exporter": "python",
   "pygments_lexer": "ipython3",
   "version": "3.8.12"
  }
 },
 "nbformat": 4,
 "nbformat_minor": 2
}
