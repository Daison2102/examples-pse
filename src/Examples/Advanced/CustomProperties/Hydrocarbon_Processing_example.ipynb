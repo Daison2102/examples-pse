{
 "cells": [
  {
   "cell_type": "markdown",
   "metadata": {},
   "source": [
    "# Hydrocarbon Processing with cubic equation of state case study"
   ]
  },
  {
   "cell_type": "markdown",
   "metadata": {},
   "source": [
    "## 1. Introduction\n",
    "\n",
    "This Jupyter Notebook solves and optimizes a simple hydrocarbon processing unit. A property package has been created for hydrocarbon processing wivh includes methane, ethane, propane, n-butane, i-butane, ethylene, propene, butene, pentene, hexene, heptene and octene. Additionally, a sensitivity study is performed over the influence of temperature in the Gibbs reactor.\n",
    "\n",
    "### 1.1 Tutorial objectives\n",
    "\n",
    "The goals of this tutorial are:\n",
    "\n",
    "* Utilize the heat exchanger, gibbs reactor and flash unit models.\n",
    "* Utilize the Generic Property Package, which provides a flexible platform for users to build property packages by calling upon libraries of modular sub-models to build up complex property calculations with the least effort possible.\n",
    "* Demonstrate the use of arcs as streams connecting unit models\n",
    "* Save a jazon file to avoid initialization if it has been done before.\n",
    "* Demonstrate the sequential initialization approach, including the use of the propagate_state method in idaes/core/util/initialization.\n",
    "* Fix state variables for different conditions and initialize and solve the flowsheet for these conditions.\n",
    "* Solve problem in order to:\n",
    "    * Solve square problem\n",
    "    * Minimize operating costs\n",
    "* Create sensitivity analysis and create a plot from the results"
   ]
  },
  {
   "cell_type": "markdown",
   "metadata": {},
   "source": [
    "## 2. Problem Statement\n",
    "\n",
    "The flowsheet that we will be using for this module is shown below. We will be processing ethylene, propene and butene to produce pentene, hexene, heptene and octene. As shown in the flowsheet, there is a Gibbs reactor, R101, one flash tanks, F101 to separate out the non-condensibles. We will assume ideal gas for this flowsheet.\n",
    "\n",
    "![](HC_processing.png)\n",
    "\n",
    "The property package required for this module is available in the property example directory:\n",
    "\n",
    "- HC_PR.py (for VLE calcullations)\n",
    "- HC_PR_vap.py (for equipment that work only in vapor phase)\n",
    "\n",
    "The state variables chosen for the property package are **flows of component by phase, temperature and pressure**. The components considered are: **methane, ethane, propane, n-butane, i-butane, ethylene, propene, butene, pentene, hexene, heptene and octene**. Therefore, every stream has 8 flow variables, 1 temperature and 1 pressure variable. \n",
    "\n",
    "In this example, we will simulate the following cases:\n",
    "\n",
    "* Case 1: Solve square problem.\n",
    "* Case 2: Minimize operating costs.\n",
    "* Sensitivity Analysis 1: Temperature in the Gibbs reactor."
   ]
  },
  {
   "cell_type": "markdown",
   "metadata": {},
   "source": [
    "## 2.1 Setting up the problem in IDAES\n",
    "\n",
    "In the next cell, we will be importing the necessary components from Pyomo and IDAES."
   ]
  },
  {
   "cell_type": "code",
   "execution_count": 1,
   "metadata": {
    "scrolled": false
   },
   "outputs": [],
   "source": [
    "# Import objects from pyomo package\n",
    "from pyomo.environ import (Constraint,\n",
    "                           Var,\n",
    "                           ConcreteModel,\n",
    "                           Expression,\n",
    "                           Param,\n",
    "                           Objective,\n",
    "                           SolverFactory,\n",
    "                           TransformationFactory,\n",
    "                           value)\n",
    "\n",
    "from pyomo.network import Arc, SequentialDecomposition\n",
    "\n",
    "from idaes.core.util.initialization import propagate_state\n",
    "\n",
    "# Import plotting functions\n",
    "import matplotlib.pyplot as plt\n",
    "\n",
    "# Import numpy library \n",
    "import numpy as np\n",
    "\n",
    "# Import the main FlowsheetBlock from IDAES. The flowsheet block will contain the unit model\n",
    "from idaes.core import FlowsheetBlock\n",
    "\n",
    "# Import idaes logger to set output levels\n",
    "import idaes.logger as idaeslog\n",
    "\n",
    "# Import the degrees_of_freedom function from the idaes.core.util.model_statistics package\n",
    "# DOF = Number of Model Variables - Number of Model Constraints\n",
    "from idaes.core.util.model_statistics import degrees_of_freedom\n",
    "\n",
    "# Import the Generic Parameter Block\n",
    "from idaes.generic_models.properties.core.generic.generic_property import (\n",
    "        GenericParameterBlock)\n",
    "\n",
    "# Import unit models from the model library\n",
    "from idaes.generic_models.unit_models import (Flash, GibbsReactor, Heater)"
   ]
  },
  {
   "cell_type": "markdown",
   "metadata": {},
   "source": [
    "For this specific problem we will need two different property packages as we will utilize an only vapor property package for the Gibbs reactor and a VLE package for the flash column"
   ]
  },
  {
   "cell_type": "code",
   "execution_count": 2,
   "metadata": {},
   "outputs": [],
   "source": [
    "# Import the HC_PR property package to create a VLE property block for the flowsheet\n",
    "from idaes.generic_models.properties.core.examples.HC_PR import configuration\n",
    "\n",
    "# Import the HC_PR_vap property package to create a vapor property block for the flowsheet\n",
    "from idaes.generic_models.properties.core.examples.HC_PR_vap import configuration_vap"
   ]
  },
  {
   "cell_type": "markdown",
   "metadata": {},
   "source": [
    "### 2.1 Building the flowsheet \n",
    "\n",
    "In the next cell, we will first create a model and attach a flowsheet to it. We then introduce the unit models and connect them through an arc and analyze the degrees of freedom of the flowsheet and how many variables we need to fix."
   ]
  },
  {
   "cell_type": "code",
   "execution_count": 3,
   "metadata": {
    "scrolled": false
   },
   "outputs": [
    {
     "name": "stdout",
     "output_type": "stream",
     "text": [
      "The initial DOF is 21\n"
     ]
    }
   ],
   "source": [
    "# Create the ConcreteModel and the FlowsheetBlock, and attach the flowsheet block to it.\n",
    "m = ConcreteModel()\n",
    "\n",
    "m.fs = FlowsheetBlock(default={\"dynamic\": False}) \n",
    "\n",
    "# Add properties parameter blocks to the flowsheet with specifications\n",
    "m.fs.VLE_props = GenericParameterBlock(default=configuration)\n",
    "m.fs.Vap_props = GenericParameterBlock(default=configuration_vap)\n",
    "\n",
    "# Create an instance of the units, attaching them to the flowsheet\n",
    "# Specify that the property package to be used with with eash unit.\n",
    "m.fs.H101 = Heater(default={\"property_package\": m.fs.Vap_props,\n",
    "                            \"has_pressure_change\": False,\n",
    "                            \"has_phase_equilibrium\": True})\n",
    "m.fs.R101 = GibbsReactor(\n",
    "            default={\"property_package\": m.fs.Vap_props,\n",
    "                     \"inert_species\":[\"hydrogen\",\"methane\",\"ethane\",\"propane\",\"nbutane\"],\n",
    "                     \"has_heat_transfer\": True})\n",
    "\n",
    "m.fs.H102 = Heater(default={\"property_package\": m.fs.VLE_props,\n",
    "                            \"has_pressure_change\": False,\n",
    "                            \"has_phase_equilibrium\": True})\n",
    "\n",
    "m.fs.F101 = Flash(default={\"property_package\": m.fs.VLE_props,\n",
    "                               \"has_heat_transfer\": True,\n",
    "                               \"has_pressure_change\": True})\n",
    "\n",
    "# Create streams to define connectivity between unit models\n",
    "m.fs.s01 = Arc(source=m.fs.H101.outlet, destination=m.fs.R101.inlet)\n",
    "m.fs.s02 = Arc(source=m.fs.R101.outlet, destination=m.fs.H102.inlet)\n",
    "m.fs.s03 = Arc(source=m.fs.H102.outlet, destination=m.fs.F101.inlet)\n",
    "\n",
    "# Expand arcs\n",
    "TransformationFactory(\"network.expand_arcs\").apply_to(m)\n",
    "\n",
    "# Call the degrees_of_freedom function, get intitial DOF\n",
    "DOF_initial = degrees_of_freedom(m)\n",
    "print(\"The initial DOF is {0}\".format(DOF_initial))"
   ]
  },
  {
   "cell_type": "markdown",
   "metadata": {},
   "source": [
    "### 2.2 Create solver object "
   ]
  },
  {
   "cell_type": "code",
   "execution_count": 4,
   "metadata": {},
   "outputs": [],
   "source": [
    "solver = SolverFactory('ipopt')\n",
    "solver.options = {'tol': 1e-6}"
   ]
  },
  {
   "cell_type": "markdown",
   "metadata": {},
   "source": [
    "## 3 Case 1:Square problem.\n",
    "\n",
    "For this tutorial, we will solve a series of case studies by changing the goal of the solution. For the first case we will solve a square problem where all equipment and stream conditions are fixed.\n",
    "\n",
    "## 3.1 Fix initial conditions\n",
    "\n",
    "The conditions were extracted from *Valorization of Shale Gas Condensate to Liquid Hydrocarbons through Catalytic Dehydrogenation and Oligomerization*, Taufik Ridha,Yiru Li,Emre GençerOrcID,Jeffrey J. Siirola,Jeffrey T. Miller,Fabio H. Ribeiro andRakesh Agrawal, 2018. "
   ]
  },
  {
   "cell_type": "code",
   "execution_count": 5,
   "metadata": {},
   "outputs": [
    {
     "name": "stdout",
     "output_type": "stream",
     "text": [
      "The final DOF is 0\n"
     ]
    }
   ],
   "source": [
    "# Fix Heater H101 inlet conditions\n",
    "m.fs.H101.inlet.mole_frac_comp[0, \"hydrogen\"].fix(0.05)\n",
    "m.fs.H101.inlet.mole_frac_comp[0, \"methane\"].fix(0.25)\n",
    "m.fs.H101.inlet.mole_frac_comp[0, \"ethane\"].fix(0.2)\n",
    "m.fs.H101.inlet.mole_frac_comp[0, \"propane\"].fix(0.025)\n",
    "m.fs.H101.inlet.mole_frac_comp[0, \"nbutane\"].fix(0.05)\n",
    "m.fs.H101.inlet.mole_frac_comp[0, \"ibutane\"].fix(0.05)\n",
    "m.fs.H101.inlet.mole_frac_comp[0, \"ethylene\"].fix(0.13)\n",
    "m.fs.H101.inlet.mole_frac_comp[0, \"propene\"].fix(0.13)\n",
    "m.fs.H101.inlet.mole_frac_comp[0, \"butene\"].fix(0.115)\n",
    "m.fs.H101.inlet.mole_frac_comp[0, \"pentene\"].fix(0.0)\n",
    "m.fs.H101.inlet.mole_frac_comp[0, \"hexene\"].fix(0.0)\n",
    "m.fs.H101.inlet.mole_frac_comp[0, \"heptene\"].fix(0.0)\n",
    "m.fs.H101.inlet.mole_frac_comp[0, \"octene\"].fix(0.0)\n",
    "m.fs.H101.inlet.flow_mol[0].fix(100)\n",
    "m.fs.H101.inlet.temperature.fix(1073)\n",
    "m.fs.H101.inlet.pressure.fix(550000)\n",
    "\n",
    "# Fix unit models operating conditions\n",
    "# Fix H101 Heater outlet temperature\n",
    "m.fs.H101.outlet.temperature.fix(573)\n",
    "\n",
    "# Fix R101 Reactor outlet temperature\n",
    "m.fs.R101.outlet.temperature[0].fix(573)\n",
    "\n",
    "# Fix H102 Heater outlet temperature\n",
    "m.fs.H102.outlet.temperature.fix(300)\n",
    "\n",
    "# Fix F101 Flash outlet conditions\n",
    "m.fs.F101.vap_outlet.temperature.fix(300.0)\n",
    "m.fs.F101.deltaP.fix(0)\n",
    "\n",
    "DOF_final = degrees_of_freedom(m)\n",
    "print(\"The final DOF is {0}\".format(DOF_final))"
   ]
  },
  {
   "cell_type": "code",
   "execution_count": 6,
   "metadata": {
    "tags": [
     "testing"
    ]
   },
   "outputs": [],
   "source": [
    "assert DOF_final == 0"
   ]
  },
  {
   "cell_type": "markdown",
   "metadata": {},
   "source": [
    "### 3.2 Flowsheet Initialization\n",
    "\n",
    "IDAES includes pre-written initialization routines for all unit models. The output from initialization can be set to 7 different levels depending on the details required by the user. In general, when a particular output level is set, any information at that level and above gets picked up by logger. The default level taken by the logger is INFO. More information on these levels can be found in the IDAES documentation: https://idaes-pse.readthedocs.io/en/latest/logging.html"
   ]
  },
  {
   "cell_type": "code",
   "execution_count": 7,
   "metadata": {},
   "outputs": [
    {
     "name": "stdout",
     "output_type": "stream",
     "text": [
      "Order of initialization\n",
      "fs.H101\n",
      "fs.R101\n",
      "fs.H102\n",
      "fs.F101\n"
     ]
    }
   ],
   "source": [
    "seq = SequentialDecomposition()\n",
    "seq.options.select_tear_method = \"heuristic\"\n",
    "seq.options.tear_method = \"Wegstein\"\n",
    "seq.options.iterLim = 5\n",
    "\n",
    "# Using the SD tool\n",
    "G = seq.create_graph(m)\n",
    "heuristic_tear_set = seq.tear_set_arcs(G, method=\"heuristic\")\n",
    "order = seq.calculation_order(G)\n",
    "\n",
    "for o in heuristic_tear_set:\n",
    "    print(o.name)\n",
    "print(\"Order of initialization\")\n",
    "for o in order:\n",
    "    print(o[0].name)    \n",
    "    \n",
    "def function(unit):\n",
    "        unit.initialize(outlvl=idaeslog.INFO_HIGH)  "
   ]
  },
  {
   "cell_type": "markdown",
   "metadata": {},
   "source": [
    "### 3.3 Saving a jazon file \n",
    "\n",
    "In the next cell we will save a jazon file to avoid initialization if it has been done before."
   ]
  },
  {
   "cell_type": "code",
   "execution_count": 8,
   "metadata": {},
   "outputs": [],
   "source": [
    "# Import python path\n",
    "import os\n",
    "\n",
    "# Import idaes model seralizer to store initialized model\n",
    "from idaes.core.util import model_serializer as ms "
   ]
  },
  {
   "cell_type": "code",
   "execution_count": 9,
   "metadata": {},
   "outputs": [],
   "source": [
    "if not os.path.exists(\"HI_init.json.gz\"):\n",
    "    seq.run(m, function)\n",
    "    \n",
    "    # Solve the simulation using ipopt\n",
    "    # Note: If the degrees of freedom = 0, we have a square problem\n",
    "    solve_status = solver.solve(m, tee=True)\n",
    "\n",
    "    ms.to_json(m, fname=\"HI_init.json.gz\")\n",
    "else:\n",
    "    ms.from_json(m, fname=\"HI_init.json.gz\")"
   ]
  },
  {
   "cell_type": "markdown",
   "metadata": {},
   "source": [
    "### 3.3 Run Simulation"
   ]
  },
  {
   "cell_type": "code",
   "execution_count": 10,
   "metadata": {
    "scrolled": false
   },
   "outputs": [
    {
     "name": "stdout",
     "output_type": "stream",
     "text": [
      "Ipopt 3.13.2: tol=1e-06\n",
      "\n",
      "\n",
      "******************************************************************************\n",
      "This program contains Ipopt, a library for large-scale nonlinear optimization.\n",
      " Ipopt is released as open source code under the Eclipse Public License (EPL).\n",
      "         For more information visit http://projects.coin-or.org/Ipopt\n",
      "\n",
      "This version of Ipopt was compiled from source code available at\n",
      "    https://github.com/IDAES/Ipopt as part of the Institute for the Design of\n",
      "    Advanced Energy Systems Process Systems Engineering Framework (IDAES PSE\n",
      "    Framework) Copyright (c) 2018-2019. See https://github.com/IDAES/idaes-pse.\n",
      "\n",
      "This version of Ipopt was compiled using HSL, a collection of Fortran codes\n",
      "    for large-scale scientific computation.  All technical papers, sales and\n",
      "    publicity material resulting from use of the HSL codes within IPOPT must\n",
      "    contain the following acknowledgement:\n",
      "        HSL, a collection of Fortran codes for large-scale scientific\n",
      "        computation. See http://www.hsl.rl.ac.uk.\n",
      "******************************************************************************\n",
      "\n",
      "This is Ipopt version 3.13.2, running with linear solver ma27.\n",
      "\n",
      "Number of nonzeros in equality constraint Jacobian...:     3740\n",
      "Number of nonzeros in inequality constraint Jacobian.:        0\n",
      "Number of nonzeros in Lagrangian Hessian.............:     2487\n",
      "\n",
      "Total number of variables............................:      346\n",
      "                     variables with only lower bounds:      303\n",
      "                variables with lower and upper bounds:       33\n",
      "                     variables with only upper bounds:        0\n",
      "Total number of equality constraints.................:      346\n",
      "Total number of inequality constraints...............:        0\n",
      "        inequality constraints with only lower bounds:        0\n",
      "   inequality constraints with lower and upper bounds:        0\n",
      "        inequality constraints with only upper bounds:        0\n",
      "\n",
      "iter    objective    inf_pr   inf_du lg(mu)  ||d||  lg(rg) alpha_du alpha_pr  ls\n",
      "   0  0.0000000e+00 5.88e+05 1.00e+00  -1.0 0.00e+00    -  0.00e+00 0.00e+00   0\n",
      "   1  0.0000000e+00 4.02e+05 4.10e+03  -1.0 8.22e+04    -  7.92e-01 3.17e-01h  1\n",
      "   2  0.0000000e+00 2.15e+05 3.10e+03  -1.0 4.69e+02    -  9.90e-01 4.65e-01h  1\n",
      "   3  0.0000000e+00 2.16e+03 2.15e+03  -1.0 2.40e+04    -  7.37e-01 9.90e-01h  1\n",
      "   4  0.0000000e+00 2.10e+01 6.92e+03  -1.0 1.62e+03    -  6.45e-01 9.90e-01h  1\n",
      "   5  0.0000000e+00 2.17e-01 8.71e+03  -1.0 3.46e+02    -  9.90e-01 1.00e+00h  1\n",
      "   6  0.0000000e+00 4.28e-03 4.45e+04  -1.0 4.81e+01    -  9.95e-01 1.00e+00h  1\n",
      "   7  0.0000000e+00 1.17e-06 1.68e+01  -1.0 7.94e-01    -  1.00e+00 1.00e+00h  1\n",
      "\n",
      "Number of Iterations....: 7\n",
      "\n",
      "                                   (scaled)                 (unscaled)\n",
      "Objective...............:   0.0000000000000000e+00    0.0000000000000000e+00\n",
      "Dual infeasibility......:   0.0000000000000000e+00    0.0000000000000000e+00\n",
      "Constraint violation....:   4.0239024785785836e-09    1.1678785085678101e-06\n",
      "Complementarity.........:   0.0000000000000000e+00    0.0000000000000000e+00\n",
      "Overall NLP error.......:   4.0239024785785836e-09    1.1678785085678101e-06\n",
      "\n",
      "\n",
      "Number of objective function evaluations             = 8\n",
      "Number of objective gradient evaluations             = 8\n",
      "Number of equality constraint evaluations            = 8\n",
      "Number of inequality constraint evaluations          = 0\n",
      "Number of equality constraint Jacobian evaluations   = 8\n",
      "Number of inequality constraint Jacobian evaluations = 0\n",
      "Number of Lagrangian Hessian evaluations             = 7\n",
      "Total CPU secs in IPOPT (w/o function evaluations)   =      6.239\n",
      "Total CPU secs in NLP function evaluations           =     33.377\n",
      "\n",
      "EXIT: Optimal Solution Found.\n"
     ]
    }
   ],
   "source": [
    "result = solver.solve(m, tee=True)"
   ]
  },
  {
   "cell_type": "code",
   "execution_count": 11,
   "metadata": {
    "tags": [
     "testing"
    ]
   },
   "outputs": [],
   "source": [
    "from pyomo.opt import TerminationCondition, SolverStatus\n",
    "\n",
    "# Check if termination condition is optimal\n",
    "assert result.solver.termination_condition == TerminationCondition.optimal\n",
    "assert result.solver.status == SolverStatus.ok"
   ]
  },
  {
   "cell_type": "markdown",
   "metadata": {},
   "source": [
    "### 3.4 Results"
   ]
  },
  {
   "cell_type": "code",
   "execution_count": 12,
   "metadata": {
    "scrolled": false
   },
   "outputs": [
    {
     "name": "stdout",
     "output_type": "stream",
     "text": [
      "\n",
      "====================================================================================\n",
      "Unit : fs.H101                                                             Time: 0.0\n",
      "------------------------------------------------------------------------------------\n",
      "    Unit Performance\n",
      "\n",
      "    Variables: \n",
      "\n",
      "    Key       : Value       : Fixed : Bounds\n",
      "    Heat Duty : -6.0523e+06 : False : (None, None)\n",
      "\n",
      "------------------------------------------------------------------------------------\n",
      "    Stream Table\n",
      "                                    Inlet     Outlet  \n",
      "    Total Molar Flowrate             100.00     100.00\n",
      "    Total Mole Fraction hydrogen   0.050000   0.050000\n",
      "    Total Mole Fraction methane     0.25000    0.25000\n",
      "    Total Mole Fraction ethane      0.20000    0.20000\n",
      "    Total Mole Fraction propane    0.025000   0.025000\n",
      "    Total Mole Fraction nbutane    0.050000   0.050000\n",
      "    Total Mole Fraction ibutane    0.050000   0.050000\n",
      "    Total Mole Fraction ethylene    0.13000    0.13000\n",
      "    Total Mole Fraction propene     0.13000    0.13000\n",
      "    Total Mole Fraction butene      0.11500    0.11500\n",
      "    Total Mole Fraction pentene      0.0000     0.0000\n",
      "    Total Mole Fraction hexene       0.0000     0.0000\n",
      "    Total Mole Fraction heptene      0.0000     0.0000\n",
      "    Total Mole Fraction octene       0.0000     0.0000\n",
      "    Temperature                      1073.0     573.00\n",
      "    Pressure                     5.5000e+05 5.5000e+05\n",
      "====================================================================================\n",
      "\n",
      "====================================================================================\n",
      "Unit : fs.R101                                                             Time: 0.0\n",
      "------------------------------------------------------------------------------------\n",
      "    Unit Performance\n",
      "\n",
      "    Variables: \n",
      "\n",
      "    Key       : Value       : Fixed : Bounds\n",
      "    Heat Duty : -1.1614e+06 : False : (None, None)\n",
      "\n",
      "------------------------------------------------------------------------------------\n",
      "    Stream Table\n",
      "                                    Inlet     Outlet  \n",
      "    Total Molar Flowrate             100.00     87.553\n",
      "    Total Mole Fraction hydrogen   0.050000   0.057108\n",
      "    Total Mole Fraction methane     0.25000    0.28554\n",
      "    Total Mole Fraction ethane      0.20000    0.22843\n",
      "    Total Mole Fraction propane    0.025000   0.028554\n",
      "    Total Mole Fraction nbutane    0.050000   0.057108\n",
      "    Total Mole Fraction ibutane    0.050000   0.057108\n",
      "    Total Mole Fraction ethylene    0.13000  0.0055335\n",
      "    Total Mole Fraction propene     0.13000    0.10053\n",
      "    Total Mole Fraction butene      0.11500   0.047710\n",
      "    Total Mole Fraction pentene      0.0000   0.064196\n",
      "    Total Mole Fraction hexene       0.0000   0.039415\n",
      "    Total Mole Fraction heptene      0.0000   0.023294\n",
      "    Total Mole Fraction octene       0.0000  0.0054710\n",
      "    Temperature                      573.00     573.00\n",
      "    Pressure                     5.5000e+05 5.5000e+05\n",
      "====================================================================================\n",
      "\n",
      "====================================================================================\n",
      "Unit : fs.H102                                                             Time: 0.0\n",
      "------------------------------------------------------------------------------------\n",
      "    Unit Performance\n",
      "\n",
      "    Variables: \n",
      "\n",
      "    Key       : Value       : Fixed : Bounds\n",
      "    Heat Duty : -2.3779e+06 : False : (None, None)\n",
      "\n",
      "------------------------------------------------------------------------------------\n",
      "    Stream Table\n",
      "                                    Inlet     Outlet  \n",
      "    Total Molar Flowrate             87.553     87.553\n",
      "    Total Mole Fraction hydrogen   0.057108   0.057108\n",
      "    Total Mole Fraction methane     0.28554    0.28554\n",
      "    Total Mole Fraction ethane      0.22843    0.22843\n",
      "    Total Mole Fraction propane    0.028554   0.028554\n",
      "    Total Mole Fraction nbutane    0.057108   0.057108\n",
      "    Total Mole Fraction ibutane    0.057108   0.057108\n",
      "    Total Mole Fraction ethylene  0.0055335  0.0055335\n",
      "    Total Mole Fraction propene     0.10053    0.10053\n",
      "    Total Mole Fraction butene     0.047710   0.047710\n",
      "    Total Mole Fraction pentene    0.064196   0.064196\n",
      "    Total Mole Fraction hexene     0.039415   0.039415\n",
      "    Total Mole Fraction heptene    0.023294   0.023294\n",
      "    Total Mole Fraction octene    0.0054710  0.0054710\n",
      "    Temperature                      573.00     300.00\n",
      "    Pressure                     5.5000e+05 5.5000e+05\n",
      "====================================================================================\n",
      "\n",
      "====================================================================================\n",
      "Unit : fs.F101                                                             Time: 0.0\n",
      "------------------------------------------------------------------------------------\n",
      "    Unit Performance\n",
      "\n",
      "    Variables: \n",
      "\n",
      "    Key             : Value       : Fixed : Bounds\n",
      "          Heat Duty : -4.5230e-10 : False : (None, None)\n",
      "    Pressure Change :      0.0000 :  True : (None, None)\n",
      "\n",
      "------------------------------------------------------------------------------------\n",
      "    Stream Table\n",
      "                               Inlet    Vapor Outlet  Liquid Outlet\n",
      "    flow_mol                    87.553       76.563        10.990  \n",
      "    mole_frac_comp hydrogen   0.057108     0.065306    1.0000e-08  \n",
      "    mole_frac_comp methane     0.28554      0.32653    1.0000e-08  \n",
      "    mole_frac_comp ethane      0.22843      0.25493      0.043813  \n",
      "    mole_frac_comp propane    0.028554     0.030129      0.017581  \n",
      "    mole_frac_comp nbutane    0.057108     0.050749       0.10141  \n",
      "    mole_frac_comp ibutane    0.057108     0.054247      0.077041  \n",
      "    mole_frac_comp ethylene  0.0055335    0.0062237    0.00072598  \n",
      "    mole_frac_comp propene     0.10053      0.10721      0.054021  \n",
      "    mole_frac_comp butene     0.047710     0.044023      0.073393  \n",
      "    mole_frac_comp pentene    0.064196     0.044415       0.20200  \n",
      "    mole_frac_comp hexene     0.039415     0.013291       0.22141  \n",
      "    mole_frac_comp heptene    0.023294    0.0026776       0.16692  \n",
      "    mole_frac_comp octene    0.0054710   0.00027152      0.041693  \n",
      "    temperature                 300.00       300.00        300.00  \n",
      "    pressure                5.5000e+05   5.5000e+05    5.5000e+05  \n",
      "====================================================================================\n"
     ]
    }
   ],
   "source": [
    "# Display output report\n",
    "m.fs.H101.report()\n",
    "m.fs.R101.report()\n",
    "m.fs.H102.report()\n",
    "m.fs.F101.report()"
   ]
  },
  {
   "cell_type": "markdown",
   "metadata": {},
   "source": [
    "As we can see from solving the square problem the Flash has a Heat Duty = 0, we have a liquid outlet of 10.99 and a vapor as expected."
   ]
  },
  {
   "cell_type": "markdown",
   "metadata": {},
   "source": [
    "## 4. Case 2: Minimize operating costs.\n",
    "\n",
    "### 4.0 Create purity and flow parameters\n",
    "\n",
    "We will inttroduce two new parameters one for purity and liquid flow from the Flash column."
   ]
  },
  {
   "cell_type": "code",
   "execution_count": null,
   "metadata": {},
   "outputs": [],
   "source": [
    "m.fs.Pur = Param(mutable=True,default=0.040)\n",
    "m.fs.Liq = Param(mutable=True,default=10)"
   ]
  },
  {
   "cell_type": "markdown",
   "metadata": {},
   "source": [
    "### 4.1 Create constraints\n",
    "\n",
    "We will create constraints to set the inlet and outlet reactor temperature. And expressions to calculate costs."
   ]
  },
  {
   "cell_type": "code",
   "execution_count": 16,
   "metadata": {},
   "outputs": [],
   "source": [
    "# Set constraint over the inlet and outlet of the temperature of the reactor\n",
    "m.fs.reactorT = Constraint(expr=m.fs.H101.outlet.temperature[0] == \n",
    "                    m.fs.R101.outlet.temperature[0])\n",
    "\n",
    "# Set constraint over the purity of the octene after the flash\n",
    "m.fs.purity = Expression(\n",
    "        expr=m.fs.F101.liq_outlet.mole_frac_comp[0, \"octene\"])\n",
    "m.fs.product_purity = Constraint(expr=m.fs.purity >= m.fs.Pur)\n",
    "\n",
    "# Set constraint over the minimum amount of liquid in the flas outlet\n",
    "m.fs.liquid = Constraint(expr=m.fs.F101.liq_outlet.flow_mol[0]>= m.fs.Liq)\n",
    "\n",
    "# Set expressions to calculate \n",
    "m.fs.cooling_cost = Expression(expr=0.212e-7 * ((-m.fs.H101.heat_duty[0]) +\n",
    "                                  (-(m.fs.R101.heat_duty[0])) +\n",
    "                                    (-m.fs.H102.heat_duty[0])))\n",
    "\n",
    "m.fs.heating_cost = Expression(expr=2.2e-7 * ((m.fs.F101.heat_duty[0]**2)**1/2))\n",
    "\n",
    "m.fs.operating_cost = Expression(expr=(3600 * (m.fs.heating_cost +\n",
    "                                            m.fs.cooling_cost)))\n",
    "\n",
    "m.fs.objective = Objective(expr=m.fs.operating_cost)"
   ]
  },
  {
   "cell_type": "markdown",
   "metadata": {},
   "source": [
    "### 4.2 Unfix operation conditions\n",
    "\n",
    "In the next cell we will unfix the conditions we want want the problem to optimize."
   ]
  },
  {
   "cell_type": "code",
   "execution_count": 17,
   "metadata": {},
   "outputs": [],
   "source": [
    "# Unfix operation condition\n",
    "m.fs.H101.outlet.temperature.unfix()\n",
    "m.fs.R101.heat_duty.unfix()\n",
    "m.fs.R101.outlet.temperature.unfix()\n",
    "m.fs.F101.vap_outlet.temperature.unfix()\n",
    "m.fs.F101.deltaP.unfix()\n",
    "\n",
    "# Set bounds on unit model operating conditions\n",
    "m.fs.H101.outlet.temperature[0].setlb(350)\n",
    "m.fs.H101.outlet.temperature[0].setub(800)\n",
    "\n",
    "m.fs.R101.outlet.temperature[0].setlb(350)\n",
    "m.fs.R101.outlet.temperature[0].setub(800)\n",
    "\n",
    "m.fs.F101.vap_outlet.temperature[0].setlb(298.0)\n",
    "m.fs.F101.vap_outlet.temperature[0].setub(450.0)\n",
    "m.fs.F101.vap_outlet.pressure[0].setlb(105000)\n",
    "m.fs.F101.vap_outlet.pressure[0].setub(550000)"
   ]
  },
  {
   "cell_type": "markdown",
   "metadata": {},
   "source": [
    "### 4.3 Run Simulation"
   ]
  },
  {
   "cell_type": "code",
   "execution_count": 18,
   "metadata": {},
   "outputs": [
    {
     "name": "stdout",
     "output_type": "stream",
     "text": [
      "Ipopt 3.13.2: tol=1e-06\n",
      "\n",
      "\n",
      "******************************************************************************\n",
      "This program contains Ipopt, a library for large-scale nonlinear optimization.\n",
      " Ipopt is released as open source code under the Eclipse Public License (EPL).\n",
      "         For more information visit http://projects.coin-or.org/Ipopt\n",
      "\n",
      "This version of Ipopt was compiled from source code available at\n",
      "    https://github.com/IDAES/Ipopt as part of the Institute for the Design of\n",
      "    Advanced Energy Systems Process Systems Engineering Framework (IDAES PSE\n",
      "    Framework) Copyright (c) 2018-2019. See https://github.com/IDAES/idaes-pse.\n",
      "\n",
      "This version of Ipopt was compiled using HSL, a collection of Fortran codes\n",
      "    for large-scale scientific computation.  All technical papers, sales and\n",
      "    publicity material resulting from use of the HSL codes within IPOPT must\n",
      "    contain the following acknowledgement:\n",
      "        HSL, a collection of Fortran codes for large-scale scientific\n",
      "        computation. See http://www.hsl.rl.ac.uk.\n",
      "******************************************************************************\n",
      "\n",
      "This is Ipopt version 3.13.2, running with linear solver ma27.\n",
      "\n",
      "Number of nonzeros in equality constraint Jacobian...:     3757\n",
      "Number of nonzeros in inequality constraint Jacobian.:        2\n",
      "Number of nonzeros in Lagrangian Hessian.............:     2549\n",
      "\n",
      "Total number of variables............................:      350\n",
      "                     variables with only lower bounds:      303\n",
      "                variables with lower and upper bounds:       36\n",
      "                     variables with only upper bounds:        0\n",
      "Total number of equality constraints.................:      347\n",
      "Total number of inequality constraints...............:        2\n",
      "        inequality constraints with only lower bounds:        2\n",
      "   inequality constraints with lower and upper bounds:        0\n",
      "        inequality constraints with only upper bounds:        0\n",
      "\n",
      "iter    objective    inf_pr   inf_du lg(mu)  ||d||  lg(rg) alpha_du alpha_pr  ls\n",
      "   0  7.3203146e+02 5.88e+05 3.77e-05  -1.0 0.00e+00    -  0.00e+00 0.00e+00   0\n",
      "   1  7.2705234e+02 3.62e+05 4.04e+03  -1.0 2.60e+05    -  7.90e-01 3.90e-01h  1\n",
      "   2  7.2038737e+02 3.21e+05 3.45e+03  -1.0 7.62e+05    -  7.46e-01 1.12e-01h  1\n",
      "   3  7.2679657e+02 2.11e+04 1.28e+04  -1.0 1.23e+05    -  7.41e-01 9.17e-01h  1\n",
      "   4  7.2652949e+02 1.38e+04 7.90e+03  -1.0 4.77e+03    -  9.90e-01 3.49e-01h  1\n",
      "   5  7.2869982e+02 9.57e+01 1.22e+04  -1.0 3.30e+04    -  3.11e-01 9.85e-01h  1\n",
      "   6  7.2742747e+02 5.13e+01 2.58e+05  -1.0 3.49e+04    -  2.77e-01 4.89e-01h  1\n",
      "   7  7.2883261e+02 8.15e+01 9.81e+05  -1.0 2.26e+04    -  9.42e-01 9.94e-01h  1\n",
      "   8  7.2740520e+02 8.12e+01 2.90e+07  -1.0 2.56e+04    -  9.93e-01 8.96e-01h  1\n",
      "   9  7.2746355e+02 2.37e-01 5.02e+06  -1.0 2.04e+03    -  1.00e+00 1.00e+00h  1\n",
      "iter    objective    inf_pr   inf_du lg(mu)  ||d||  lg(rg) alpha_du alpha_pr  ls\n",
      "  10  7.2746315e+02 1.12e-05 1.62e+03  -1.0 8.50e+00    -  1.00e+00 1.00e+00h  1\n",
      "  11  7.2728162e+02 4.30e-01 1.32e+07  -2.5 2.39e+03    -  1.00e+00 1.00e+00f  1\n",
      "  12  7.2727550e+02 4.87e-04 1.66e+03  -2.5 8.06e+01    -  1.00e+00 1.00e+00h  1\n",
      "  13  7.2727551e+02 2.10e-09 2.26e-04  -2.5 1.08e-01    -  1.00e+00 1.00e+00h  1\n",
      "  14  7.2726986e+02 4.15e-04 1.19e+04  -7.0 7.43e+01    -  1.00e+00 1.00e+00f  1\n",
      "  15  7.2726986e+02 1.40e-09 1.36e-03  -7.0 7.30e-02    -  1.00e+00 1.00e+00h  1\n",
      "  16  7.2726986e+02 9.31e-10 1.90e-12  -7.0 1.16e-07    -  1.00e+00 1.00e+00h  1\n",
      "\n",
      "Number of Iterations....: 16\n",
      "\n",
      "                                   (scaled)                 (unscaled)\n",
      "Objective...............:   7.2726985694149585e+02    7.2726985694149585e+02\n",
      "Dual infeasibility......:   1.9030940187722990e-12    1.9030940187722990e-12\n",
      "Constraint violation....:   1.7471850272911611e-13    9.3132257461547852e-10\n",
      "Complementarity.........:   9.0909090909090968e-08    9.0909090909090968e-08\n",
      "Overall NLP error.......:   9.0909090909090968e-08    9.0909090909090968e-08\n",
      "\n",
      "\n",
      "Number of objective function evaluations             = 17\n",
      "Number of objective gradient evaluations             = 17\n",
      "Number of equality constraint evaluations            = 17\n",
      "Number of inequality constraint evaluations          = 17\n",
      "Number of equality constraint Jacobian evaluations   = 17\n",
      "Number of inequality constraint Jacobian evaluations = 17\n",
      "Number of Lagrangian Hessian evaluations             = 16\n",
      "Total CPU secs in IPOPT (w/o function evaluations)   =      6.207\n",
      "Total CPU secs in NLP function evaluations           =     99.621\n",
      "\n",
      "EXIT: Optimal Solution Found.\n"
     ]
    }
   ],
   "source": [
    "results = solver.solve(m, tee=True)"
   ]
  },
  {
   "cell_type": "markdown",
   "metadata": {},
   "source": [
    "### 4.4 Results"
   ]
  },
  {
   "cell_type": "code",
   "execution_count": 19,
   "metadata": {},
   "outputs": [
    {
     "name": "stdout",
     "output_type": "stream",
     "text": [
      "operating cost = $ 727.2698569414957\n",
      "\n",
      "Product flow rate and purity in F102\n",
      "\n",
      "====================================================================================\n",
      "Unit : fs.F101                                                             Time: 0.0\n",
      "------------------------------------------------------------------------------------\n",
      "    Unit Performance\n",
      "\n",
      "    Variables: \n",
      "\n",
      "    Key             : Value     : Fixed : Bounds\n",
      "          Heat Duty : -0.010422 : False : (None, None)\n",
      "    Pressure Change :   -27512. : False : (None, None)\n",
      "\n",
      "------------------------------------------------------------------------------------\n",
      "    Stream Table\n",
      "                               Inlet    Vapor Outlet  Liquid Outlet\n",
      "    flow_mol                    88.047       78.047        10.000  \n",
      "    mole_frac_comp hydrogen   0.056788     0.064064    1.0000e-08  \n",
      "    mole_frac_comp methane     0.28394      0.32032    1.0000e-08  \n",
      "    mole_frac_comp ethane      0.22715      0.25092      0.041664  \n",
      "    mole_frac_comp propane    0.028394     0.029858      0.016967  \n",
      "    mole_frac_comp nbutane    0.056788     0.051194       0.10045  \n",
      "    mole_frac_comp ibutane    0.056788     0.054373      0.075638  \n",
      "    mole_frac_comp ethylene  0.0063703    0.0070844    0.00079645  \n",
      "    mole_frac_comp propene     0.10784      0.11446      0.056126  \n",
      "    mole_frac_comp butene     0.049265     0.045950      0.075136  \n",
      "    mole_frac_comp pentene    0.063398     0.045396       0.20390  \n",
      "    mole_frac_comp hexene     0.037336     0.013476       0.22356  \n",
      "    mole_frac_comp heptene    0.021173    0.0026466       0.16576  \n",
      "    mole_frac_comp octene    0.0047714   0.00025765      0.040000  \n",
      "    temperature                 300.00       299.05        299.05  \n",
      "    pressure                5.5000e+05   5.2249e+05    5.2249e+05  \n",
      "====================================================================================\n",
      "\n",
      "octene purity =  0.03999999010288012\n"
     ]
    }
   ],
   "source": [
    "print('operating cost = $', value(m.fs.operating_cost))\n",
    "\n",
    "print()\n",
    "print('Product flow rate and purity in F102')\n",
    "\n",
    "m.fs.F101.report()\n",
    "\n",
    "print()\n",
    "print('octene purity = ', value(m.fs.purity))"
   ]
  },
  {
   "cell_type": "markdown",
   "metadata": {},
   "source": [
    "As we can see from the Flash report we optimized the reactor conditions however we are limited by the octene purity and the amount of the liquid flow at the end of the flash column."
   ]
  },
  {
   "cell_type": "markdown",
   "metadata": {},
   "source": [
    "## 5. Sensitivity Analysis\n",
    "\n",
    "### 5.0 Building sensitivity analysis"
   ]
  },
  {
   "cell_type": "code",
   "execution_count": 22,
   "metadata": {},
   "outputs": [],
   "source": [
    "purity = np.linspace(0.010, 0.065, 3)\n",
    "liq = np.linspace(5, 12, 3)\n",
    "vap_flow = np.zeros((len(purity),len(liq))) \n",
    "vap_T = np.zeros((len(purity),len(liq))) \n",
    "vap_P = np.zeros((len(purity),len(liq))) \n",
    "reactor_temp = np.zeros((len(purity),len(liq))) \n",
    "cost = np.zeros((len(purity),len(liq))) \n",
    "\n",
    "for j in range(len(purity)):\n",
    "    m.fs.Pur = purity[j]\n",
    " \n",
    "    for k in range(len(liq)):       \n",
    "        m.fs.Liq = liq[k]\n",
    "        # solve the model\n",
    "        status = solver.solve(m)\n",
    "\n",
    "        vap_flow[j,k]= (value(m.fs.F101.vap_outlet.flow_mol[0]))\n",
    "        vap_T[j,k]= (value(m.fs.F101.vap_outlet.temperature[0]))\n",
    "        vap_P[j,k]= (value(m.fs.F101.vap_outlet.pressure[0]))\n",
    "        cost[j,k]= (value(m.fs.operating_cost))\n",
    "        reactor_temp[j,k]= (value(m.fs.R101.outlet.temperature[0]))"
   ]
  },
  {
   "cell_type": "markdown",
   "metadata": {},
   "source": [
    "### 5.1 Plot reactor temperature results"
   ]
  },
  {
   "cell_type": "code",
   "execution_count": 23,
   "metadata": {},
   "outputs": [
    {
     "data": {
      "image/png": "[encoded data removed]",
      "text/plain": [
       "<Figure size 432x288 with 1 Axes>"
      ]
     },
     "metadata": {
      "needs_background": "light"
     },
     "output_type": "display_data"
    }
   ],
   "source": [
    "fig, ax = plt.subplots()\n",
    "                  \n",
    "CS = ax.contour(purity, liq, reactor_temp)\n",
    "                  \n",
    "ax.clabel(CS, inline=1, fontsize=10)\n",
    "\n",
    "plt.grid()\n",
    "plt.title(\"Reactor temperature\",fontsize=24)\n",
    "plt.xlabel(\"Purity\")\n",
    "plt.ylabel(\"Liquid Flow\")\n",
    "\n",
    "plt.show()"
   ]
  },
  {
   "cell_type": "markdown",
   "metadata": {},
   "source": [
    "### 5.2 Plot cost results"
   ]
  },
  {
   "cell_type": "code",
   "execution_count": 24,
   "metadata": {},
   "outputs": [
    {
     "data": {
      "image/png": "[encoded data removed]",
      "text/plain": [
       "<Figure size 432x288 with 1 Axes>"
      ]
     },
     "metadata": {
      "needs_background": "light"
     },
     "output_type": "display_data"
    }
   ],
   "source": [
    "fig, ax = plt.subplots()\n",
    "                  \n",
    "CS = ax.contour(purity, liq, cost)\n",
    "                  \n",
    "ax.clabel(CS, inline=1, fontsize=10)\n",
    "\n",
    "plt.grid()\n",
    "plt.title(\"Cost\",fontsize=24)\n",
    "plt.xlabel(\"Purity\")\n",
    "plt.ylabel(\"Liquid Flow\")\n",
    "\n",
    "plt.show()"
   ]
  },
  {
   "cell_type": "markdown",
   "metadata": {},
   "source": [
    "From the plots we can see that to increase the liquid flow and purity you require to increase the reactor temperature which will increase the cost of the process."
   ]
  },
  {
   "cell_type": "code",
   "execution_count": null,
   "metadata": {},
   "outputs": [],
   "source": []
  }
 ],
 "metadata": {
  "celltoolbar": "Tags",
  "kernelspec": {
   "display_name": "Python 3",
   "language": "python",
   "name": "python3"
  },
  "language_info": {
   "codemirror_mode": {
    "name": "ipython",
    "version": 3
   },
   "file_extension": ".py",
   "mimetype": "text/x-python",
   "name": "python",
   "nbconvert_exporter": "python",
   "pygments_lexer": "ipython3",
   "version": "3.7.9"
  }
 },
 "nbformat": 4,
 "nbformat_minor": 4
}
