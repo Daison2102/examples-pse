{
 "cells": [
  {
   "cell_type": "markdown",
   "metadata": {},
   "source": [
    "# Reaction Property Packages in IDAES\n",
    "\n",
    "<div class=\"alert alert-block alert-info\">\n",
    "<b>Note:</b>\n",
    "Reaction property packages are closely related to, and dependent on, thermophysical property packages and it is advised the readers start with understanding these.\n",
    "</div>\n",
    "\n",
    "Similar to thermophysical property packages, reaction property packages in IDAES are used to define the set of parameters, variables and constraints associated with a specific set of chemical reactions that a user wishes to model. One of the features of the IDAES Integrated Platform is the ability for modelers to create their own property “packages” to calculate these properties, allowing them to customize the level of complexity and rigor to suit each application. This tutorial will introduce you to the basics of creating property packages for calculating reaction properties within the IDAES Core Modeling Framework.\n",
    "\n",
    "## Relationship with Thermophysical Property Packages\n",
    "\n",
    "Reaction properties depend on the state of the system, such as the temperature, pressure and composition of the material. All of these properties are defined in the thermophysical property package, thus reaction property packages are closely tied to thermophysical property packages; indeed, a given reaction package is often tied to a single specific thermophysical property package. Reaction packages need to be used with a thermophysical property package which defines the expected set of components and the expected forms and units for the state variables.\n",
    "\n",
    "As such, developers of reaction packages should have a specific thermophysical property package in mind when developing a reaction property package, and to tailor the reaction package to the thermophysical property package.\n",
    "\n",
    "## Types of Reactions\n",
    "\n",
    "Within the IDAES Core Modeling Framework, chemical reactions are divided into two categories”\n",
    "\n",
    "1. Equilibrium based reactions, where extent of reaction is determined by satisfying a constraint relating the concentration of species within the system, and\n",
    "2. Rate based reactions, where extent of reaction depends on some characteristic of the reactor unit. Despite the name, this category is also used to represent stoichiometric and yield based reactions.\n",
    "\n",
    "## Steps in Creating a Reaction Property Package\n",
    "\n",
    "Creating a new property package can be broken down into the following steps, which will be demonstrated in the next part of this tutorial.\n",
    "\n",
    "1. Defining the **units of measurement** for the property package.\n",
    "2. Defining the **properties supported** by the property package and the associated metadata.\n",
    "3. Defining the **equilibrium reactions** of interest.\n",
    "4. Defining the **equilibrium reactions** of interest.\n",
    "5. Defining the **parameters** related to the reactions of interest.\n",
    "6. Creating **variables and constraints** to describe the reactions of interest.\n",
    "7. Creating an **initialization routine** for the reaction property package.\n",
    "8. Defining **interface methods** used to couple the property package with unit models."
   ]
  },
  {
   "cell_type": "markdown",
   "metadata": {},
   "source": [
    "# Tutorial Example\n",
    "\n",
    "For this tutorial, we will be building a upon the property package from the thermophysical property example. In that example, we constructed a thermophysical property package that could be used to model a process for the hydrodealkylation of toluene to form benzene. This process involves five key chemical species:\n",
    "\n",
    "* toluene\n",
    "* benzene\n",
    "* hydrogen\n",
    "* methane\n",
    "* diphenyl\n",
    "\n",
    "In this tutorial, we will write a reaction property package to define the reactions associated with the HDA process:\n",
    "\n",
    "$$\n",
    "\\text{Toluene} + \\text{Hydrogen} \\rightarrow \\text{Benzene} + \\text{Methane}\n",
    "$$\n",
    "$$\n",
    "2 \\text{Benzene} \\rightleftharpoons \\text{Hydrogen} + \\text{Diphenyl}\n",
    "$$\n",
    "\n",
    "## A Note on this Tutorial\n",
    "\n",
    "The `build` methods in the reaction property package classes are generally written as a single, long method. However, to break the code in the manageable pieces for discussion, in this tutorial we will create a number of smaller sub-methods that will then be called as part of the `build` method. This is done entirely for presentation purposes, and model developers should not feel compelled to write their models this way.\n",
    "    \n",
    "An example of how the example in this tutorial would be written without sub-methods can be found in the same folder with the name [`reaction_property_example.py`](files/reaction_property_example.py)."
   ]
  },
  {
   "cell_type": "markdown",
   "metadata": {},
   "source": [
    "## Components of a Reaction Property Package\n",
    "\n",
    "Similar to thermophysical property packages, reaction property packages consist of three parts, which are written as Python `classes`. These components are:\n",
    "\n",
    "* The `Reaction Parameter Block` class, which contains all the global parameters associated with the reaction property package,\n",
    "* The `Reaction Block Data` class, which contains the instructions on how to calculate all the properties at a given state, and,\n",
    "* The `Reaction Block` class, which is used to construct indexed sets of `Reaction Block Data` objects and contains methods for acting on all multiple `Reaction Block Data` objects at once (such as initialization).\n",
    "\n",
    "It is not necessary to understand the reason for the distinction between the `Reaction Block` and `Reaction Block Data` classes. Suffice to say that this is due to the need to replicate the underlying component structure of Pyomo, and that the `Reaction Block` represents the indexed `Block` representing a set of states across a given indexing set (most often time), and the `Reaction Block Data` represents the individual elements of the indexed `Block`.\n",
    "\n",
    "## Importing Libraries\n",
    "\n",
    "Before we begin writing the actual `classes` however, we need to import all the necessary components from the Pyomo and IDAES modeling libraries. To begin with, we are going to need a number of components from the Pyomo modeling environment to construct the variables, constraints and parameters that will make up the property package, and we will also make use of the Pyomo units of measurement tools to define the units of our properties. We will also make use of a number of components and supporting methods from the IDAES modeling framework and libraries.\n",
    "\n",
    "Rather than describe the purpose of all of these here, we shall just import all of them here and discuss their use as they arise in the example."
   ]
  },
  {
   "cell_type": "code",
   "execution_count": null,
   "metadata": {},
   "outputs": [],
   "source": [
    "# Import Pyomo libraries\n",
    "from pyomo.environ import (Constraint,\n",
    "                           exp,\n",
    "                           Param,\n",
    "                           Set,\n",
    "                           units as pyunits,\n",
    "                           Var)\n",
    "\n",
    "# Import IDAES cores\n",
    "from idaes.core import (declare_process_block_class,\n",
    "                        MaterialFlowBasis,\n",
    "                        ReactionParameterBlock,\n",
    "                        ReactionBlockDataBase,\n",
    "                        ReactionBlockBase)\n",
    "from idaes.core.util.constants import Constants as const\n",
    "import idaes.logger as idaeslog"
   ]
  },
  {
   "cell_type": "markdown",
   "metadata": {},
   "source": [
    "# The Reaction Parameter Block\n",
    "\n",
    "We will begin by constructing the `Reaction Parameter Block` for our example. This serves as the central point of reference for all aspects of the reaction property package, and needs to define a number of things about the package. These are summarized below:\n",
    "\n",
    "* Units of measurement\n",
    "* What reaction properties are supported and how they are implemented\n",
    "* All the global parameters necessary for calculating properties\n",
    "* A reference to the associated `Reaction Block` class, so that construction of the `Reaction Block` components can be automated from the `Reaction Parameter Block`\n",
    "\n",
    "## Step 1: Define Units of Measurement and Property Metadata\n",
    "\n",
    "The first step is to define the units of measurement for the property package, which will in turn be inherited by any unit model using this property package. The IDAES Core Modeling Framework requires that the units of measurement defined for a reaction property package be identical to those used in the thermophysical property package it is associated with (this is to avoid any chance of confusion regarding units when setting up the balance equations).\n",
    "\n",
    "In order to set the base units, we use the same approach as for thermophysical property packages; we create a dictionary which has each of the base quantities as a key, and provide a Pyomo recognized unit as the value as shown in the cell below.\n",
    "\n",
    "Much like thermophysical property packages, we also need to define metadata regarding the reaction properties supported by our package. For this example, we have three supported properties:\n",
    "\n",
    "* a rate constant (`k_rxn`),\n",
    "* an equilibrium constant (`k_eq`), and\n",
    "* a reaction rate term (`rate_reaction`).\n",
    "\n",
    "The cell below shows how to define the units of measurement and properties metadata for this example."
   ]
  },
  {
   "cell_type": "code",
   "execution_count": null,
   "metadata": {},
   "outputs": [],
   "source": [
    "units_metadata = {'time': pyunits.s,\n",
    "                  'length': pyunits.m,\n",
    "                  'mass': pyunits.kg,\n",
    "                  'amount': pyunits.mol,\n",
    "                  'temperature': pyunits.K}\n",
    "\n",
    "properties_metadata = {'k_rxn': {'method': None},\n",
    "                       'k_eq': {'method': None},\n",
    "                       'reaction_rate': {'method': None}}"
   ]
  },
  {
   "cell_type": "code",
   "execution_count": null,
   "metadata": {},
   "outputs": [],
   "source": [
    "def define_kinetic_reactions(self):\n",
    "    # Rate Reaction Index\n",
    "    self.rate_reaction_idx = Set(initialize=[\"R1\"])\n",
    "\n",
    "    # Rate Reaction Stoichiometry\n",
    "    self.rate_reaction_stoichiometry = {(\"R1\", \"Vap\", \"benzene\"): 1,\n",
    "                                        (\"R1\", \"Vap\", \"toluene\"): -1,\n",
    "                                        (\"R1\", \"Vap\", \"hydrogen\"): -1,\n",
    "                                        (\"R1\", \"Vap\", \"methane\"): 1,\n",
    "                                        (\"R1\", \"Vap\", \"diphenyl\"): 0}"
   ]
  },
  {
   "cell_type": "code",
   "execution_count": null,
   "metadata": {},
   "outputs": [],
   "source": [
    "def define_equilibrium_reactions(self):\n",
    "    # Equilibrium Reaction Index\n",
    "    self.equilibrium_reaction_idx = Set(initialize=[\"E1\"])\n",
    "\n",
    "    # Equilibrium Reaction Stoichiometry\n",
    "    self.equilibrium_reaction_stoichiometry = {\n",
    "        (\"E1\", \"Vap\", \"benzene\"): -2,\n",
    "        (\"E1\", \"Vap\", \"toluene\"): 0,\n",
    "        (\"E1\", \"Vap\", \"hydrogen\"): 1,\n",
    "        (\"E1\", \"Vap\", \"methane\"): 0,\n",
    "        (\"E1\", \"Vap\", \"diphenyl\"): 1}"
   ]
  },
  {
   "cell_type": "code",
   "execution_count": null,
   "metadata": {},
   "outputs": [],
   "source": [
    "def define_parameters(self):\n",
    "    # Arrhenius Constant\n",
    "    self.arrhenius = Param(default=1.25e-9,\n",
    "                           doc=\"Arrhenius constant\",\n",
    "                           units=pyunits.mol/pyunits.m**3/pyunits.s/pyunits.Pa**2)\n",
    "\n",
    "    # Activation Energy\n",
    "    self.energy_activation = Param(default=3800,\n",
    "                                   doc=\"Activation energy\",\n",
    "                                   units=pyunits.J/pyunits.mol)"
   ]
  },
  {
   "cell_type": "code",
   "execution_count": null,
   "metadata": {},
   "outputs": [],
   "source": [
    "@declare_process_block_class(\"HDAReactionParameterBlock\")\n",
    "class HDAReactionParameterData(ReactionParameterBlock):\n",
    "    \"\"\"\n",
    "    Reaction Parameter Block Class\n",
    "    \"\"\"\n",
    "\n",
    "    def build(self):\n",
    "        '''\n",
    "        Callable method for Block construction.\n",
    "        '''\n",
    "        super(HDAReactionParameterData, self).build()\n",
    "\n",
    "        self._reaction_block_class = HDAReactionBlock\n",
    "        \n",
    "        define_kinetic_reactions(self)\n",
    "        define_equilibrium_reactions(self)\n",
    "        define_parameters(self)\n",
    "\n",
    "    @classmethod\n",
    "    def define_metadata(cls, obj):\n",
    "        obj.add_properties(properties_metadata)\n",
    "        obj.add_default_units(units_metadata)"
   ]
  },
  {
   "cell_type": "markdown",
   "metadata": {},
   "source": [
    "## Reaction Blocks\n",
    "\n",
    "Even more text"
   ]
  },
  {
   "cell_type": "code",
   "execution_count": null,
   "metadata": {},
   "outputs": [],
   "source": [
    "class _HDAReactionBlock(ReactionBlockBase):\n",
    "\n",
    "    def initialize(blk, outlvl=idaeslog.NOTSET, **kwargs):\n",
    "        init_log = idaeslog.getInitLogger(blk.name, outlvl, tag=\"properties\")\n",
    "        init_log.info('Initialization Complete.')"
   ]
  },
  {
   "cell_type": "code",
   "execution_count": null,
   "metadata": {},
   "outputs": [],
   "source": [
    "def define_variables_and_parameters(self):\n",
    "    self.k_rxn = Var(initialize=7e-10,\n",
    "                    doc=\"Rate constant\",\n",
    "                    units=pyunits.mol/pyunits.m**3/pyunits.s/pyunits.Pa**2)\n",
    "\n",
    "    self.k_eq = Param(initialize=10000,\n",
    "                      doc=\"Equlibrium constant\",\n",
    "                      units=pyunits.Pa)\n",
    "\n",
    "    self.reaction_rate = Var(self.params.rate_reaction_idx,\n",
    "                             initialize=0,\n",
    "                             doc=\"Rate of reaction\",\n",
    "                             units=pyunits.mol/pyunits.m**3/pyunits.s)"
   ]
  },
  {
   "cell_type": "code",
   "execution_count": null,
   "metadata": {},
   "outputs": [],
   "source": [
    "def define_rate_expression(self):\n",
    "    self.arrhenius_equation = Constraint(\n",
    "            expr=self.k_rxn == self.params.arrhenius * exp(\n",
    "                -self.params.energy_activation /\n",
    "                (const.gas_constant*self.state_ref.temperature)))\n",
    "\n",
    "    def rate_rule(b, r):\n",
    "        return b.reaction_rate[r] == (\n",
    "                    b.k_rxn *\n",
    "                    b.state_ref.mole_frac_comp[\"toluene\"] *\n",
    "                    b.state_ref.mole_frac_comp[\"hydrogen\"] *\n",
    "                    b.state_ref.pressure**2)\n",
    "    self.rate_expression = Constraint(self.params.rate_reaction_idx,\n",
    "                                      rule=rate_rule)"
   ]
  },
  {
   "cell_type": "code",
   "execution_count": null,
   "metadata": {},
   "outputs": [],
   "source": [
    "def define_equilibrium_expression(self):\n",
    "    self.equilibrium_constraint = Constraint(\n",
    "        expr=self.k_eq *\n",
    "        self.state_ref.mole_frac_comp[\"benzene\"] *\n",
    "        self.state_ref.pressure ==\n",
    "        self.state_ref.mole_frac_comp[\"diphenyl\"] *\n",
    "        self.state_ref.mole_frac_comp[\"hydrogen\"] *\n",
    "        self.state_ref.pressure**2)"
   ]
  },
  {
   "cell_type": "code",
   "execution_count": null,
   "metadata": {},
   "outputs": [],
   "source": [
    "@declare_process_block_class(\"HDAReactionBlock\",\n",
    "                             block_class=_HDAReactionBlock)\n",
    "class HDAReactionBlockData(ReactionBlockDataBase):\n",
    "    def build(self):\n",
    "\n",
    "        super(HDAReactionBlockData, self).build()\n",
    "        \n",
    "        define_variables_and_parameters(self)\n",
    "        define_rate_expression(self)\n",
    "        define_equilibrium_expression(self)\n",
    "    \n",
    "    def get_reaction_rate_basis(b):\n",
    "        return MaterialFlowBasis.molar"
   ]
  },
  {
   "cell_type": "markdown",
   "metadata": {},
   "source": [
    "# Demonstration"
   ]
  },
  {
   "cell_type": "code",
   "execution_count": null,
   "metadata": {},
   "outputs": [],
   "source": [
    "from pyomo.environ import ConcreteModel\n",
    "from pyomo.util.check_units import assert_units_consistent\n",
    "\n",
    "from idaes.core import FlowsheetBlock\n",
    "from idaes.core.util import get_solver\n",
    "from idaes.generic_models.unit_models import CSTR\n",
    "\n",
    "from thermophysical_property_example import HDAParameterBlock\n",
    "\n",
    "from idaes.core.util.model_statistics import degrees_of_freedom"
   ]
  },
  {
   "cell_type": "code",
   "execution_count": null,
   "metadata": {},
   "outputs": [],
   "source": [
    "m = ConcreteModel()\n",
    "\n",
    "m.fs = FlowsheetBlock(default={\"dynamic\": False})\n",
    "\n",
    "m.fs.thermo_params = HDAParameterBlock()\n",
    "m.fs.reaction_params = HDAReactionParameterBlock(\n",
    "    default={\"property_package\": m.fs.thermo_params})\n",
    "\n",
    "m.fs.reactor = CSTR(default={\n",
    "    \"property_package\": m.fs.thermo_params,\n",
    "    \"reaction_package\": m.fs.reaction_params,\n",
    "    \"has_equilibrium_reactions\": True})"
   ]
  },
  {
   "cell_type": "code",
   "execution_count": null,
   "metadata": {},
   "outputs": [],
   "source": [
    "print(\"Degrees of Freedom: \", degrees_of_freedom(m))"
   ]
  },
  {
   "cell_type": "code",
   "execution_count": null,
   "metadata": {},
   "outputs": [],
   "source": [
    "m.fs.reactor.inlet.flow_mol.fix(100)\n",
    "m.fs.reactor.inlet.temperature.fix(500)\n",
    "m.fs.reactor.inlet.pressure.fix(350000)\n",
    "m.fs.reactor.inlet.mole_frac_comp[0, \"benzene\"].fix(0.1)\n",
    "m.fs.reactor.inlet.mole_frac_comp[0, \"toluene\"].fix(0.4)\n",
    "m.fs.reactor.inlet.mole_frac_comp[0, \"hydrogen\"].fix(0.4)\n",
    "m.fs.reactor.inlet.mole_frac_comp[0, \"methane\"].fix(0.1)\n",
    "m.fs.reactor.inlet.mole_frac_comp[0, \"diphenyl\"].fix(0.0)\n",
    "\n",
    "m.fs.reactor.volume.fix(1)\n",
    "\n",
    "print(\"Degrees of Freedom: \", degrees_of_freedom(m))"
   ]
  },
  {
   "cell_type": "code",
   "execution_count": null,
   "metadata": {},
   "outputs": [],
   "source": [
    "m.fs.reactor.initialize(state_args={\n",
    "    \"flow_mol\": 100,\n",
    "    \"mole_frac_comp\": {\n",
    "        \"benzene\": 0.15,\n",
    "        \"toluene\": 0.35,\n",
    "        \"hydrogen\": 0.35,\n",
    "        \"methane\": 0.15,\n",
    "        \"diphenyl\": 0.01},\n",
    "    \"temperature\": 600,\n",
    "    \"pressure\": 350000})\n",
    "\n",
    "solver = get_solver()\n",
    "results = solver.solve(m, tee=True)"
   ]
  },
  {
   "cell_type": "code",
   "execution_count": null,
   "metadata": {
    "tags": [
     "testing",
     "remove_cell"
    ]
   },
   "outputs": [],
   "source": [
    "from pyomo.environ import TerminationCondition, SolverStatus\n",
    "assert results.solver.termination_condition == TerminationCondition.optimal\n",
    "assert results.solver.status == SolverStatus.ok"
   ]
  },
  {
   "cell_type": "code",
   "execution_count": null,
   "metadata": {},
   "outputs": [],
   "source": [
    "m.fs.reactor.outlet.display()"
   ]
  },
  {
   "cell_type": "code",
   "execution_count": null,
   "metadata": {
    "tags": [
     "testing",
     "remove_cell"
    ]
   },
   "outputs": [],
   "source": [
    "import pytest\n",
    "from pyomo.environ import value\n",
    "assert value(m.fs.reactor.outlet.flow_mol[0]) == pytest.approx(100, abs=1e-3)\n",
    "assert value(m.fs.reactor.outlet.temperature[0]) == pytest.approx(790.212, abs=1e-3)\n",
    "assert value(m.fs.reactor.outlet.mole_frac_comp[0, \"benzene\"]) == pytest.approx(0.159626, abs=1e-6)"
   ]
  },
  {
   "cell_type": "code",
   "execution_count": null,
   "metadata": {},
   "outputs": [],
   "source": [
    "assert_units_consistent(m)"
   ]
  },
  {
   "cell_type": "markdown",
   "metadata": {},
   "source": [
    "# Using the Generic Property Framework\n",
    "\n",
    "Show how to do the same thing with the generic framework.\n"
   ]
  }
 ],
 "metadata": {
  "celltoolbar": "Tags",
  "kernelspec": {
   "display_name": "Python 3",
   "language": "python",
   "name": "python3"
  },
  "language_info": {
   "codemirror_mode": {
    "name": "ipython",
    "version": 3
   },
   "file_extension": ".py",
   "mimetype": "text/x-python",
   "name": "python",
   "nbconvert_exporter": "python",
   "pygments_lexer": "ipython3",
   "version": "3.7.6"
  }
 },
 "nbformat": 4,
 "nbformat_minor": 4
}
