{
 "cells": [
  {
   "cell_type": "markdown",
   "metadata": {},
   "source": [
    "# Reaction Property Packages in IDAES\n",
    "\n",
    "Introductory stuff"
   ]
  },
  {
   "cell_type": "markdown",
   "metadata": {},
   "source": [
    "Note on building up classes using methods"
   ]
  },
  {
   "cell_type": "markdown",
   "metadata": {},
   "source": [
    "## Reaction Parameter Block\n",
    "\n",
    "More text"
   ]
  },
  {
   "cell_type": "code",
   "execution_count": null,
   "metadata": {},
   "outputs": [],
   "source": [
    "# Import Pyomo libraries\n",
    "from pyomo.environ import (Constraint,\n",
    "                           exp,\n",
    "                           Param,\n",
    "                           Set,\n",
    "                           units as pyunits,\n",
    "                           Var)\n",
    "\n",
    "# Import IDAES cores\n",
    "from idaes.core import (declare_process_block_class,\n",
    "                        MaterialFlowBasis,\n",
    "                        ReactionParameterBlock,\n",
    "                        ReactionBlockDataBase,\n",
    "                        ReactionBlockBase)\n",
    "from idaes.core.util.constants import Constants as const\n",
    "import idaes.logger as idaeslog"
   ]
  },
  {
   "cell_type": "code",
   "execution_count": null,
   "metadata": {},
   "outputs": [],
   "source": [
    "units_metadata = {'time': pyunits.s,\n",
    "                  'length': pyunits.m,\n",
    "                  'mass': pyunits.kg,\n",
    "                  'amount': pyunits.mol,\n",
    "                  'temperature': pyunits.K}\n",
    "\n",
    "properties_metadata = {'k_rxn': {'method': None},\n",
    "                       'reaction_rate': {'method': None}}"
   ]
  },
  {
   "cell_type": "code",
   "execution_count": null,
   "metadata": {},
   "outputs": [],
   "source": [
    "def define_kinetic_reactions(self):\n",
    "    # Rate Reaction Index\n",
    "    self.rate_reaction_idx = Set(initialize=[\"R1\"])\n",
    "\n",
    "    # Rate Reaction Stoichiometry\n",
    "    self.rate_reaction_stoichiometry = {(\"R1\", \"Vap\", \"benzene\"): 1,\n",
    "                                        (\"R1\", \"Vap\", \"toluene\"): -1,\n",
    "                                        (\"R1\", \"Vap\", \"hydrogen\"): -1,\n",
    "                                        (\"R1\", \"Vap\", \"methane\"): 1,\n",
    "                                        (\"R1\", \"Vap\", \"diphenyl\"): 0}"
   ]
  },
  {
   "cell_type": "code",
   "execution_count": null,
   "metadata": {},
   "outputs": [],
   "source": [
    "def define_equilibrium_reactions(self):\n",
    "    # Equilibrium Reaction Index\n",
    "    self.equilibrium_reaction_idx = Set(initialize=[\"E1\"])\n",
    "\n",
    "    # Equilibrium Reaction Stoichiometry\n",
    "    self.equilibrium_reaction_stoichiometry = {\n",
    "        (\"E1\", \"Vap\", \"benzene\"): -2,\n",
    "        (\"E1\", \"Vap\", \"toluene\"): 0,\n",
    "        (\"E1\", \"Vap\", \"hydrogen\"): 1,\n",
    "        (\"E1\", \"Vap\", \"methane\"): 0,\n",
    "        (\"E1\", \"Vap\", \"diphenyl\"): 1}"
   ]
  },
  {
   "cell_type": "code",
   "execution_count": null,
   "metadata": {},
   "outputs": [],
   "source": [
    "def define_parameters(self):\n",
    "    # Arrhenius Constant\n",
    "    self.arrhenius = Param(default=1.25e-9,\n",
    "                           doc=\"Arrhenius constant\",\n",
    "                           units=pyunits.mol/pyunits.m**3/pyunits.s/pyunits.Pa**2)\n",
    "\n",
    "    # Activation Energy\n",
    "    self.energy_activation = Param(default=3800,\n",
    "                                   doc=\"Activation energy\",\n",
    "                                   units=pyunits.J/pyunits.mol)"
   ]
  },
  {
   "cell_type": "code",
   "execution_count": null,
   "metadata": {},
   "outputs": [],
   "source": [
    "@declare_process_block_class(\"HDAReactionParameterBlock\")\n",
    "class HDAReactionParameterData(ReactionParameterBlock):\n",
    "    \"\"\"\n",
    "    Reaction Parameter Block Class\n",
    "    \"\"\"\n",
    "\n",
    "    def build(self):\n",
    "        '''\n",
    "        Callable method for Block construction.\n",
    "        '''\n",
    "        super(HDAReactionParameterData, self).build()\n",
    "\n",
    "        self._reaction_block_class = HDAReactionBlock\n",
    "        \n",
    "        define_kinetic_reactions(self)\n",
    "        define_equilibrium_reactions(self)\n",
    "        define_parameters(self)\n",
    "\n",
    "    @classmethod\n",
    "    def define_metadata(cls, obj):\n",
    "        obj.add_properties(properties_metadata)\n",
    "        obj.add_default_units(units_metadata)"
   ]
  },
  {
   "cell_type": "markdown",
   "metadata": {},
   "source": [
    "## Reaction Blocks\n",
    "\n",
    "Even more text"
   ]
  },
  {
   "cell_type": "code",
   "execution_count": null,
   "metadata": {},
   "outputs": [],
   "source": [
    "class _HDAReactionBlock(ReactionBlockBase):\n",
    "\n",
    "    def initialize(blk, outlvl=idaeslog.NOTSET, **kwargs):\n",
    "        init_log = idaeslog.getInitLogger(blk.name, outlvl, tag=\"properties\")\n",
    "        init_log.info('Initialization Complete.')"
   ]
  },
  {
   "cell_type": "code",
   "execution_count": null,
   "metadata": {},
   "outputs": [],
   "source": [
    "def define_variables_and_parameters(self):\n",
    "    self.k_rxn = Var(initialize=7e-10,\n",
    "                    doc=\"Rate constant\",\n",
    "                    units=pyunits.mol/pyunits.m**3/pyunits.s/pyunits.Pa**2)\n",
    "\n",
    "    self.k_eq = Param(initialize=10000,\n",
    "                      doc=\"Equlibrium constant\",\n",
    "                      units=pyunits.Pa)\n",
    "\n",
    "    self.reaction_rate = Var(self.params.rate_reaction_idx,\n",
    "                             initialize=0,\n",
    "                             doc=\"Rate of reaction\",\n",
    "                             units=pyunits.mol/pyunits.m**3/pyunits.s)"
   ]
  },
  {
   "cell_type": "code",
   "execution_count": null,
   "metadata": {},
   "outputs": [],
   "source": [
    "def define_rate_expression(self):\n",
    "    self.arrhenius_equation = Constraint(\n",
    "            expr=self.k_rxn == self.params.arrhenius * exp(\n",
    "                -self.params.energy_activation /\n",
    "                (const.gas_constant*self.state_ref.temperature)))\n",
    "\n",
    "    def rate_rule(b, r):\n",
    "        return b.reaction_rate[r] == (\n",
    "                    b.k_rxn *\n",
    "                    b.state_ref.mole_frac_comp[\"toluene\"] *\n",
    "                    b.state_ref.mole_frac_comp[\"hydrogen\"] *\n",
    "                    b.state_ref.pressure**2)\n",
    "    self.rate_expression = Constraint(self.params.rate_reaction_idx,\n",
    "                                      rule=rate_rule)"
   ]
  },
  {
   "cell_type": "code",
   "execution_count": null,
   "metadata": {},
   "outputs": [],
   "source": [
    "def define_equilibrium_expression(self):\n",
    "    self.equilibrium_constraint = Constraint(\n",
    "        expr=self.k_eq *\n",
    "        self.state_ref.mole_frac_comp[\"benzene\"] *\n",
    "        self.state_ref.pressure ==\n",
    "        self.state_ref.mole_frac_comp[\"diphenyl\"] *\n",
    "        self.state_ref.mole_frac_comp[\"hydrogen\"] *\n",
    "        self.state_ref.pressure**2)"
   ]
  },
  {
   "cell_type": "code",
   "execution_count": null,
   "metadata": {},
   "outputs": [],
   "source": [
    "@declare_process_block_class(\"HDAReactionBlock\",\n",
    "                             block_class=_HDAReactionBlock)\n",
    "class HDAReactionBlockData(ReactionBlockDataBase):\n",
    "    def build(self):\n",
    "\n",
    "        super(HDAReactionBlockData, self).build()\n",
    "        \n",
    "        define_variables_and_parameters(self)\n",
    "        define_rate_expression(self)\n",
    "        define_equilibrium_expression(self)\n",
    "    \n",
    "    def get_reaction_rate_basis(b):\n",
    "        return MaterialFlowBasis.molar"
   ]
  },
  {
   "cell_type": "markdown",
   "metadata": {},
   "source": [
    "# Demonstration"
   ]
  },
  {
   "cell_type": "code",
   "execution_count": null,
   "metadata": {},
   "outputs": [],
   "source": [
    "from pyomo.environ import ConcreteModel\n",
    "from pyomo.util.check_units import assert_units_consistent\n",
    "\n",
    "from idaes.core import FlowsheetBlock\n",
    "from idaes.core.util import get_solver\n",
    "from idaes.generic_models.unit_models import CSTR\n",
    "\n",
    "from thermophysical_property_example import HDAParameterBlock\n",
    "\n",
    "from idaes.core.util.model_statistics import degrees_of_freedom"
   ]
  },
  {
   "cell_type": "code",
   "execution_count": null,
   "metadata": {},
   "outputs": [],
   "source": [
    "m = ConcreteModel()\n",
    "\n",
    "m.fs = FlowsheetBlock(default={\"dynamic\": False})\n",
    "\n",
    "m.fs.thermo_params = HDAParameterBlock()\n",
    "m.fs.reaction_params = HDAReactionParameterBlock(\n",
    "    default={\"property_package\": m.fs.thermo_params})\n",
    "\n",
    "m.fs.reactor = CSTR(default={\n",
    "    \"property_package\": m.fs.thermo_params,\n",
    "    \"reaction_package\": m.fs.reaction_params,\n",
    "    \"has_equilibrium_reactions\": True})"
   ]
  },
  {
   "cell_type": "code",
   "execution_count": null,
   "metadata": {},
   "outputs": [],
   "source": [
    "print(\"Degrees of Freedom: \", degrees_of_freedom(m))"
   ]
  },
  {
   "cell_type": "code",
   "execution_count": null,
   "metadata": {},
   "outputs": [],
   "source": [
    "m.fs.reactor.inlet.flow_mol.fix(100)\n",
    "m.fs.reactor.inlet.temperature.fix(500)\n",
    "m.fs.reactor.inlet.pressure.fix(350000)\n",
    "m.fs.reactor.inlet.mole_frac_comp[0, \"benzene\"].fix(0.1)\n",
    "m.fs.reactor.inlet.mole_frac_comp[0, \"toluene\"].fix(0.4)\n",
    "m.fs.reactor.inlet.mole_frac_comp[0, \"hydrogen\"].fix(0.4)\n",
    "m.fs.reactor.inlet.mole_frac_comp[0, \"methane\"].fix(0.1)\n",
    "m.fs.reactor.inlet.mole_frac_comp[0, \"diphenyl\"].fix(0.0)\n",
    "\n",
    "m.fs.reactor.volume.fix(1)\n",
    "\n",
    "print(\"Degrees of Freedom: \", degrees_of_freedom(m))"
   ]
  },
  {
   "cell_type": "code",
   "execution_count": null,
   "metadata": {},
   "outputs": [],
   "source": [
    "m.fs.reactor.initialize(state_args={\n",
    "    \"flow_mol\": 100,\n",
    "    \"mole_frac_comp\": {\n",
    "        \"benzene\": 0.15,\n",
    "        \"toluene\": 0.35,\n",
    "        \"hydrogen\": 0.35,\n",
    "        \"methane\": 0.15,\n",
    "        \"diphenyl\": 0.01},\n",
    "    \"temperature\": 600,\n",
    "    \"pressure\": 350000})\n",
    "\n",
    "solver = get_solver()\n",
    "results = solver.solve(m, tee=True)"
   ]
  },
  {
   "cell_type": "code",
   "execution_count": null,
   "metadata": {
    "tags": [
     "testing",
     "remove_cell"
    ]
   },
   "outputs": [],
   "source": [
    "from pyomo.environ import TerminationCondition, SolverStatus\n",
    "assert results.solver.termination_condition == TerminationCondition.optimal\n",
    "assert results.solver.status == SolverStatus.ok"
   ]
  },
  {
   "cell_type": "code",
   "execution_count": null,
   "metadata": {},
   "outputs": [],
   "source": [
    "m.fs.reactor.outlet.display()"
   ]
  },
  {
   "cell_type": "code",
   "execution_count": null,
   "metadata": {
    "tags": [
     "testing",
     "remove_cell"
    ]
   },
   "outputs": [],
   "source": [
    "import pytest\n",
    "from pyomo.environ import value\n",
    "assert value(m.fs.reactor.outlet.flow_mol[0]) == pytest.approx(100, abs=1e-3)\n",
    "assert value(m.fs.reactor.outlet.temperature[0]) == pytest.approx(790.212, abs=1e-3)\n",
    "assert value(m.fs.reactor.outlet.mole_frac_comp[0, \"benzene\"]) == pytest.approx(0.159626, abs=1e-6)"
   ]
  },
  {
   "cell_type": "code",
   "execution_count": null,
   "metadata": {},
   "outputs": [],
   "source": [
    "assert_units_consistent(m)"
   ]
  },
  {
   "cell_type": "markdown",
   "metadata": {},
   "source": [
    "# Using the Generic Property Framework\n",
    "\n",
    "Show how to do the same thing with the generic framework.\n"
   ]
  }
 ],
 "metadata": {
  "celltoolbar": "Tags",
  "kernelspec": {
   "display_name": "Python 3",
   "language": "python",
   "name": "python3"
  },
  "language_info": {
   "codemirror_mode": {
    "name": "ipython",
    "version": 3
   },
   "file_extension": ".py",
   "mimetype": "text/x-python",
   "name": "python",
   "nbconvert_exporter": "python",
   "pygments_lexer": "ipython3",
   "version": "3.7.6"
  }
 },
 "nbformat": 4,
 "nbformat_minor": 4
}
