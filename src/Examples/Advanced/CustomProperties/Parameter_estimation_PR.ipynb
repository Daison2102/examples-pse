{
 "cells": [
  {
   "cell_type": "markdown",
   "metadata": {},
   "source": [
    "# Using parameter estimation with generic property package"
   ]
  },
  {
   "cell_type": "markdown",
   "metadata": {},
   "source": [
    "## 1. Introduction\n",
    "\n",
    "This Jupyter Notebook estimates binary interaction parameters for a CO$_2$-Ionic liquid property package. A property package has been created for CO$_2$-[bmim][PF6]. We will utilize Pyomo's `parmest` tool in conjuction with IDAES models for parameter estimation. We demonstrate these tools by estimating the parameters associated with the Peng-Robinson property model for a benzene-toluene mixture. The Peng-Robinson EOS the binary interaction parameter (kappa_ij). When estimating parameters associated with the property package, IDAES provides the flexibility of doing the parameter estimation by just using the state block or by using a unit model with a specified property package. This module will demonstrate parameter estimation by using the flash unit model with the generic property package.\n",
    "\n",
    "### 1.1 Tutorial objectives\n",
    "\n",
    "* Utilize the Generic Property Package, which provides a flexible platform for users to build property packages by calling upon libraries of modular sub-models to build up complex property calculations with the least effort possible.\n",
    "* Set up a method to return an initialized model\n",
    "* Set up the parameter estimation problem using `parmest`"
   ]
  },
  {
   "cell_type": "markdown",
   "metadata": {},
   "source": [
    "## 2. Problem Statement\n",
    "\n",
    "### 2.1 Importing Pyomo and IDAES model and flowsheet components.\n",
    "\n",
    "In the next cell, we will be importing the necessary components from Pyomo and IDAES."
   ]
  },
  {
   "cell_type": "code",
   "execution_count": 1,
   "metadata": {},
   "outputs": [],
   "source": [
    "# Import objects from pyomo package\n",
    "from pyomo.environ import (ConcreteModel,\n",
    "                           SolverFactory,\n",
    "                           units as pyunits)\n",
    "\n",
    "# Import the main FlowsheetBlock from IDAES. The flowsheet block will contain the unit model\n",
    "from idaes.core import FlowsheetBlock\n",
    "\n",
    "# Import idaes logger to set output levels\n",
    "import idaes.logger as idaeslog\n",
    "\n",
    "# Import Flash unit model from idaes.generic_models.unit_models\n",
    "from idaes.generic_models.unit_models import Flash"
   ]
  },
  {
   "cell_type": "markdown",
   "metadata": {},
   "source": [
    "### 2.2 Import parmest "
   ]
  },
  {
   "cell_type": "code",
   "execution_count": null,
   "metadata": {},
   "outputs": [],
   "source": [
    "import pyomo.contrib.parmest.parmest as parmest"
   ]
  },
  {
   "cell_type": "markdown",
   "metadata": {},
   "source": [
    "### 2.3 Import the generic parameter block"
   ]
  },
  {
   "cell_type": "code",
   "execution_count": null,
   "metadata": {},
   "outputs": [],
   "source": [
    "from idaes.generic_models.properties.core.examples.CO2_bmimPF6_PR import configuration\n",
    "\n",
    "from idaes.generic_models.properties.core.generic.generic_property import (\n",
    "        GenericParameterBlock)"
   ]
  },
  {
   "cell_type": "markdown",
   "metadata": {},
   "source": [
    "### 2.4 Import data\n",
    "\n",
    "In the next cell, we will be importing `pandas` and the `.csv` file with preassure and composition data. For this example, we load data from the csv file CO2_IL_298.csv. The dataset consists of ninteen data points which provide the mole fraction of [bmim][PF6] and carbon dioxide and the pressure at three different temperatures."
   ]
  },
  {
   "cell_type": "code",
   "execution_count": null,
   "metadata": {},
   "outputs": [],
   "source": [
    "import pandas as pd\n",
    "\n",
    "# Load data from csv\n",
    "data = pd.read_csv('CO2_IL_298.csv')"
   ]
  },
  {
   "cell_type": "markdown",
   "metadata": {},
   "source": [
    "## 3.0 Setting up an initialized model\n",
    "\n",
    "We need to provide a method that returns an initialized model to the `parmest` tool in Pyomo."
   ]
  },
  {
   "cell_type": "code",
   "execution_count": 2,
   "metadata": {},
   "outputs": [],
   "source": [
    "def PR_model(data):\n",
    "    \n",
    "    m = ConcreteModel()\n",
    "\n",
    "    m.fs = FlowsheetBlock(default={\"dynamic\": False})\n",
    "\n",
    "    m.fs.properties = GenericParameterBlock(default=configuration)\n",
    "\n",
    "    m.fs.state_block = m.fs.properties.state_block_class(\n",
    "        default={\"parameters\": m.fs.properties,\n",
    "                 \"defined_state\": True})\n",
    "\n",
    "    m.fs.state_block.flow_mol.fix(1)\n",
    "    m.fs.state_block.temperature.fix(298.15)\n",
    "    m.fs.state_block.pressure.fix(1010608)\n",
    "    m.fs.state_block.mole_frac_comp[\"bmimPF6\"].fix(0.2)\n",
    "    m.fs.state_block.mole_frac_comp[\"carbon_dioxide\"].fix(0.8)\n",
    "    \n",
    "    # parameter - kappa_ij (set at 0.3, 0 if i=j)\n",
    "    m.fs.properties.PR_kappa['bmimPF6', 'bmimPF6'].fix(0)\n",
    "    m.fs.properties.PR_kappa['bmimPF6', 'carbon_dioxide'].fix(-0.13534)\n",
    "    m.fs.properties.PR_kappa['carbon_dioxide', 'carbon_dioxide'].fix(0)\n",
    "    m.fs.properties.PR_kappa['carbon_dioxide', 'bmimPF6'].fix(0.0013534)\n",
    "\n",
    "    # Initialize the flash unit\n",
    "    m.fs.state_block.initialize(outlvl=idaeslog.INFO)\n",
    "\n",
    "    # Fix the state variables on the state block\n",
    "    m.fs.state_block.temperature.fix(float(data[\"temperature\"]))\n",
    "    m.fs.state_block.pressure.fix(float(data[\"pressure\"]))\n",
    "    m.fs.state_block.mole_frac_comp[\"bmimPF6\"].fix(float(data[\"x_bmimPF6\"]))\n",
    "    m.fs.state_block.mole_frac_comp[\"carbon_dioxide\"].fix(float(data[\"x_carbon_dioxide\"]))\n",
    "\n",
    "    # Set bounds on variables to be estimated\n",
    "    m.fs.properties.PR_kappa['bmimPF6', 'carbon_dioxide'].setlb(-5)\n",
    "    m.fs.properties.PR_kappa['bmimPF6', 'carbon_dioxide'].setub(5)\n",
    "\n",
    "    m.fs.properties.PR_kappa['carbon_dioxide', 'bmimPF6'].setlb(-5)\n",
    "    m.fs.properties.PR_kappa['carbon_dioxide', 'bmimPF6'].setub(5)\n",
    "\n",
    "    # Return initialized flash model\n",
    "    return m"
   ]
  },
  {
   "cell_type": "markdown",
   "metadata": {},
   "source": [
    "### 3.1 Solving square problem"
   ]
  },
  {
   "cell_type": "code",
   "execution_count": 3,
   "metadata": {},
   "outputs": [
    {
     "name": "stdout",
     "output_type": "stream",
     "text": [
      "2021-01-13 20:16:15 [INFO] idaes.init.fs.state_block: Starting initialization\n",
      "2021-01-13 20:16:15 [INFO] idaes.init.fs.state_block: Dew and bubble point initialization: optimal - Optimal Solution Found.\n",
      "2021-01-13 20:16:15 [INFO] idaes.init.fs.state_block: Equilibrium temperature initialization completed.\n",
      "2021-01-13 20:16:15 [INFO] idaes.init.fs.state_block: State variable initialization completed.\n",
      "2021-01-13 20:16:15 [INFO] idaes.init.fs.state_block: Phase equilibrium initialization: optimal - Optimal Solution Found.\n",
      "2021-01-13 20:16:16 [INFO] idaes.init.fs.state_block: Property initialization: optimal - Optimal Solution Found.\n",
      "2021-01-13 20:16:16 [INFO] idaes.init.fs.state_block: Property package initialization: optimal - Optimal Solution Found.\n"
     ]
    }
   ],
   "source": [
    "from idaes.core.util.model_statistics import degrees_of_freedom\n",
    "import pytest\n",
    "\n",
    "test_data = {\"temperature\": 298.15, \"pressure\": 1014386.732, \"x_bmimPF6\":0.839, \"x_carbon_dioxide\":0.161}\n",
    "\n",
    "m = PR_model(test_data)\n",
    "\n",
    "# Check that degrees of freedom is 0\n",
    "assert degrees_of_freedom(m) == 0"
   ]
  },
  {
   "cell_type": "markdown",
   "metadata": {},
   "source": [
    "## 4.0 Parameter estimation using parmest \n",
    "\n",
    "### 4.1 List of variable names to be estimated\n",
    "\n",
    "Create a list of vars to estimate"
   ]
  },
  {
   "cell_type": "code",
   "execution_count": 4,
   "metadata": {},
   "outputs": [],
   "source": [
    "variable_name = [\"fs.properties.PR_kappa['bmimPF6', 'carbon_dioxide']\",\n",
    "                 \"fs.properties.PR_kappa['carbon_dioxide', 'bmimPF6']\"]"
   ]
  },
  {
   "cell_type": "markdown",
   "metadata": {},
   "source": [
    "### 4.2 Create method to return an expression that computes the sum of squared error\n",
    "\n",
    "We need to provide a method to return an expression to compute the sum of squared errors that will be used as the objective in solving the parameter estimation problem. For this problem, the error will be computed for the pressure."
   ]
  },
  {
   "cell_type": "code",
   "execution_count": 5,
   "metadata": {},
   "outputs": [],
   "source": [
    "def SSE(m, data):   \n",
    "    expr = ((float(data[\"pressure\"]) - m.fs.state_block.pressure)**2)\n",
    "    return expr*1e-6"
   ]
  },
  {
   "cell_type": "markdown",
   "metadata": {},
   "source": [
    "### 4.3 Run the parameter estimation\n",
    "\n",
    "We are now ready to set up the parameter estimation problem. We will create a parameter estimation object called pest. As shown below, we pass the method that returns an initialized model, data, variable_name, and the SSE expression to the Estimator method. tee=True will print the solver output after solving the parameter estimation problem."
   ]
  },
  {
   "cell_type": "code",
   "execution_count": 6,
   "metadata": {},
   "outputs": [
    {
     "name": "stdout",
     "output_type": "stream",
     "text": [
      "2021-01-13 20:16:16 [WARNING] idaes.generic_models.properties.core.generic.generic_property: fs.properties phase Liq was not assigned a type. Using generic Phase object.\n",
      "2021-01-13 20:16:16 [WARNING] idaes.generic_models.properties.core.generic.generic_property: fs.properties phase Vap was not assigned a type. Using generic Phase object.\n",
      "2021-01-13 20:16:16 [WARNING] idaes.generic_models.properties.core.generic.generic_property: fs.properties component bmimPF6 was not assigned a type. Using generic Component object.\n",
      "2021-01-13 20:16:16 [WARNING] idaes.generic_models.properties.core.generic.generic_property: fs.properties component carbon_dioxide was not assigned a type. Using generic Component object.\n",
      "2021-01-13 20:16:16 [INFO] idaes.init.fs.state_block: Starting initialization\n",
      "2021-01-13 20:16:16 [INFO] idaes.init.fs.state_block: Dew and bubble point initialization: optimal - Optimal Solution Found.\n",
      "2021-01-13 20:16:16 [INFO] idaes.init.fs.state_block: Equilibrium temperature initialization completed.\n",
      "2021-01-13 20:16:16 [INFO] idaes.init.fs.state_block: State variable initialization completed.\n",
      "2021-01-13 20:16:17 [INFO] idaes.init.fs.state_block: Phase equilibrium initialization: optimal - Optimal Solution Found.\n",
      "2021-01-13 20:16:17 [INFO] idaes.init.fs.state_block: Property initialization: optimal - Optimal Solution Found.\n",
      "2021-01-13 20:16:17 [INFO] idaes.init.fs.state_block: Property package initialization: optimal - Optimal Solution Found.\n",
      "2021-01-13 20:16:17 [WARNING] idaes.generic_models.properties.core.generic.generic_property: fs.properties phase Liq was not assigned a type. Using generic Phase object.\n",
      "2021-01-13 20:16:17 [WARNING] idaes.generic_models.properties.core.generic.generic_property: fs.properties phase Vap was not assigned a type. Using generic Phase object.\n",
      "2021-01-13 20:16:17 [WARNING] idaes.generic_models.properties.core.generic.generic_property: fs.properties component bmimPF6 was not assigned a type. Using generic Component object.\n",
      "2021-01-13 20:16:17 [WARNING] idaes.generic_models.properties.core.generic.generic_property: fs.properties component carbon_dioxide was not assigned a type. Using generic Component object.\n",
      "2021-01-13 20:16:17 [INFO] idaes.init.fs.state_block: Starting initialization\n",
      "2021-01-13 20:16:17 [INFO] idaes.init.fs.state_block: Dew and bubble point initialization: optimal - Optimal Solution Found.\n",
      "2021-01-13 20:16:17 [INFO] idaes.init.fs.state_block: Equilibrium temperature initialization completed.\n",
      "2021-01-13 20:16:17 [INFO] idaes.init.fs.state_block: State variable initialization completed.\n",
      "2021-01-13 20:16:17 [INFO] idaes.init.fs.state_block: Phase equilibrium initialization: optimal - Optimal Solution Found.\n",
      "2021-01-13 20:16:18 [INFO] idaes.init.fs.state_block: Property initialization: optimal - Optimal Solution Found.\n",
      "2021-01-13 20:16:18 [INFO] idaes.init.fs.state_block: Property package initialization: optimal - Optimal Solution Found.\n",
      "2021-01-13 20:16:18 [WARNING] idaes.generic_models.properties.core.generic.generic_property: fs.properties phase Liq was not assigned a type. Using generic Phase object.\n",
      "2021-01-13 20:16:18 [WARNING] idaes.generic_models.properties.core.generic.generic_property: fs.properties phase Vap was not assigned a type. Using generic Phase object.\n",
      "2021-01-13 20:16:18 [WARNING] idaes.generic_models.properties.core.generic.generic_property: fs.properties component bmimPF6 was not assigned a type. Using generic Component object.\n",
      "2021-01-13 20:16:18 [WARNING] idaes.generic_models.properties.core.generic.generic_property: fs.properties component carbon_dioxide was not assigned a type. Using generic Component object.\n",
      "2021-01-13 20:16:18 [INFO] idaes.init.fs.state_block: Starting initialization\n",
      "2021-01-13 20:16:18 [INFO] idaes.init.fs.state_block: Dew and bubble point initialization: optimal - Optimal Solution Found.\n",
      "2021-01-13 20:16:18 [INFO] idaes.init.fs.state_block: Equilibrium temperature initialization completed.\n",
      "2021-01-13 20:16:18 [INFO] idaes.init.fs.state_block: State variable initialization completed.\n",
      "2021-01-13 20:16:18 [INFO] idaes.init.fs.state_block: Phase equilibrium initialization: optimal - Optimal Solution Found.\n",
      "2021-01-13 20:16:18 [INFO] idaes.init.fs.state_block: Property initialization: optimal - Optimal Solution Found.\n",
      "2021-01-13 20:16:18 [INFO] idaes.init.fs.state_block: Property package initialization: optimal - Optimal Solution Found.\n",
      "2021-01-13 20:16:18 [WARNING] idaes.generic_models.properties.core.generic.generic_property: fs.properties phase Liq was not assigned a type. Using generic Phase object.\n",
      "2021-01-13 20:16:18 [WARNING] idaes.generic_models.properties.core.generic.generic_property: fs.properties phase Vap was not assigned a type. Using generic Phase object.\n",
      "2021-01-13 20:16:18 [WARNING] idaes.generic_models.properties.core.generic.generic_property: fs.properties component bmimPF6 was not assigned a type. Using generic Component object.\n",
      "2021-01-13 20:16:18 [WARNING] idaes.generic_models.properties.core.generic.generic_property: fs.properties component carbon_dioxide was not assigned a type. Using generic Component object.\n",
      "2021-01-13 20:16:19 [INFO] idaes.init.fs.state_block: Starting initialization\n",
      "2021-01-13 20:16:19 [INFO] idaes.init.fs.state_block: Dew and bubble point initialization: optimal - Optimal Solution Found.\n",
      "2021-01-13 20:16:19 [INFO] idaes.init.fs.state_block: Equilibrium temperature initialization completed.\n",
      "2021-01-13 20:16:19 [INFO] idaes.init.fs.state_block: State variable initialization completed.\n",
      "2021-01-13 20:16:19 [INFO] idaes.init.fs.state_block: Phase equilibrium initialization: optimal - Optimal Solution Found.\n",
      "2021-01-13 20:16:19 [INFO] idaes.init.fs.state_block: Property initialization: optimal - Optimal Solution Found.\n",
      "2021-01-13 20:16:19 [INFO] idaes.init.fs.state_block: Property package initialization: optimal - Optimal Solution Found.\n",
      "2021-01-13 20:16:19 [WARNING] idaes.generic_models.properties.core.generic.generic_property: fs.properties phase Liq was not assigned a type. Using generic Phase object.\n",
      "2021-01-13 20:16:19 [WARNING] idaes.generic_models.properties.core.generic.generic_property: fs.properties phase Vap was not assigned a type. Using generic Phase object.\n",
      "2021-01-13 20:16:19 [WARNING] idaes.generic_models.properties.core.generic.generic_property: fs.properties component bmimPF6 was not assigned a type. Using generic Component object.\n",
      "2021-01-13 20:16:19 [WARNING] idaes.generic_models.properties.core.generic.generic_property: fs.properties component carbon_dioxide was not assigned a type. Using generic Component object.\n",
      "2021-01-13 20:16:19 [INFO] idaes.init.fs.state_block: Starting initialization\n",
      "2021-01-13 20:16:20 [INFO] idaes.init.fs.state_block: Dew and bubble point initialization: optimal - Optimal Solution Found.\n",
      "2021-01-13 20:16:20 [INFO] idaes.init.fs.state_block: Equilibrium temperature initialization completed.\n",
      "2021-01-13 20:16:20 [INFO] idaes.init.fs.state_block: State variable initialization completed.\n",
      "2021-01-13 20:16:20 [INFO] idaes.init.fs.state_block: Phase equilibrium initialization: optimal - Optimal Solution Found.\n",
      "2021-01-13 20:16:20 [INFO] idaes.init.fs.state_block: Property initialization: optimal - Optimal Solution Found.\n",
      "2021-01-13 20:16:20 [INFO] idaes.init.fs.state_block: Property package initialization: optimal - Optimal Solution Found.\n",
      "2021-01-13 20:16:20 [WARNING] idaes.generic_models.properties.core.generic.generic_property: fs.properties phase Liq was not assigned a type. Using generic Phase object.\n",
      "2021-01-13 20:16:20 [WARNING] idaes.generic_models.properties.core.generic.generic_property: fs.properties phase Vap was not assigned a type. Using generic Phase object.\n",
      "2021-01-13 20:16:20 [WARNING] idaes.generic_models.properties.core.generic.generic_property: fs.properties component bmimPF6 was not assigned a type. Using generic Component object.\n",
      "2021-01-13 20:16:20 [WARNING] idaes.generic_models.properties.core.generic.generic_property: fs.properties component carbon_dioxide was not assigned a type. Using generic Component object.\n",
      "2021-01-13 20:16:20 [INFO] idaes.init.fs.state_block: Starting initialization\n",
      "2021-01-13 20:16:21 [INFO] idaes.init.fs.state_block: Dew and bubble point initialization: optimal - Optimal Solution Found.\n"
     ]
    },
    {
     "name": "stdout",
     "output_type": "stream",
     "text": [
      "2021-01-13 20:16:21 [INFO] idaes.init.fs.state_block: Equilibrium temperature initialization completed.\n",
      "2021-01-13 20:16:21 [INFO] idaes.init.fs.state_block: State variable initialization completed.\n",
      "2021-01-13 20:16:21 [INFO] idaes.init.fs.state_block: Phase equilibrium initialization: optimal - Optimal Solution Found.\n",
      "2021-01-13 20:16:21 [INFO] idaes.init.fs.state_block: Property initialization: optimal - Optimal Solution Found.\n",
      "2021-01-13 20:16:21 [INFO] idaes.init.fs.state_block: Property package initialization: optimal - Optimal Solution Found.\n",
      "2021-01-13 20:16:21 [WARNING] idaes.generic_models.properties.core.generic.generic_property: fs.properties phase Liq was not assigned a type. Using generic Phase object.\n",
      "2021-01-13 20:16:21 [WARNING] idaes.generic_models.properties.core.generic.generic_property: fs.properties phase Vap was not assigned a type. Using generic Phase object.\n",
      "2021-01-13 20:16:21 [WARNING] idaes.generic_models.properties.core.generic.generic_property: fs.properties component bmimPF6 was not assigned a type. Using generic Component object.\n",
      "2021-01-13 20:16:21 [WARNING] idaes.generic_models.properties.core.generic.generic_property: fs.properties component carbon_dioxide was not assigned a type. Using generic Component object.\n",
      "2021-01-13 20:16:21 [INFO] idaes.init.fs.state_block: Starting initialization\n",
      "2021-01-13 20:16:21 [INFO] idaes.init.fs.state_block: Dew and bubble point initialization: optimal - Optimal Solution Found.\n",
      "2021-01-13 20:16:21 [INFO] idaes.init.fs.state_block: Equilibrium temperature initialization completed.\n",
      "2021-01-13 20:16:21 [INFO] idaes.init.fs.state_block: State variable initialization completed.\n",
      "2021-01-13 20:16:22 [INFO] idaes.init.fs.state_block: Phase equilibrium initialization: optimal - Optimal Solution Found.\n",
      "2021-01-13 20:16:22 [INFO] idaes.init.fs.state_block: Property initialization: optimal - Optimal Solution Found.\n",
      "2021-01-13 20:16:22 [INFO] idaes.init.fs.state_block: Property package initialization: optimal - Optimal Solution Found.\n",
      "2021-01-13 20:16:22 [WARNING] idaes.generic_models.properties.core.generic.generic_property: fs.properties phase Liq was not assigned a type. Using generic Phase object.\n",
      "2021-01-13 20:16:22 [WARNING] idaes.generic_models.properties.core.generic.generic_property: fs.properties phase Vap was not assigned a type. Using generic Phase object.\n",
      "2021-01-13 20:16:22 [WARNING] idaes.generic_models.properties.core.generic.generic_property: fs.properties component bmimPF6 was not assigned a type. Using generic Component object.\n",
      "2021-01-13 20:16:22 [WARNING] idaes.generic_models.properties.core.generic.generic_property: fs.properties component carbon_dioxide was not assigned a type. Using generic Component object.\n",
      "2021-01-13 20:16:22 [INFO] idaes.init.fs.state_block: Starting initialization\n",
      "2021-01-13 20:16:22 [INFO] idaes.init.fs.state_block: Dew and bubble point initialization: optimal - Optimal Solution Found.\n",
      "2021-01-13 20:16:22 [INFO] idaes.init.fs.state_block: Equilibrium temperature initialization completed.\n",
      "2021-01-13 20:16:22 [INFO] idaes.init.fs.state_block: State variable initialization completed.\n",
      "2021-01-13 20:16:23 [INFO] idaes.init.fs.state_block: Phase equilibrium initialization: optimal - Optimal Solution Found.\n",
      "2021-01-13 20:16:23 [INFO] idaes.init.fs.state_block: Property initialization: optimal - Optimal Solution Found.\n",
      "2021-01-13 20:16:23 [INFO] idaes.init.fs.state_block: Property package initialization: optimal - Optimal Solution Found.\n",
      "2021-01-13 20:16:23 [WARNING] idaes.generic_models.properties.core.generic.generic_property: fs.properties phase Liq was not assigned a type. Using generic Phase object.\n",
      "2021-01-13 20:16:23 [WARNING] idaes.generic_models.properties.core.generic.generic_property: fs.properties phase Vap was not assigned a type. Using generic Phase object.\n",
      "2021-01-13 20:16:23 [WARNING] idaes.generic_models.properties.core.generic.generic_property: fs.properties component bmimPF6 was not assigned a type. Using generic Component object.\n",
      "2021-01-13 20:16:23 [WARNING] idaes.generic_models.properties.core.generic.generic_property: fs.properties component carbon_dioxide was not assigned a type. Using generic Component object.\n",
      "2021-01-13 20:16:23 [INFO] idaes.init.fs.state_block: Starting initialization\n",
      "2021-01-13 20:16:23 [INFO] idaes.init.fs.state_block: Dew and bubble point initialization: optimal - Optimal Solution Found.\n",
      "2021-01-13 20:16:23 [INFO] idaes.init.fs.state_block: Equilibrium temperature initialization completed.\n",
      "2021-01-13 20:16:23 [INFO] idaes.init.fs.state_block: State variable initialization completed.\n",
      "2021-01-13 20:16:23 [INFO] idaes.init.fs.state_block: Phase equilibrium initialization: optimal - Optimal Solution Found.\n",
      "2021-01-13 20:16:24 [INFO] idaes.init.fs.state_block: Property initialization: optimal - Optimal Solution Found.\n",
      "2021-01-13 20:16:24 [INFO] idaes.init.fs.state_block: Property package initialization: optimal - Optimal Solution Found.\n",
      "2021-01-13 20:16:24 [WARNING] idaes.generic_models.properties.core.generic.generic_property: fs.properties phase Liq was not assigned a type. Using generic Phase object.\n",
      "2021-01-13 20:16:24 [WARNING] idaes.generic_models.properties.core.generic.generic_property: fs.properties phase Vap was not assigned a type. Using generic Phase object.\n",
      "2021-01-13 20:16:24 [WARNING] idaes.generic_models.properties.core.generic.generic_property: fs.properties component bmimPF6 was not assigned a type. Using generic Component object.\n",
      "2021-01-13 20:16:24 [WARNING] idaes.generic_models.properties.core.generic.generic_property: fs.properties component carbon_dioxide was not assigned a type. Using generic Component object.\n",
      "2021-01-13 20:16:24 [INFO] idaes.init.fs.state_block: Starting initialization\n",
      "2021-01-13 20:16:24 [INFO] idaes.init.fs.state_block: Dew and bubble point initialization: optimal - Optimal Solution Found.\n",
      "2021-01-13 20:16:24 [INFO] idaes.init.fs.state_block: Equilibrium temperature initialization completed.\n",
      "2021-01-13 20:16:24 [INFO] idaes.init.fs.state_block: State variable initialization completed.\n",
      "2021-01-13 20:16:24 [INFO] idaes.init.fs.state_block: Phase equilibrium initialization: optimal - Optimal Solution Found.\n",
      "2021-01-13 20:16:25 [INFO] idaes.init.fs.state_block: Property initialization: optimal - Optimal Solution Found.\n",
      "2021-01-13 20:16:25 [INFO] idaes.init.fs.state_block: Property package initialization: optimal - Optimal Solution Found.\n",
      "2021-01-13 20:16:25 [WARNING] idaes.generic_models.properties.core.generic.generic_property: fs.properties phase Liq was not assigned a type. Using generic Phase object.\n",
      "2021-01-13 20:16:25 [WARNING] idaes.generic_models.properties.core.generic.generic_property: fs.properties phase Vap was not assigned a type. Using generic Phase object.\n",
      "2021-01-13 20:16:25 [WARNING] idaes.generic_models.properties.core.generic.generic_property: fs.properties component bmimPF6 was not assigned a type. Using generic Component object.\n",
      "2021-01-13 20:16:25 [WARNING] idaes.generic_models.properties.core.generic.generic_property: fs.properties component carbon_dioxide was not assigned a type. Using generic Component object.\n",
      "2021-01-13 20:16:25 [INFO] idaes.init.fs.state_block: Starting initialization\n",
      "2021-01-13 20:16:25 [INFO] idaes.init.fs.state_block: Dew and bubble point initialization: optimal - Optimal Solution Found.\n",
      "2021-01-13 20:16:25 [INFO] idaes.init.fs.state_block: Equilibrium temperature initialization completed.\n",
      "2021-01-13 20:16:25 [INFO] idaes.init.fs.state_block: State variable initialization completed.\n",
      "2021-01-13 20:16:25 [INFO] idaes.init.fs.state_block: Phase equilibrium initialization: optimal - Optimal Solution Found.\n",
      "2021-01-13 20:16:26 [INFO] idaes.init.fs.state_block: Property initialization: optimal - Optimal Solution Found.\n",
      "2021-01-13 20:16:26 [INFO] idaes.init.fs.state_block: Property package initialization: optimal - Optimal Solution Found.\n",
      "2021-01-13 20:16:26 [WARNING] idaes.generic_models.properties.core.generic.generic_property: fs.properties phase Liq was not assigned a type. Using generic Phase object.\n",
      "2021-01-13 20:16:26 [WARNING] idaes.generic_models.properties.core.generic.generic_property: fs.properties phase Vap was not assigned a type. Using generic Phase object.\n"
     ]
    },
    {
     "name": "stdout",
     "output_type": "stream",
     "text": [
      "2021-01-13 20:16:26 [WARNING] idaes.generic_models.properties.core.generic.generic_property: fs.properties component bmimPF6 was not assigned a type. Using generic Component object.\n",
      "2021-01-13 20:16:26 [WARNING] idaes.generic_models.properties.core.generic.generic_property: fs.properties component carbon_dioxide was not assigned a type. Using generic Component object.\n",
      "2021-01-13 20:16:26 [INFO] idaes.init.fs.state_block: Starting initialization\n",
      "2021-01-13 20:16:26 [INFO] idaes.init.fs.state_block: Dew and bubble point initialization: optimal - Optimal Solution Found.\n",
      "2021-01-13 20:16:26 [INFO] idaes.init.fs.state_block: Equilibrium temperature initialization completed.\n",
      "2021-01-13 20:16:26 [INFO] idaes.init.fs.state_block: State variable initialization completed.\n",
      "2021-01-13 20:16:26 [INFO] idaes.init.fs.state_block: Phase equilibrium initialization: optimal - Optimal Solution Found.\n",
      "2021-01-13 20:16:26 [INFO] idaes.init.fs.state_block: Property initialization: optimal - Optimal Solution Found.\n",
      "2021-01-13 20:16:26 [INFO] idaes.init.fs.state_block: Property package initialization: optimal - Optimal Solution Found.\n",
      "2021-01-13 20:16:26 [WARNING] idaes.generic_models.properties.core.generic.generic_property: fs.properties phase Liq was not assigned a type. Using generic Phase object.\n",
      "2021-01-13 20:16:26 [WARNING] idaes.generic_models.properties.core.generic.generic_property: fs.properties phase Vap was not assigned a type. Using generic Phase object.\n",
      "2021-01-13 20:16:26 [WARNING] idaes.generic_models.properties.core.generic.generic_property: fs.properties component bmimPF6 was not assigned a type. Using generic Component object.\n",
      "2021-01-13 20:16:26 [WARNING] idaes.generic_models.properties.core.generic.generic_property: fs.properties component carbon_dioxide was not assigned a type. Using generic Component object.\n",
      "2021-01-13 20:16:27 [INFO] idaes.init.fs.state_block: Starting initialization\n",
      "2021-01-13 20:16:27 [INFO] idaes.init.fs.state_block: Dew and bubble point initialization: optimal - Optimal Solution Found.\n",
      "2021-01-13 20:16:27 [INFO] idaes.init.fs.state_block: Equilibrium temperature initialization completed.\n",
      "2021-01-13 20:16:27 [INFO] idaes.init.fs.state_block: State variable initialization completed.\n",
      "2021-01-13 20:16:27 [INFO] idaes.init.fs.state_block: Phase equilibrium initialization: optimal - Optimal Solution Found.\n",
      "2021-01-13 20:16:27 [INFO] idaes.init.fs.state_block: Property initialization: optimal - Optimal Solution Found.\n",
      "2021-01-13 20:16:27 [INFO] idaes.init.fs.state_block: Property package initialization: optimal - Optimal Solution Found.\n",
      "2021-01-13 20:16:27 [WARNING] idaes.generic_models.properties.core.generic.generic_property: fs.properties phase Liq was not assigned a type. Using generic Phase object.\n",
      "2021-01-13 20:16:27 [WARNING] idaes.generic_models.properties.core.generic.generic_property: fs.properties phase Vap was not assigned a type. Using generic Phase object.\n",
      "2021-01-13 20:16:27 [WARNING] idaes.generic_models.properties.core.generic.generic_property: fs.properties component bmimPF6 was not assigned a type. Using generic Component object.\n",
      "2021-01-13 20:16:27 [WARNING] idaes.generic_models.properties.core.generic.generic_property: fs.properties component carbon_dioxide was not assigned a type. Using generic Component object.\n",
      "2021-01-13 20:16:27 [INFO] idaes.init.fs.state_block: Starting initialization\n",
      "2021-01-13 20:16:28 [INFO] idaes.init.fs.state_block: Dew and bubble point initialization: optimal - Optimal Solution Found.\n",
      "2021-01-13 20:16:28 [INFO] idaes.init.fs.state_block: Equilibrium temperature initialization completed.\n",
      "2021-01-13 20:16:28 [INFO] idaes.init.fs.state_block: State variable initialization completed.\n",
      "2021-01-13 20:16:28 [INFO] idaes.init.fs.state_block: Phase equilibrium initialization: optimal - Optimal Solution Found.\n",
      "2021-01-13 20:16:28 [INFO] idaes.init.fs.state_block: Property initialization: optimal - Optimal Solution Found.\n",
      "2021-01-13 20:16:28 [INFO] idaes.init.fs.state_block: Property package initialization: optimal - Optimal Solution Found.\n",
      "2021-01-13 20:16:28 [WARNING] idaes.generic_models.properties.core.generic.generic_property: fs.properties phase Liq was not assigned a type. Using generic Phase object.\n",
      "2021-01-13 20:16:28 [WARNING] idaes.generic_models.properties.core.generic.generic_property: fs.properties phase Vap was not assigned a type. Using generic Phase object.\n",
      "2021-01-13 20:16:28 [WARNING] idaes.generic_models.properties.core.generic.generic_property: fs.properties component bmimPF6 was not assigned a type. Using generic Component object.\n",
      "2021-01-13 20:16:28 [WARNING] idaes.generic_models.properties.core.generic.generic_property: fs.properties component carbon_dioxide was not assigned a type. Using generic Component object.\n",
      "2021-01-13 20:16:28 [INFO] idaes.init.fs.state_block: Starting initialization\n",
      "2021-01-13 20:16:28 [INFO] idaes.init.fs.state_block: Dew and bubble point initialization: optimal - Optimal Solution Found.\n",
      "2021-01-13 20:16:28 [INFO] idaes.init.fs.state_block: Equilibrium temperature initialization completed.\n",
      "2021-01-13 20:16:28 [INFO] idaes.init.fs.state_block: State variable initialization completed.\n",
      "2021-01-13 20:16:29 [INFO] idaes.init.fs.state_block: Phase equilibrium initialization: optimal - Optimal Solution Found.\n",
      "2021-01-13 20:16:29 [INFO] idaes.init.fs.state_block: Property initialization: optimal - Optimal Solution Found.\n",
      "2021-01-13 20:16:29 [INFO] idaes.init.fs.state_block: Property package initialization: optimal - Optimal Solution Found.\n",
      "2021-01-13 20:16:29 [WARNING] idaes.generic_models.properties.core.generic.generic_property: fs.properties phase Liq was not assigned a type. Using generic Phase object.\n",
      "2021-01-13 20:16:29 [WARNING] idaes.generic_models.properties.core.generic.generic_property: fs.properties phase Vap was not assigned a type. Using generic Phase object.\n",
      "2021-01-13 20:16:29 [WARNING] idaes.generic_models.properties.core.generic.generic_property: fs.properties component bmimPF6 was not assigned a type. Using generic Component object.\n",
      "2021-01-13 20:16:29 [WARNING] idaes.generic_models.properties.core.generic.generic_property: fs.properties component carbon_dioxide was not assigned a type. Using generic Component object.\n",
      "2021-01-13 20:16:29 [INFO] idaes.init.fs.state_block: Starting initialization\n",
      "2021-01-13 20:16:29 [INFO] idaes.init.fs.state_block: Dew and bubble point initialization: optimal - Optimal Solution Found.\n",
      "2021-01-13 20:16:29 [INFO] idaes.init.fs.state_block: Equilibrium temperature initialization completed.\n",
      "2021-01-13 20:16:29 [INFO] idaes.init.fs.state_block: State variable initialization completed.\n",
      "2021-01-13 20:16:29 [INFO] idaes.init.fs.state_block: Phase equilibrium initialization: optimal - Optimal Solution Found.\n",
      "2021-01-13 20:16:30 [INFO] idaes.init.fs.state_block: Property initialization: optimal - Optimal Solution Found.\n",
      "2021-01-13 20:16:30 [INFO] idaes.init.fs.state_block: Property package initialization: optimal - Optimal Solution Found.\n",
      "2021-01-13 20:16:30 [WARNING] idaes.generic_models.properties.core.generic.generic_property: fs.properties phase Liq was not assigned a type. Using generic Phase object.\n",
      "2021-01-13 20:16:30 [WARNING] idaes.generic_models.properties.core.generic.generic_property: fs.properties phase Vap was not assigned a type. Using generic Phase object.\n",
      "2021-01-13 20:16:30 [WARNING] idaes.generic_models.properties.core.generic.generic_property: fs.properties component bmimPF6 was not assigned a type. Using generic Component object.\n",
      "2021-01-13 20:16:30 [WARNING] idaes.generic_models.properties.core.generic.generic_property: fs.properties component carbon_dioxide was not assigned a type. Using generic Component object.\n",
      "2021-01-13 20:16:30 [INFO] idaes.init.fs.state_block: Starting initialization\n",
      "2021-01-13 20:16:30 [INFO] idaes.init.fs.state_block: Dew and bubble point initialization: optimal - Optimal Solution Found.\n",
      "2021-01-13 20:16:30 [INFO] idaes.init.fs.state_block: Equilibrium temperature initialization completed.\n",
      "2021-01-13 20:16:30 [INFO] idaes.init.fs.state_block: State variable initialization completed.\n",
      "2021-01-13 20:16:30 [INFO] idaes.init.fs.state_block: Phase equilibrium initialization: optimal - Optimal Solution Found.\n"
     ]
    },
    {
     "name": "stdout",
     "output_type": "stream",
     "text": [
      "2021-01-13 20:16:30 [INFO] idaes.init.fs.state_block: Property initialization: optimal - Optimal Solution Found.\n",
      "2021-01-13 20:16:30 [INFO] idaes.init.fs.state_block: Property package initialization: optimal - Optimal Solution Found.\n",
      "2021-01-13 20:16:30 [WARNING] idaes.generic_models.properties.core.generic.generic_property: fs.properties phase Liq was not assigned a type. Using generic Phase object.\n",
      "2021-01-13 20:16:30 [WARNING] idaes.generic_models.properties.core.generic.generic_property: fs.properties phase Vap was not assigned a type. Using generic Phase object.\n",
      "2021-01-13 20:16:30 [WARNING] idaes.generic_models.properties.core.generic.generic_property: fs.properties component bmimPF6 was not assigned a type. Using generic Component object.\n",
      "2021-01-13 20:16:30 [WARNING] idaes.generic_models.properties.core.generic.generic_property: fs.properties component carbon_dioxide was not assigned a type. Using generic Component object.\n",
      "2021-01-13 20:16:31 [INFO] idaes.init.fs.state_block: Starting initialization\n",
      "2021-01-13 20:16:31 [INFO] idaes.init.fs.state_block: Dew and bubble point initialization: optimal - Optimal Solution Found.\n",
      "2021-01-13 20:16:31 [INFO] idaes.init.fs.state_block: Equilibrium temperature initialization completed.\n",
      "2021-01-13 20:16:31 [INFO] idaes.init.fs.state_block: State variable initialization completed.\n",
      "2021-01-13 20:16:31 [INFO] idaes.init.fs.state_block: Phase equilibrium initialization: optimal - Optimal Solution Found.\n",
      "2021-01-13 20:16:31 [INFO] idaes.init.fs.state_block: Property initialization: optimal - Optimal Solution Found.\n",
      "2021-01-13 20:16:31 [INFO] idaes.init.fs.state_block: Property package initialization: optimal - Optimal Solution Found.\n",
      "Ipopt 3.13.2: \n",
      "\n",
      "******************************************************************************\n",
      "This program contains Ipopt, a library for large-scale nonlinear optimization.\n",
      " Ipopt is released as open source code under the Eclipse Public License (EPL).\n",
      "         For more information visit http://projects.coin-or.org/Ipopt\n",
      "\n",
      "This version of Ipopt was compiled from source code available at\n",
      "    https://github.com/IDAES/Ipopt as part of the Institute for the Design of\n",
      "    Advanced Energy Systems Process Systems Engineering Framework (IDAES PSE\n",
      "    Framework) Copyright (c) 2018-2019. See https://github.com/IDAES/idaes-pse.\n",
      "\n",
      "This version of Ipopt was compiled using HSL, a collection of Fortran codes\n",
      "    for large-scale scientific computation.  All technical papers, sales and\n",
      "    publicity material resulting from use of the HSL codes within IPOPT must\n",
      "    contain the following acknowledgement:\n",
      "        HSL, a collection of Fortran codes for large-scale scientific\n",
      "        computation. See http://www.hsl.rl.ac.uk.\n",
      "******************************************************************************\n",
      "\n",
      "This is Ipopt version 3.13.2, running with linear solver ma27.\n",
      "\n",
      "Number of nonzeros in equality constraint Jacobian...:      648\n",
      "Number of nonzeros in inequality constraint Jacobian.:        0\n",
      "Number of nonzeros in Lagrangian Hessian.............:      576\n",
      "\n",
      "Total number of variables............................:      254\n",
      "                     variables with only lower bounds:      126\n",
      "                variables with lower and upper bounds:       90\n",
      "                     variables with only upper bounds:        0\n",
      "Total number of equality constraints.................:      252\n",
      "Total number of inequality constraints...............:        0\n",
      "        inequality constraints with only lower bounds:        0\n",
      "   inequality constraints with lower and upper bounds:        0\n",
      "        inequality constraints with only upper bounds:        0\n",
      "\n",
      "iter    objective    inf_pr   inf_du lg(mu)  ||d||  lg(rg) alpha_du alpha_pr  ls\n",
      "   0  0.0000000e+00 2.50e+01 4.00e-15  -1.0 0.00e+00    -  0.00e+00 0.00e+00   0\n",
      "   1  0.0000000e+00 1.72e+01 5.93e+01  -1.0 2.50e+01    -  2.60e-01 3.14e-01h  1\n",
      "   2  0.0000000e+00 3.51e+00 1.75e+01  -1.0 1.72e+01    -  9.39e-01 8.74e-01h  1\n",
      "   3  0.0000000e+00 1.94e+00 1.00e+02  -1.0 7.70e+00    -  7.95e-01 9.90e-01h  1\n",
      "   4  0.0000000e+00 8.58e-01 7.08e+03  -1.0 1.08e+00    -  3.78e-01 9.91e-01h  1\n",
      "   5  0.0000000e+00 2.37e-01 2.90e+01  -1.0 4.10e-01    -  1.00e+00 1.00e+00h  1\n",
      "   6  0.0000000e+00 2.15e-02 8.72e+04  -1.7 1.09e+00    -  8.96e-01 1.00e+00h  1\n",
      "   7  0.0000000e+00 4.67e-03 5.53e-01  -1.7 5.21e+00    -  1.00e+00 1.00e+00h  1\n",
      "   8  0.0000000e+00 3.05e-06 4.71e-04  -3.8 1.84e-01    -  1.00e+00 1.00e+00h  1\n",
      "   9  0.0000000e+00 9.19e-08 3.68e-06  -5.7 2.81e-02    -  1.00e+00 1.00e+00h  1\n",
      "iter    objective    inf_pr   inf_du lg(mu)  ||d||  lg(rg) alpha_du alpha_pr  ls\n",
      "  10  0.0000000e+00 1.14e-09 5.39e-09  -8.6 3.15e-03    -  1.00e+00 1.00e+00h  1\n",
      "\n",
      "Number of Iterations....: 10\n",
      "\n",
      "                                   (scaled)                 (unscaled)\n",
      "Objective...............:   0.0000000000000000e+00    0.0000000000000000e+00\n",
      "Dual infeasibility......:   5.3885884926192054e-09    5.3885884926192054e-09\n",
      "Constraint violation....:   1.1411431799501770e-09    1.1411431799501770e-09\n",
      "Complementarity.........:   2.5641135566989053e-09    2.5641135566989053e-09\n",
      "Overall NLP error.......:   5.3885884926192054e-09    5.3885884926192054e-09\n",
      "\n",
      "\n",
      "Number of objective function evaluations             = 11\n",
      "Number of objective gradient evaluations             = 11\n",
      "Number of equality constraint evaluations            = 11\n",
      "Number of inequality constraint evaluations          = 0\n",
      "Number of equality constraint Jacobian evaluations   = 11\n",
      "Number of inequality constraint Jacobian evaluations = 0\n",
      "Number of Lagrangian Hessian evaluations             = 10\n",
      "Total CPU secs in IPOPT (w/o function evaluations)   =      0.027\n",
      "Total CPU secs in NLP function evaluations           =      0.142\n",
      "\n",
      "EXIT: Optimal Solution Found.\n"
     ]
    }
   ],
   "source": [
    "pest = parmest.Estimator(PR_model, data, variable_name, SSE, tee=True)\n",
    "\n",
    "obj_value, parameters = pest.theta_est()"
   ]
  },
  {
   "cell_type": "markdown",
   "metadata": {},
   "source": [
    "## 5.0 Display results\n",
    "\n",
    "Let us display the results by running the next cell."
   ]
  },
  {
   "cell_type": "code",
   "execution_count": 7,
   "metadata": {},
   "outputs": [
    {
     "name": "stdout",
     "output_type": "stream",
     "text": [
      "The SSE at the optimal solution is 0.000000\n",
      "\n",
      "The values for the parameters are as follows:\n",
      "fs.properties.PR_kappa[('bmimPF6', 'carbon_dioxide')] = 0.05263549670092624\n",
      "fs.properties.PR_kappa[('carbon_dioxide', 'bmimPF6')] = 0.1833463348926212\n"
     ]
    }
   ],
   "source": [
    "print(\"The SSE at the optimal solution is %0.6f\" % obj_value)\n",
    "print()\n",
    "print(\"The values for the parameters are as follows:\")\n",
    "for k,v in parameters.items():\n",
    "    print(k, \"=\", v)"
   ]
  },
  {
   "cell_type": "markdown",
   "metadata": {},
   "source": [
    "Now we can use this parameters and include them in the configuration dictionary. We can also use `m.fs.properties = GenericParameterBlock(default=configuration)` to solve unit models."
   ]
  },
  {
   "cell_type": "code",
   "execution_count": null,
   "metadata": {},
   "outputs": [],
   "source": []
  }
 ],
 "metadata": {
  "kernelspec": {
   "display_name": "Python 3",
   "language": "python",
   "name": "python3"
  },
  "language_info": {
   "codemirror_mode": {
    "name": "ipython",
    "version": 3
   },
   "file_extension": ".py",
   "mimetype": "text/x-python",
   "name": "python",
   "nbconvert_exporter": "python",
   "pygments_lexer": "ipython3",
   "version": "3.7.9"
  }
 },
 "nbformat": 4,
 "nbformat_minor": 4
}
