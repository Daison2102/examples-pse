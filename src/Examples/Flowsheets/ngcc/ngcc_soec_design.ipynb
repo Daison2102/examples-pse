{
 "cells": [
  {
   "cell_type": "markdown",
   "id": "ea47b1b3-d6c7-49fa-b344-8865aeb850b1",
   "metadata": {},
   "source": [
    "# Design Flowsheet for NGCC + SOEC with Steam Integration\n",
    "\n",
    "This flowsheet example provides a design point model for integration of an SOEC for hydrogen production with an NGCC.  The NGCC nominally produces 650 MW net, and includeds 97% CO2 capture.  The SOEC unit model used here is only approriate for design point calculations.  Simulations of off-desing cases require it to be replaced by a more detailed model.  The SOEC desing point model is based on water utilization and basic mass and energy balances.  The numebr of cells is etimated from a given cell sized and a current density estimate provided by the user. \n",
    "\n",
    "This flowsheet can be used to determine design point performance, and to optimize the flowsheet design.  "
   ]
  },
  {
   "cell_type": "markdown",
   "id": "b06721d4-ded7-48cf-a38e-b4443102e5db",
   "metadata": {},
   "source": [
    "## Import Required Modules"
   ]
  },
  {
   "cell_type": "code",
   "execution_count": 1,
   "id": "5ed05fb5-01b5-4a8d-8ebc-32d02872b4b9",
   "metadata": {},
   "outputs": [],
   "source": [
    "import os\n",
    "import pytest\n",
    "from IPython.core.display import SVG\n",
    "import pyomo.environ as pyo\n",
    "from idaes.core.solvers import use_idaes_solver_configuration_defaults\n",
    "import idaes\n",
    "import idaes.core.util.scaling as iscale\n",
    "import idaes.core.util as iutil\n",
    "import ngcc_soec_design"
   ]
  },
  {
   "cell_type": "markdown",
   "id": "e63cc89f-56a7-4534-ae4f-cf0c6633727c",
   "metadata": {},
   "source": [
    "## Set Global Solver Options\n",
    "\n",
    "Setting global solver options applies them to any solver created subsequently, including the ones used for initialization.  The used scaling option disables Ipopt's automatic scaling and allows it to uses provided variable scaling."
   ]
  },
  {
   "cell_type": "code",
   "execution_count": 2,
   "id": "5a16e6b3-d6f3-4c78-ab28-4f5f17dffd4c",
   "metadata": {},
   "outputs": [],
   "source": [
    "use_idaes_solver_configuration_defaults()\n",
    "idaes.cfg.ipopt.options.nlp_scaling_method = \"user-scaling\"\n",
    "solver = pyo.SolverFactory(\"ipopt\")"
   ]
  },
  {
   "cell_type": "markdown",
   "id": "45568fa7-05dd-4711-8ae8-9a930cdd5304",
   "metadata": {},
   "source": [
    "## Create and Initialize the NGCC + SOEC Model"
   ]
  },
  {
   "cell_type": "code",
   "execution_count": 3,
   "id": "7f3b3574-5a1b-41f9-94b8-d15fec43d047",
   "metadata": {},
   "outputs": [],
   "source": [
    "m = pyo.ConcreteModel()\n",
    "m.fs = ngcc_soec_design.NgccSoecDesignFlowsheet(default={\"dynamic\":False})\n",
    "iscale.calculate_scaling_factors(m)\n",
    "m.fs.initialize(\n",
    "    load_from=\"ngcc_soec_design_init.json.gz\",\n",
    "    save_to=\"ngcc_soec_design_init.json.gz\"\n",
    ")"
   ]
  },
  {
   "cell_type": "markdown",
   "id": "9dd56556-1330-41e2-9e30-ccb7c17f7554",
   "metadata": {},
   "source": [
    "## Display the flowsheet section and save them to files"
   ]
  },
  {
   "cell_type": "code",
   "execution_count": null,
   "id": "3da8aa80-6562-4720-bc81-30ba14ba72b0",
   "metadata": {},
   "outputs": [],
   "source": [
    "def display_pfd():\n",
    "    print(\"\\n\\nGas Trubine Section\\n\")\n",
    "    display(SVG(m.fs.ngcc.gt.write_pfd()))\n",
    "    print(\"\\n\\nHRSG Section\\n\")\n",
    "    display(SVG(m.fs.ngcc.hrsg.write_pfd()))\n",
    "    print(\"\\n\\nSteam Turbine Section\\n\")\n",
    "    display(SVG(m.fs.ngcc.st.write_pfd()))\n",
    "    print(\"\\n\\nSOEC Section\\n\")\n",
    "    display(SVG(m.fs.soec.write_pfd()))\n",
    "\n",
    "m.fs.ngcc.gt.write_pfd(fname=\"data_pfds/gt_soec_design.svg\")\n",
    "m.fs.ngcc.hrsg.write_pfd(fname=\"data_pfds/hrsg_soec_design.svg\")\n",
    "m.fs.ngcc.st.write_pfd(fname=\"data_pfds/st_soec_design.svg\")\n",
    "m.fs.soec.write_pfd(fname=\"data_pfds/soec_soec_design.svg\")\n",
    "\n",
    "display_pfd()"
   ]
  },
  {
   "cell_type": "code",
   "execution_count": null,
   "id": "826e9f47-7ecf-4a82-856e-c5ba61d2b1dc",
   "metadata": {},
   "outputs": [],
   "source": [
    "m.fs.ngcc.lhv_efficiency.display()\n",
    "m.fs.ngcc.net_power.display()"
   ]
  },
  {
   "cell_type": "markdown",
   "id": "9b303335-b299-4742-a940-9f3b1abb807b",
   "metadata": {},
   "source": [
    "## Check a few values"
   ]
  },
  {
   "cell_type": "code",
   "execution_count": null,
   "id": "203a95a1-5dea-4339-9c26-9b020da35315",
   "metadata": {},
   "outputs": [],
   "source": [
    "assert pyo.value(m.fs.ngcc.lhv_efficiency[0]) == pytest.approx(0.52, rel=0.01)\n",
    "assert pyo.value(m.fs.soec.hstrm06.destination.flow_mol[0]) == pytest.approx(853.0, rel=0.01)"
   ]
  },
  {
   "cell_type": "markdown",
   "id": "59cd28be-2655-4176-aa88-8250d8e6866e",
   "metadata": {},
   "source": [
    "## Example: optimize some parameters\n",
    "\n",
    "Since the amount of steam and water utiliation are fixed and the gas turbine power is fixed, we can maximize the efficeny by maximizing the power out of the system.  The fuel use and hydrogen generation will be fixed.  The power output is negative, so minizing the net power is equivalent to maximizing efficiency."
   ]
  },
  {
   "cell_type": "code",
   "execution_count": null,
   "id": "cd0943eb-364d-41fe-be43-9182352f4cad",
   "metadata": {},
   "outputs": [],
   "source": [
    "m.fs.obj = pyo.Objective(expr=(m.fs.ngcc.net_power[0] + m.fs.soec.total_electric_power[0])/1e6)"
   ]
  },
  {
   "cell_type": "code",
   "execution_count": null,
   "id": "e3b4df61-3bb3-4e46-b74b-5629e70b839c",
   "metadata": {},
   "outputs": [],
   "source": [
    "decision_vars = []\n",
    "def make_decision_var(v, lb, ub):\n",
    "    v.unfix()\n",
    "    v.setlb(lb)\n",
    "    v.setub(ub)\n",
    "    decision_vars.append(v)\n",
    "\n",
    "make_decision_var(m.fs.soec.sweep_recycle_split.split_fraction[0, \"out\"], 0.80, 0.97)\n",
    "make_decision_var(m.fs.soec.feed_recycle_split.split_fraction[0, \"out\"], 0.80, 0.97)\n",
    "make_decision_var(m.fs.soec.water_split.split_fraction[0, \"outlet1\"], 0.4, 0.6)\n",
    "make_decision_var(m.fs.soec.sweep_turbine.control_volume.properties_out[0].pressure, 1.2e5, 2.5e5)\n",
    "m.fs.soec.sweep_turbine.ratioP[0].unfix()\n",
    "make_decision_var(m.fs.soec.water_heater02.area, 1400, 3000)\n",
    "make_decision_var(m.fs.soec.water_heater01.area, 1200, 2000)\n",
    "solver.solve(m, tee=True)"
   ]
  },
  {
   "cell_type": "code",
   "execution_count": null,
   "id": "171c9275-4070-44fb-9ba7-2fb51c191e3d",
   "metadata": {},
   "outputs": [],
   "source": [
    "print(f\"Overall net power: {-pyo.value(m.fs.obj)} MW\")\n",
    "for v in decision_vars:\n",
    "    print(f\"{v} {pyo.value(v)}\")"
   ]
  },
  {
   "cell_type": "markdown",
   "id": "5a49f8c6-7da4-43f8-aa83-c94dbbb5747b",
   "metadata": {},
   "source": [
    "## Check value\n",
    "\n",
    "Since we are not accounting for capital cost here, the heat exchanger area should be at the upper bound."
   ]
  },
  {
   "cell_type": "code",
   "execution_count": null,
   "id": "62b9e362-77b8-4f8b-ad81-9ccea5b58691",
   "metadata": {},
   "outputs": [],
   "source": [
    "assert pyo.value(m.fs.soec.water_heater02.area) == pytest.approx(3000, rel=0.01)"
   ]
  },
  {
   "cell_type": "markdown",
   "id": "7927673c-9724-4758-9c98-fc149ee80a78",
   "metadata": {},
   "source": [
    "## See PFDs after optimization"
   ]
  },
  {
   "cell_type": "code",
   "execution_count": null,
   "id": "9abd1e26-a251-4213-862a-29a61ff47ccb",
   "metadata": {},
   "outputs": [],
   "source": [
    "display_pfd()"
   ]
  },
  {
   "cell_type": "code",
   "execution_count": null,
   "id": "20083248-1962-46c1-9e1f-f90eb5421091",
   "metadata": {},
   "outputs": [],
   "source": []
  }
 ],
 "metadata": {
  "kernelspec": {
   "display_name": "Python 3",
   "language": "python",
   "name": "python3"
  },
  "language_info": {
   "codemirror_mode": {
    "name": "ipython",
    "version": 3
   },
   "file_extension": ".py",
   "mimetype": "text/x-python",
   "name": "python",
   "nbconvert_exporter": "python",
   "pygments_lexer": "ipython3",
   "version": "3.9.4"
  }
 },
 "nbformat": 4,
 "nbformat_minor": 5
}
