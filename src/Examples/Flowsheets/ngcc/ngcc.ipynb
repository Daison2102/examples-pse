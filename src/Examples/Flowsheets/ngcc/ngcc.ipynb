{
 "cells": [
  {
   "cell_type": "markdown",
   "id": "a9d7e2e8-7f9c-470a-a3d7-610379b126c5",
   "metadata": {},
   "source": [
    "# NGCC Turndown\n",
    "\n",
    "This notebook runs a series of net electric power outputs from 650 MW to 160 MW (about 100% to 25%) for an NGCC with 97% CO2 capture. The NGCC model is based on the NETL report \"Cost and Performance Baseline for Fossil Energy Plants Volume 1: Bituminous Coal and Natural Gas to Electricity.\" Sept 2019, Case B31B (https://www.netl.doe.gov/projects/files/CostAndPerformanceBaselineForFossilEnergyPlantsVol1BitumCoalAndNGtoElectBBRRev4-1_092419.pdf)."
   ]
  },
  {
   "cell_type": "markdown",
   "id": "5909e2f4-7e6b-4f4d-80f5-c0acf5e98b3a",
   "metadata": {},
   "source": [
    "## Imports\n",
    "\n",
    "Import the modules that will be used."
   ]
  },
  {
   "cell_type": "code",
   "execution_count": 1,
   "id": "0715f66d-7445-416d-ac0d-5f7b66109d02",
   "metadata": {},
   "outputs": [],
   "source": [
    "import os\n",
    "import numpy as np\n",
    "import pandas as pd\n",
    "from IPython.core.display import SVG\n",
    "import pyomo.environ as pyo\n",
    "import idaes\n",
    "from idaes.core.solvers import use_idaes_solver_configuration_defaults\n",
    "import idaes.core.util.scaling as iscale\n",
    "import idaes.core.util as iutil\n",
    "import ngcc\n",
    "import pytest"
   ]
  },
  {
   "cell_type": "markdown",
   "id": "3e9853f8-2379-424b-9d15-684ed134dcdb",
   "metadata": {},
   "source": [
    "## Global Solver Settings\n",
    "\n",
    "Using the IDAES configuration system for solver settings will apply these settings to all Ipopt solvers created, including the ones created in initialization methods."
   ]
  },
  {
   "cell_type": "code",
   "execution_count": 2,
   "id": "e1bd4274-e84e-447f-a08a-df579e202552",
   "metadata": {},
   "outputs": [],
   "source": [
    "use_idaes_solver_configuration_defaults()\n",
    "idaes.cfg.ipopt.options.nlp_scaling_method = \"user-scaling\"\n",
    "solver = pyo.SolverFactory(\"ipopt\")"
   ]
  },
  {
   "cell_type": "markdown",
   "id": "1b42f1c1-df27-4383-bb3f-89366e5b3631",
   "metadata": {},
   "source": [
    "## Create the NGCC model\n",
    "\n",
    "Create the NGCC model and initialize or read saved initialization.  The base initialized NGCC model is configured to mathc the baseline report."
   ]
  },
  {
   "cell_type": "code",
   "execution_count": null,
   "id": "4be93945-9de6-44c7-8c30-3b824b086b72",
   "metadata": {},
   "outputs": [
    {
     "name": "stdout",
     "output_type": "stream",
     "text": [
      "2022-03-10 21:08:07 [INFO] idaes.init.fs: NGCC load initial from data_init/ngcc_init.json.gz\n"
     ]
    }
   ],
   "source": [
    "m = pyo.ConcreteModel()\n",
    "m.fs = ngcc.NgccFlowsheet(default={\"dynamic\":False})\n",
    "iscale.calculate_scaling_factors(m)\n",
    "m.fs.initialize(\n",
    "    load_from=\"data_init/ngcc_init.json.gz\",\n",
    "    save_to=\"data_init/ngcc_init.json.gz\",\n",
    ")\n",
    "res = solver.solve(m, tee=True)"
   ]
  },
  {
   "cell_type": "markdown",
   "id": "07da5349-dfdb-4ba2-adbe-e1e585405d95",
   "metadata": {},
   "source": [
    "## Show PFDs with baseline results\n",
    "\n",
    "This displays PFDs in the notebook, and saves them to files.  The full NGCC model is too big to show in a single PFD, so they are broken into the three main sections, gas turbine, heat recovery steam generator (HRSG), and steam turbine."
   ]
  },
  {
   "cell_type": "code",
   "execution_count": null,
   "id": "7328df70-190f-4ff3-8992-e8c23fa646a6",
   "metadata": {},
   "outputs": [],
   "source": [
    "display(SVG(m.fs.gt.write_pfd()))\n",
    "display(SVG(m.fs.hrsg.write_pfd()))\n",
    "display(SVG(m.fs.st.write_pfd()))\n",
    "\n",
    "m.fs.gt.write_pfd(fname=\"data_pfds/gt_baseline.svg\")\n",
    "m.fs.hrsg.write_pfd(fname=\"data_pfds/hrsg_baseline.svg\")\n",
    "m.fs.st.write_pfd(fname=\"data_pfds/st_baseline.svg\")"
   ]
  },
  {
   "cell_type": "markdown",
   "id": "8650f31c-7dc6-4514-bb79-431b6448bb0f",
   "metadata": {},
   "source": [
    "## Show some key model outputs\n",
    "\n",
    "Show some key outputs to make sure the baseline model argrees with the baseline report."
   ]
  },
  {
   "cell_type": "code",
   "execution_count": null,
   "id": "dbd2d895-d39b-4b9b-ae26-e88271794f9a",
   "metadata": {},
   "outputs": [],
   "source": [
    "m.fs.gross_power.display()\n",
    "m.fs.gt.gt_power.display()\n",
    "m.fs.st.steam_turbine.power.display()\n",
    "m.fs.lhv_efficiency.display()\n",
    "\n",
    "#Assert results approximatly agree with baseline reoprt\n",
    "assert pyo.value(m.fs.gross_power[0]) == pytest.approx(-690e6, rel=0.001)\n",
    "assert pyo.value(100*m.fs.lhv_efficiency[0]) == pytest.approx(52.8, abs=0.1)\n",
    "assert pyo.value(m.fs.gt.gt_power[0]) == pytest.approx(-477e6, rel=0.001)"
   ]
  },
  {
   "cell_type": "markdown",
   "id": "2f698f63-395b-47af-b15a-11a4521f5867",
   "metadata": {},
   "source": [
    "## Run turndown cases 5 MW interval\n",
    "\n",
    "Here we set the CO2 capture rate to 97% and set the specific reboiler duty to PZ advanced solvent system. 160 MW net corresponds to a bit under 25% which is approximatly the minimum turndown for an F-Class NGCC.  This also tabulates the results in the NGCC tags_output tag group. "
   ]
  },
  {
   "cell_type": "code",
   "execution_count": null,
   "id": "ac00b64f-087a-41da-ac62-c24d71f13de2",
   "metadata": {},
   "outputs": [],
   "source": [
    "idaes.cfg.ipopt.options.tol = 1e-6\n",
    "idaes.cfg.ipopt.options.max_iter = 50\n",
    "idaes.cfg.ipopt.options.ma27_pivtol = 1e-2\n",
    "idaes.cfg.ipopt.options.halt_on_ampl_error = \"no\"\n",
    "solver = pyo.SolverFactory(\"ipopt\")\n",
    "\n",
    "m.fs.cap_specific_reboiler_duty.fix(2.4e6)\n",
    "m.fs.cap_fraction.fix(0.97)\n",
    "powers = np.linspace(650, 160, int((650 - 160)/5) + 1)\n",
    "\n",
    "df = pd.DataFrame(columns=m.fs.tags_output.table_heading())\n",
    "\n",
    "for p in powers:\n",
    "    print(p)\n",
    "    fname = f\"data/ngcc_{int(p)}.json.gz\"\n",
    "    if os.path.exists(fname):\n",
    "        iutil.from_json(m, fname=fname, wts=iutil.StoreSpec(suffix=False))\n",
    "    else:\n",
    "        m.fs.net_power_mw.fix(p)\n",
    "        res = solver.solve(m, tee=True, symbolic_solver_labels=True)\n",
    "        if not pyo.check_optimal_termination(res):\n",
    "            break\n",
    "        iutil.to_json(m, fname=fname)\n",
    "    df.loc[m.fs.tags_output[\"net_power\"].value] = m.fs.tags_output.table_row(numeric=True)"
   ]
  },
  {
   "cell_type": "markdown",
   "id": "a1eba932-37e5-42a2-9299-3586286ad30b",
   "metadata": {},
   "source": [
    "## Save turndown results\n",
    "\n",
    "Save the results to a CSV file and view the head and tail of the results data frame. "
   ]
  },
  {
   "cell_type": "code",
   "execution_count": null,
   "id": "bf054c17-2076-4542-98d5-8f035bb7a08b",
   "metadata": {},
   "outputs": [],
   "source": [
    "df.to_csv(\"data_tabulated/ngcc.csv\")\n",
    "df"
   ]
  },
  {
   "cell_type": "code",
   "execution_count": null,
   "id": "b7002b53-d810-46d9-b111-7b0380a7eb98",
   "metadata": {},
   "outputs": [],
   "source": []
  },
  {
   "cell_type": "code",
   "execution_count": null,
   "id": "c5660cee-e92c-499e-b88e-1494abea804e",
   "metadata": {},
   "outputs": [],
   "source": []
  },
  {
   "cell_type": "code",
   "execution_count": null,
   "id": "8d7c7581-667e-446f-94dd-6d86910dc1e0",
   "metadata": {},
   "outputs": [],
   "source": []
  }
 ],
 "metadata": {
  "kernelspec": {
   "display_name": "Python 3",
   "language": "python",
   "name": "python3"
  },
  "language_info": {
   "codemirror_mode": {
    "name": "ipython",
    "version": 3
   },
   "file_extension": ".py",
   "mimetype": "text/x-python",
   "name": "python",
   "nbconvert_exporter": "python",
   "pygments_lexer": "ipython3",
   "version": "3.9.4"
  }
 },
 "nbformat": 4,
 "nbformat_minor": 5
}
